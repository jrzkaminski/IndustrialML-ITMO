{
 "cells": [
  {
   "cell_type": "markdown",
   "metadata": {},
   "source": [
    "# Libs, data importing"
   ]
  },
  {
   "cell_type": "code",
   "execution_count": 1,
   "metadata": {},
   "outputs": [
    {
     "name": "stderr",
     "output_type": "stream",
     "text": [
      "/home/jerzy/.conda/envs/indml/lib/python3.9/site-packages/xgboost/compat.py:36: FutureWarning: pandas.Int64Index is deprecated and will be removed from pandas in a future version. Use pandas.Index with the appropriate dtype instead.\n",
      "  from pandas import MultiIndex, Int64Index\n"
     ]
    }
   ],
   "source": [
    "import numpy as np\n",
    "import pandas as pd\n",
    "import matplotlib.pyplot as plt\n",
    "import seaborn as sns\n",
    "\n",
    "# Plots\n",
    "# ==============================================================================\n",
    "import matplotlib.pyplot as plt\n",
    "import plotly.express as px\n",
    "plt.style.use('fivethirtyeight')\n",
    "plt.rcParams['lines.linewidth'] = 1.5\n",
    "%matplotlib inline\n",
    "\n",
    "# Modelling and Forecasting\n",
    "# ==============================================================================\n",
    "from xgboost import XGBRegressor\n",
    "from lightgbm import LGBMRegressor\n",
    "from catboost import CatBoostRegressor\n",
    "\n",
    "from rich.progress import track\n",
    "from datetime import date\n",
    "from joblib import dump, load\n",
    "\n",
    "# Configuration\n",
    "# ==============================================================================\n",
    "import warnings\n",
    "import holidays\n",
    "warnings.filterwarnings('ignore')\n",
    "\n"
   ]
  },
  {
   "cell_type": "code",
   "execution_count": 2,
   "metadata": {},
   "outputs": [],
   "source": [
    "data_train = pd.read_csv('/home/jerzy/Documents/IndustrialML/data/train_preprocessed.csv')\n",
    "data_train.drop('Unnamed: 0', axis=1, inplace=True)\n"
   ]
  },
  {
   "cell_type": "code",
   "execution_count": 3,
   "metadata": {},
   "outputs": [],
   "source": [
    "data_test = pd.read_csv('/home/jerzy/Documents/IndustrialML/data/test.csv')"
   ]
  },
  {
   "cell_type": "code",
   "execution_count": 4,
   "metadata": {},
   "outputs": [],
   "source": [
    "data_val = pd.read_csv('/home/jerzy/Documents/IndustrialML/data/valid.csv')\n",
    "# drop row 0101000020E610000000000000000000000000000000000000\n",
    "data_val = data_val[data_val['point'] != '0101000020E610000000000000000000000000000000000000']"
   ]
  },
  {
   "cell_type": "code",
   "execution_count": 5,
   "metadata": {},
   "outputs": [],
   "source": [
    "data_unique_points = data_train['point'].unique()\n",
    "test_unique_points = data_test['point'].unique()\n",
    "valid_unique_points = data_val['point'].unique()"
   ]
  },
  {
   "cell_type": "markdown",
   "metadata": {},
   "source": [
    "# Split data into year, month, day, hour and adding holidays, weekends, weekdays"
   ]
  },
  {
   "cell_type": "markdown",
   "metadata": {},
   "source": [
    "Add datetime column to test and valid datasets"
   ]
  },
  {
   "cell_type": "code",
   "execution_count": 6,
   "metadata": {},
   "outputs": [],
   "source": [
    "data_test['datetime'] = pd.to_datetime(data_test['hour'], unit='s')\n",
    "data_val['datetime'] = pd.to_datetime(data_val['hour'], unit='s')\n",
    "data_train['datetime'] = pd.to_datetime(data_train['time'])"
   ]
  },
  {
   "cell_type": "code",
   "execution_count": 7,
   "metadata": {},
   "outputs": [
    {
     "data": {
      "text/html": [
       "<div>\n",
       "<style scoped>\n",
       "    .dataframe tbody tr th:only-of-type {\n",
       "        vertical-align: middle;\n",
       "    }\n",
       "\n",
       "    .dataframe tbody tr th {\n",
       "        vertical-align: top;\n",
       "    }\n",
       "\n",
       "    .dataframe thead th {\n",
       "        text-align: right;\n",
       "    }\n",
       "</style>\n",
       "<table border=\"1\" class=\"dataframe\">\n",
       "  <thead>\n",
       "    <tr style=\"text-align: right;\">\n",
       "      <th></th>\n",
       "      <th>point</th>\n",
       "      <th>lon</th>\n",
       "      <th>lat</th>\n",
       "      <th>time</th>\n",
       "      <th>timestamp</th>\n",
       "      <th>num_posts</th>\n",
       "      <th>datetime</th>\n",
       "    </tr>\n",
       "  </thead>\n",
       "  <tbody>\n",
       "    <tr>\n",
       "      <th>0</th>\n",
       "      <td>0101000020E610000002A5EC7AB31D3E4097654065F8EA...</td>\n",
       "      <td>30.116020</td>\n",
       "      <td>59.835705</td>\n",
       "      <td>2019-11-22 11:00:00</td>\n",
       "      <td>1574420400</td>\n",
       "      <td>1</td>\n",
       "      <td>2019-11-22 11:00:00</td>\n",
       "    </tr>\n",
       "    <tr>\n",
       "      <th>1</th>\n",
       "      <td>0101000020E610000002A5EC7AB31D3E4097654065F8EA...</td>\n",
       "      <td>30.116020</td>\n",
       "      <td>59.835705</td>\n",
       "      <td>2019-11-22 12:00:00</td>\n",
       "      <td>1574424000</td>\n",
       "      <td>1</td>\n",
       "      <td>2019-11-22 12:00:00</td>\n",
       "    </tr>\n",
       "    <tr>\n",
       "      <th>2</th>\n",
       "      <td>0101000020E610000002A5EC7AB31D3E4097654065F8EA...</td>\n",
       "      <td>30.116020</td>\n",
       "      <td>59.835705</td>\n",
       "      <td>2019-11-23 13:00:00</td>\n",
       "      <td>1574514000</td>\n",
       "      <td>1</td>\n",
       "      <td>2019-11-23 13:00:00</td>\n",
       "    </tr>\n",
       "    <tr>\n",
       "      <th>3</th>\n",
       "      <td>0101000020E610000002A5EC7AB31D3E4097654065F8EA...</td>\n",
       "      <td>30.116020</td>\n",
       "      <td>59.835705</td>\n",
       "      <td>2019-11-25 16:00:00</td>\n",
       "      <td>1574697600</td>\n",
       "      <td>1</td>\n",
       "      <td>2019-11-25 16:00:00</td>\n",
       "    </tr>\n",
       "    <tr>\n",
       "      <th>4</th>\n",
       "      <td>0101000020E610000002A5EC7AB31D3E4097654065F8EA...</td>\n",
       "      <td>30.116020</td>\n",
       "      <td>59.835705</td>\n",
       "      <td>2019-11-27 10:00:00</td>\n",
       "      <td>1574848800</td>\n",
       "      <td>1</td>\n",
       "      <td>2019-11-27 10:00:00</td>\n",
       "    </tr>\n",
       "    <tr>\n",
       "      <th>...</th>\n",
       "      <td>...</td>\n",
       "      <td>...</td>\n",
       "      <td>...</td>\n",
       "      <td>...</td>\n",
       "      <td>...</td>\n",
       "      <td>...</td>\n",
       "      <td>...</td>\n",
       "    </tr>\n",
       "    <tr>\n",
       "      <th>3625651</th>\n",
       "      <td>0101000020E6100000FF9D4C0EC3853E4094782B2D0DF3...</td>\n",
       "      <td>30.522508</td>\n",
       "      <td>59.898840</td>\n",
       "      <td>2019-12-06 04:00:00</td>\n",
       "      <td>3151209600</td>\n",
       "      <td>2</td>\n",
       "      <td>2019-12-06 04:00:00</td>\n",
       "    </tr>\n",
       "    <tr>\n",
       "      <th>3625652</th>\n",
       "      <td>0101000020E6100000FF9D4C0EC3853E4094782B2D0DF3...</td>\n",
       "      <td>30.522508</td>\n",
       "      <td>59.898840</td>\n",
       "      <td>2019-12-23 08:00:00</td>\n",
       "      <td>1577088000</td>\n",
       "      <td>1</td>\n",
       "      <td>2019-12-23 08:00:00</td>\n",
       "    </tr>\n",
       "    <tr>\n",
       "      <th>3625653</th>\n",
       "      <td>0101000020E6100000FF9D4C0EC3853E40ABD94A1972EF...</td>\n",
       "      <td>30.522508</td>\n",
       "      <td>59.870670</td>\n",
       "      <td>2019-06-10 09:00:00</td>\n",
       "      <td>1560157200</td>\n",
       "      <td>1</td>\n",
       "      <td>2019-06-10 09:00:00</td>\n",
       "    </tr>\n",
       "    <tr>\n",
       "      <th>3625654</th>\n",
       "      <td>0101000020E6100000FF9D4C0EC3853E40ABD94A1972EF...</td>\n",
       "      <td>30.522508</td>\n",
       "      <td>59.870670</td>\n",
       "      <td>2019-10-06 14:00:00</td>\n",
       "      <td>1570370400</td>\n",
       "      <td>1</td>\n",
       "      <td>2019-10-06 14:00:00</td>\n",
       "    </tr>\n",
       "    <tr>\n",
       "      <th>3625655</th>\n",
       "      <td>0101000020E6100000FF9D4C0EC3853E40F2755E8979F2...</td>\n",
       "      <td>30.522508</td>\n",
       "      <td>59.894334</td>\n",
       "      <td>2019-08-16 10:00:00</td>\n",
       "      <td>1565949600</td>\n",
       "      <td>1</td>\n",
       "      <td>2019-08-16 10:00:00</td>\n",
       "    </tr>\n",
       "  </tbody>\n",
       "</table>\n",
       "<p>3625656 rows × 7 columns</p>\n",
       "</div>"
      ],
      "text/plain": [
       "                                                     point        lon  \\\n",
       "0        0101000020E610000002A5EC7AB31D3E4097654065F8EA...  30.116020   \n",
       "1        0101000020E610000002A5EC7AB31D3E4097654065F8EA...  30.116020   \n",
       "2        0101000020E610000002A5EC7AB31D3E4097654065F8EA...  30.116020   \n",
       "3        0101000020E610000002A5EC7AB31D3E4097654065F8EA...  30.116020   \n",
       "4        0101000020E610000002A5EC7AB31D3E4097654065F8EA...  30.116020   \n",
       "...                                                    ...        ...   \n",
       "3625651  0101000020E6100000FF9D4C0EC3853E4094782B2D0DF3...  30.522508   \n",
       "3625652  0101000020E6100000FF9D4C0EC3853E4094782B2D0DF3...  30.522508   \n",
       "3625653  0101000020E6100000FF9D4C0EC3853E40ABD94A1972EF...  30.522508   \n",
       "3625654  0101000020E6100000FF9D4C0EC3853E40ABD94A1972EF...  30.522508   \n",
       "3625655  0101000020E6100000FF9D4C0EC3853E40F2755E8979F2...  30.522508   \n",
       "\n",
       "               lat                 time   timestamp  num_posts  \\\n",
       "0        59.835705  2019-11-22 11:00:00  1574420400          1   \n",
       "1        59.835705  2019-11-22 12:00:00  1574424000          1   \n",
       "2        59.835705  2019-11-23 13:00:00  1574514000          1   \n",
       "3        59.835705  2019-11-25 16:00:00  1574697600          1   \n",
       "4        59.835705  2019-11-27 10:00:00  1574848800          1   \n",
       "...            ...                  ...         ...        ...   \n",
       "3625651  59.898840  2019-12-06 04:00:00  3151209600          2   \n",
       "3625652  59.898840  2019-12-23 08:00:00  1577088000          1   \n",
       "3625653  59.870670  2019-06-10 09:00:00  1560157200          1   \n",
       "3625654  59.870670  2019-10-06 14:00:00  1570370400          1   \n",
       "3625655  59.894334  2019-08-16 10:00:00  1565949600          1   \n",
       "\n",
       "                   datetime  \n",
       "0       2019-11-22 11:00:00  \n",
       "1       2019-11-22 12:00:00  \n",
       "2       2019-11-23 13:00:00  \n",
       "3       2019-11-25 16:00:00  \n",
       "4       2019-11-27 10:00:00  \n",
       "...                     ...  \n",
       "3625651 2019-12-06 04:00:00  \n",
       "3625652 2019-12-23 08:00:00  \n",
       "3625653 2019-06-10 09:00:00  \n",
       "3625654 2019-10-06 14:00:00  \n",
       "3625655 2019-08-16 10:00:00  \n",
       "\n",
       "[3625656 rows x 7 columns]"
      ]
     },
     "execution_count": 7,
     "metadata": {},
     "output_type": "execute_result"
    }
   ],
   "source": [
    "data_train"
   ]
  },
  {
   "cell_type": "markdown",
   "metadata": {},
   "source": [
    "Add yyyy, mm, dd, hh to test and valid"
   ]
  },
  {
   "cell_type": "code",
   "execution_count": 8,
   "metadata": {},
   "outputs": [],
   "source": [
    "data_train[\"dayhour\"] = data_train[\"datetime\"].dt.hour\n",
    "data_train[\"weekday\"] = data_train[\"datetime\"].dt.weekday\n",
    "\n",
    "data_test[\"dayhour\"] = data_test[\"datetime\"].dt.hour\n",
    "data_test[\"weekday\"] = data_test[\"datetime\"].dt.weekday\n",
    "\n",
    "data_val[\"dayhour\"] = data_val[\"datetime\"].dt.hour\n",
    "data_val[\"weekday\"] = data_val[\"datetime\"].dt.weekday"
   ]
  },
  {
   "cell_type": "markdown",
   "metadata": {},
   "source": [
    "Add holidays"
   ]
  },
  {
   "cell_type": "code",
   "execution_count": 9,
   "metadata": {},
   "outputs": [],
   "source": [
    "holidays_russia = holidays.country_holidays('RU', years = [2019, 2020])\n",
    "\n",
    "data_train['is_holiday'] = data_train['datetime'].apply(lambda x: 1 if x in holidays_russia else 0)\n",
    "data_test['is_holiday'] = data_test['datetime'].apply(lambda x: 1 if x in holidays_russia else 0)\n",
    "data_val['is_holiday'] = data_val['datetime'].apply(lambda x: 1 if x in holidays_russia else 0)"
   ]
  },
  {
   "cell_type": "code",
   "execution_count": 10,
   "metadata": {},
   "outputs": [],
   "source": [
    "data_train = data_train.drop(['time'], axis=1)"
   ]
  },
  {
   "cell_type": "markdown",
   "metadata": {},
   "source": [
    "# Regressions: catboost, lightgbm and xgboost"
   ]
  },
  {
   "cell_type": "code",
   "execution_count": 11,
   "metadata": {},
   "outputs": [],
   "source": [
    "# fig, ax = plt.subplots(figsize=(11, 4))\n",
    "\n",
    "# data_train[data_train['point'] == '0101000020E6100000DBC1F19351543E4006FC5DE561F84D40']['num_posts'].plot(ax=ax, label='train')\n",
    "# data_val[data_val['point'] == '0101000020E6100000DBC1F19351543E4006FC5DE561F84D40']['sum'].plot(ax=ax, label='validation')\n",
    "# data_test[data_test['point'] == '0101000020E6100000DBC1F19351543E4006FC5DE561F84D40']['sum'].plot(ax=ax, label='test')\n",
    "# ax.set_title('Number of users')\n",
    "# ax.legend();"
   ]
  },
  {
   "cell_type": "code",
   "execution_count": 12,
   "metadata": {},
   "outputs": [],
   "source": [
    "def custom_metric(y_true, y_pred):\n",
    "    return abs(y_true - y_pred) / y_pred\n",
    "\n",
    "def flatten(l):\n",
    "    return [item for sublist in l for item in sublist]\n",
    "\n",
    "def learn_regressor(data_train: pd.DataFrame, data_test: pd.DataFrame, model):\n",
    "\n",
    "    data_test_boost_prediction = []\n",
    "    data_test_boost_error = []\n",
    "    test_unique_points = data_test['point'].unique()\n",
    "\n",
    "    for point in track(test_unique_points, description='Learning'):\n",
    "        model = model\n",
    "        data_train_point = data_train[data_train['point'] == point]\n",
    "        data_test_point = data_test[data_test['point'] == point]\n",
    "\n",
    "        X_train = data_train_point[['timestamp', 'dayhour', 'weekday', 'is_holiday']]\n",
    "        y_train = data_train_point['num_posts']\n",
    "\n",
    "        X_test = data_test_point[['hour', 'dayhour', 'weekday', 'is_holiday']]\n",
    "        X_test = X_test.rename(columns={'hour': 'timestamp'})\n",
    "        y_test = data_test_point['sum']\n",
    "\n",
    "        model.fit(X_train, y_train)\n",
    "        y_pred = np.round(model.predict(X_test))\n",
    "        data_test_boost_prediction.append(y_pred)\n",
    "        data_test_boost_error.append(custom_metric(np.array(y_test), np.array(y_pred)))\n",
    "\n",
    "    return data_test_boost_error, data_test_boost_prediction\n"
   ]
  },
  {
   "cell_type": "markdown",
   "metadata": {},
   "source": [
    "## Mutual info score calculation"
   ]
  },
  {
   "cell_type": "code",
   "execution_count": 13,
   "metadata": {},
   "outputs": [
    {
     "data": {
      "application/vnd.jupyter.widget-view+json": {
       "model_id": "48355d8f3d72413a84383681a6e96a38",
       "version_major": 2,
       "version_minor": 0
      },
      "text/plain": [
       "Output()"
      ]
     },
     "metadata": {},
     "output_type": "display_data"
    },
    {
     "data": {
      "text/html": [
       "<pre style=\"white-space:pre;overflow-x:auto;line-height:normal;font-family:Menlo,'DejaVu Sans Mono',consolas,'Courier New',monospace\"></pre>\n"
      ],
      "text/plain": []
     },
     "metadata": {},
     "output_type": "display_data"
    },
    {
     "data": {
      "text/html": [
       "<pre style=\"white-space:pre;overflow-x:auto;line-height:normal;font-family:Menlo,'DejaVu Sans Mono',consolas,'Courier New',monospace\">\n",
       "</pre>\n"
      ],
      "text/plain": [
       "\n"
      ]
     },
     "metadata": {},
     "output_type": "display_data"
    }
   ],
   "source": [
    "from sklearn.metrics import mutual_info_score\n",
    "\n",
    "def mutual_info_matrix(data):\n",
    "    mi_matrix = pd.DataFrame(index=data.columns, columns=data.columns)\n",
    "    for i in track(data.columns, description='Calculating MI matrix'):\n",
    "        for j in data.columns:\n",
    "            mi_matrix.loc[i, j] = round(float(mutual_info_score(data[i], data[j])), 2)\n",
    "    return mi_matrix\n",
    "\n",
    "mi_train = mutual_info_matrix(data_train)\n",
    "\n",
    "# convert all columns to float \n",
    "mi_train = mi_train.astype(float)"
   ]
  },
  {
   "cell_type": "code",
   "execution_count": 14,
   "metadata": {},
   "outputs": [
    {
     "data": {
      "text/plain": [
       "<AxesSubplot:>"
      ]
     },
     "execution_count": 14,
     "metadata": {},
     "output_type": "execute_result"
    },
    {
     "data": {
      "image/png": "[encoded data removed]",
      "text/plain": [
       "<Figure size 1000x1000 with 2 Axes>"
      ]
     },
     "metadata": {},
     "output_type": "display_data"
    }
   ],
   "source": [
    "fig, ax = plt.subplots(figsize=(10,10))  \n",
    "sns.heatmap(mi_train, annot=True, cmap='Blues')"
   ]
  },
  {
   "cell_type": "code",
   "execution_count": 15,
   "metadata": {},
   "outputs": [
    {
     "data": {
      "text/plain": [
       "<AxesSubplot:>"
      ]
     },
     "execution_count": 15,
     "metadata": {},
     "output_type": "execute_result"
    },
    {
     "data": {
      "image/png": "[encoded data removed]",
      "text/plain": [
       "<Figure size 1000x1000 with 2 Axes>"
      ]
     },
     "metadata": {},
     "output_type": "display_data"
    }
   ],
   "source": [
    "# correlation heatmap\n",
    "# =================================================================================\\\n",
    "corr = data_train.corr()\n",
    "fig, ax = plt.subplots(figsize=(10,10))\n",
    "sns.heatmap(corr, annot=True, fmt='.2g',cmap='Blues')"
   ]
  },
  {
   "cell_type": "markdown",
   "metadata": {},
   "source": [
    "## XGBoost"
   ]
  },
  {
   "cell_type": "markdown",
   "metadata": {},
   "source": [
    "### test data\n",
    "\n",
    "time = 36.2 s\n",
    "\n",
    "error = 8.6828"
   ]
  },
  {
   "cell_type": "code",
   "execution_count": 16,
   "metadata": {},
   "outputs": [
    {
     "data": {
      "application/vnd.jupyter.widget-view+json": {
       "model_id": "e46fa2f731004e778d3dfde3fb89d52e",
       "version_major": 2,
       "version_minor": 0
      },
      "text/plain": [
       "Output()"
      ]
     },
     "metadata": {},
     "output_type": "display_data"
    },
    {
     "data": {
      "text/html": [
       "<pre style=\"white-space:pre;overflow-x:auto;line-height:normal;font-family:Menlo,'DejaVu Sans Mono',consolas,'Courier New',monospace\"></pre>\n"
      ],
      "text/plain": []
     },
     "metadata": {},
     "output_type": "display_data"
    },
    {
     "data": {
      "text/html": [
       "<pre style=\"white-space:pre;overflow-x:auto;line-height:normal;font-family:Menlo,'DejaVu Sans Mono',consolas,'Courier New',monospace\">\n",
       "</pre>\n"
      ],
      "text/plain": [
       "\n"
      ]
     },
     "metadata": {},
     "output_type": "display_data"
    },
    {
     "name": "stdout",
     "output_type": "stream",
     "text": [
      "CPU times: user 6min 52s, sys: 825 ms, total: 6min 52s\n",
      "Wall time: 44.1 s\n"
     ]
    },
    {
     "data": {
      "text/plain": [
       "8.682857142857143"
      ]
     },
     "execution_count": 16,
     "metadata": {},
     "output_type": "execute_result"
    }
   ],
   "source": [
    "%%time\n",
    "data_test_xgboost_error, data_test_xgboost_predictions = learn_regressor(data_train, data_test, XGBRegressor())\n",
    "data_test_xgboost_error = flatten(data_test_xgboost_error)\n",
    "data_test_xgboost_predictions = flatten(data_test_xgboost_predictions)\n",
    "data_test['xgboost_predictions'] = data_test_xgboost_predictions\n",
    "data_test['xgboost_error'] = data_test_xgboost_error\n",
    "data_test['xgboost_error'].mean()"
   ]
  },
  {
   "cell_type": "code",
   "execution_count": 17,
   "metadata": {},
   "outputs": [
    {
     "data": {
      "text/html": [
       "<div>\n",
       "<style scoped>\n",
       "    .dataframe tbody tr th:only-of-type {\n",
       "        vertical-align: middle;\n",
       "    }\n",
       "\n",
       "    .dataframe tbody tr th {\n",
       "        vertical-align: top;\n",
       "    }\n",
       "\n",
       "    .dataframe thead th {\n",
       "        text-align: right;\n",
       "    }\n",
       "</style>\n",
       "<table border=\"1\" class=\"dataframe\">\n",
       "  <thead>\n",
       "    <tr style=\"text-align: right;\">\n",
       "      <th></th>\n",
       "      <th>hour</th>\n",
       "      <th>lat</th>\n",
       "      <th>lon</th>\n",
       "      <th>point</th>\n",
       "      <th>sum</th>\n",
       "      <th>error</th>\n",
       "      <th>datetime</th>\n",
       "      <th>dayhour</th>\n",
       "      <th>weekday</th>\n",
       "      <th>is_holiday</th>\n",
       "      <th>xgboost_predictions</th>\n",
       "      <th>xgboost_error</th>\n",
       "    </tr>\n",
       "  </thead>\n",
       "  <tbody>\n",
       "    <tr>\n",
       "      <th>0</th>\n",
       "      <td>1582711200</td>\n",
       "      <td>59.934863</td>\n",
       "      <td>30.331616</td>\n",
       "      <td>0101000020E61000009BAC04C2E4543E40DB251193A9F7...</td>\n",
       "      <td>7</td>\n",
       "      <td>0.370265</td>\n",
       "      <td>2020-02-26 10:00:00</td>\n",
       "      <td>10</td>\n",
       "      <td>2</td>\n",
       "      <td>0</td>\n",
       "      <td>1.0</td>\n",
       "      <td>6.0</td>\n",
       "    </tr>\n",
       "    <tr>\n",
       "      <th>1</th>\n",
       "      <td>1581937200</td>\n",
       "      <td>59.940488</td>\n",
       "      <td>30.329370</td>\n",
       "      <td>0101000020E6100000DBC1F19351543E4006FC5DE561F8...</td>\n",
       "      <td>6</td>\n",
       "      <td>0.754735</td>\n",
       "      <td>2020-02-17 11:00:00</td>\n",
       "      <td>11</td>\n",
       "      <td>0</td>\n",
       "      <td>0</td>\n",
       "      <td>1.0</td>\n",
       "      <td>5.0</td>\n",
       "    </tr>\n",
       "    <tr>\n",
       "      <th>2</th>\n",
       "      <td>1581523200</td>\n",
       "      <td>59.905597</td>\n",
       "      <td>30.297929</td>\n",
       "      <td>0101000020E61000006AEBE80E454C3E407F614299EAF3...</td>\n",
       "      <td>5</td>\n",
       "      <td>3.754735</td>\n",
       "      <td>2020-02-12 16:00:00</td>\n",
       "      <td>16</td>\n",
       "      <td>2</td>\n",
       "      <td>0</td>\n",
       "      <td>1.0</td>\n",
       "      <td>4.0</td>\n",
       "    </tr>\n",
       "    <tr>\n",
       "      <th>3</th>\n",
       "      <td>1581512400</td>\n",
       "      <td>59.921359</td>\n",
       "      <td>30.356319</td>\n",
       "      <td>0101000020E6100000CFC2D4BC375B3E401FBF4913EFF5...</td>\n",
       "      <td>16</td>\n",
       "      <td>4.088069</td>\n",
       "      <td>2020-02-12 13:00:00</td>\n",
       "      <td>13</td>\n",
       "      <td>2</td>\n",
       "      <td>0</td>\n",
       "      <td>1.0</td>\n",
       "      <td>4.0</td>\n",
       "    </tr>\n",
       "    <tr>\n",
       "      <th>4</th>\n",
       "      <td>1581771600</td>\n",
       "      <td>59.939363</td>\n",
       "      <td>30.315895</td>\n",
       "      <td>0101000020E61000006141807FDE503E40A554BF083DF8...</td>\n",
       "      <td>10</td>\n",
       "      <td>2.088069</td>\n",
       "      <td>2020-02-15 13:00:00</td>\n",
       "      <td>13</td>\n",
       "      <td>5</td>\n",
       "      <td>0</td>\n",
       "      <td>1.0</td>\n",
       "      <td>5.0</td>\n",
       "    </tr>\n",
       "    <tr>\n",
       "      <th>...</th>\n",
       "      <td>...</td>\n",
       "      <td>...</td>\n",
       "      <td>...</td>\n",
       "      <td>...</td>\n",
       "      <td>...</td>\n",
       "      <td>...</td>\n",
       "      <td>...</td>\n",
       "      <td>...</td>\n",
       "      <td>...</td>\n",
       "      <td>...</td>\n",
       "      <td>...</td>\n",
       "      <td>...</td>\n",
       "    </tr>\n",
       "    <tr>\n",
       "      <th>695</th>\n",
       "      <td>1582059600</td>\n",
       "      <td>59.926986</td>\n",
       "      <td>30.331616</td>\n",
       "      <td>0101000020E61000009BAC04C2E4543E4070B5CC78A7F6...</td>\n",
       "      <td>6</td>\n",
       "      <td>0.754735</td>\n",
       "      <td>2020-02-18 21:00:00</td>\n",
       "      <td>21</td>\n",
       "      <td>1</td>\n",
       "      <td>0</td>\n",
       "      <td>1.0</td>\n",
       "      <td>4.0</td>\n",
       "    </tr>\n",
       "    <tr>\n",
       "      <th>696</th>\n",
       "      <td>1582038000</td>\n",
       "      <td>59.925860</td>\n",
       "      <td>30.295683</td>\n",
       "      <td>0101000020E6100000AB00D6E0B14B3E406379569882F6...</td>\n",
       "      <td>15</td>\n",
       "      <td>1.215399</td>\n",
       "      <td>2020-02-18 15:00:00</td>\n",
       "      <td>15</td>\n",
       "      <td>1</td>\n",
       "      <td>0</td>\n",
       "      <td>1.0</td>\n",
       "      <td>5.0</td>\n",
       "    </tr>\n",
       "    <tr>\n",
       "      <th>697</th>\n",
       "      <td>1581926400</td>\n",
       "      <td>59.937113</td>\n",
       "      <td>30.282208</td>\n",
       "      <td>0101000020E6100000328064CC3E483E400C288C4EF3F7...</td>\n",
       "      <td>20</td>\n",
       "      <td>18.754735</td>\n",
       "      <td>2020-02-17 08:00:00</td>\n",
       "      <td>8</td>\n",
       "      <td>0</td>\n",
       "      <td>0</td>\n",
       "      <td>1.0</td>\n",
       "      <td>6.0</td>\n",
       "    </tr>\n",
       "    <tr>\n",
       "      <th>698</th>\n",
       "      <td>1582099200</td>\n",
       "      <td>59.933737</td>\n",
       "      <td>30.322632</td>\n",
       "      <td>0101000020E61000009E01B90998523E407AB3D8B484F7...</td>\n",
       "      <td>8</td>\n",
       "      <td>2.754735</td>\n",
       "      <td>2020-02-19 08:00:00</td>\n",
       "      <td>8</td>\n",
       "      <td>2</td>\n",
       "      <td>0</td>\n",
       "      <td>1.0</td>\n",
       "      <td>4.0</td>\n",
       "    </tr>\n",
       "    <tr>\n",
       "      <th>699</th>\n",
       "      <td>1581764400</td>\n",
       "      <td>59.921359</td>\n",
       "      <td>30.356319</td>\n",
       "      <td>0101000020E6100000CFC2D4BC375B3E401FBF4913EFF5...</td>\n",
       "      <td>12</td>\n",
       "      <td>0.254735</td>\n",
       "      <td>2020-02-15 11:00:00</td>\n",
       "      <td>11</td>\n",
       "      <td>5</td>\n",
       "      <td>0</td>\n",
       "      <td>1.0</td>\n",
       "      <td>5.0</td>\n",
       "    </tr>\n",
       "  </tbody>\n",
       "</table>\n",
       "<p>700 rows × 12 columns</p>\n",
       "</div>"
      ],
      "text/plain": [
       "           hour        lat        lon  \\\n",
       "0    1582711200  59.934863  30.331616   \n",
       "1    1581937200  59.940488  30.329370   \n",
       "2    1581523200  59.905597  30.297929   \n",
       "3    1581512400  59.921359  30.356319   \n",
       "4    1581771600  59.939363  30.315895   \n",
       "..          ...        ...        ...   \n",
       "695  1582059600  59.926986  30.331616   \n",
       "696  1582038000  59.925860  30.295683   \n",
       "697  1581926400  59.937113  30.282208   \n",
       "698  1582099200  59.933737  30.322632   \n",
       "699  1581764400  59.921359  30.356319   \n",
       "\n",
       "                                                 point  sum      error  \\\n",
       "0    0101000020E61000009BAC04C2E4543E40DB251193A9F7...    7   0.370265   \n",
       "1    0101000020E6100000DBC1F19351543E4006FC5DE561F8...    6   0.754735   \n",
       "2    0101000020E61000006AEBE80E454C3E407F614299EAF3...    5   3.754735   \n",
       "3    0101000020E6100000CFC2D4BC375B3E401FBF4913EFF5...   16   4.088069   \n",
       "4    0101000020E61000006141807FDE503E40A554BF083DF8...   10   2.088069   \n",
       "..                                                 ...  ...        ...   \n",
       "695  0101000020E61000009BAC04C2E4543E4070B5CC78A7F6...    6   0.754735   \n",
       "696  0101000020E6100000AB00D6E0B14B3E406379569882F6...   15   1.215399   \n",
       "697  0101000020E6100000328064CC3E483E400C288C4EF3F7...   20  18.754735   \n",
       "698  0101000020E61000009E01B90998523E407AB3D8B484F7...    8   2.754735   \n",
       "699  0101000020E6100000CFC2D4BC375B3E401FBF4913EFF5...   12   0.254735   \n",
       "\n",
       "               datetime  dayhour  weekday  is_holiday  xgboost_predictions  \\\n",
       "0   2020-02-26 10:00:00       10        2           0                  1.0   \n",
       "1   2020-02-17 11:00:00       11        0           0                  1.0   \n",
       "2   2020-02-12 16:00:00       16        2           0                  1.0   \n",
       "3   2020-02-12 13:00:00       13        2           0                  1.0   \n",
       "4   2020-02-15 13:00:00       13        5           0                  1.0   \n",
       "..                  ...      ...      ...         ...                  ...   \n",
       "695 2020-02-18 21:00:00       21        1           0                  1.0   \n",
       "696 2020-02-18 15:00:00       15        1           0                  1.0   \n",
       "697 2020-02-17 08:00:00        8        0           0                  1.0   \n",
       "698 2020-02-19 08:00:00        8        2           0                  1.0   \n",
       "699 2020-02-15 11:00:00       11        5           0                  1.0   \n",
       "\n",
       "     xgboost_error  \n",
       "0              6.0  \n",
       "1              5.0  \n",
       "2              4.0  \n",
       "3              4.0  \n",
       "4              5.0  \n",
       "..             ...  \n",
       "695            4.0  \n",
       "696            5.0  \n",
       "697            6.0  \n",
       "698            4.0  \n",
       "699            5.0  \n",
       "\n",
       "[700 rows x 12 columns]"
      ]
     },
     "execution_count": 17,
     "metadata": {},
     "output_type": "execute_result"
    }
   ],
   "source": [
    "data_test"
   ]
  },
  {
   "cell_type": "markdown",
   "metadata": {},
   "source": [
    "### validation data\n",
    "\n",
    "time = 37.2 s\n",
    "\n",
    "error = 8.84839"
   ]
  },
  {
   "cell_type": "code",
   "execution_count": 18,
   "metadata": {},
   "outputs": [
    {
     "data": {
      "application/vnd.jupyter.widget-view+json": {
       "model_id": "06973b7c3c1243bc8574ba17268b0643",
       "version_major": 2,
       "version_minor": 0
      },
      "text/plain": [
       "Output()"
      ]
     },
     "metadata": {},
     "output_type": "display_data"
    },
    {
     "data": {
      "text/html": [
       "<pre style=\"white-space:pre;overflow-x:auto;line-height:normal;font-family:Menlo,'DejaVu Sans Mono',consolas,'Courier New',monospace\"></pre>\n"
      ],
      "text/plain": []
     },
     "metadata": {},
     "output_type": "display_data"
    },
    {
     "data": {
      "text/html": [
       "<pre style=\"white-space:pre;overflow-x:auto;line-height:normal;font-family:Menlo,'DejaVu Sans Mono',consolas,'Courier New',monospace\">\n",
       "</pre>\n"
      ],
      "text/plain": [
       "\n"
      ]
     },
     "metadata": {},
     "output_type": "display_data"
    },
    {
     "name": "stdout",
     "output_type": "stream",
     "text": [
      "CPU times: user 4min 14s, sys: 469 ms, total: 4min 14s\n",
      "Wall time: 33.4 s\n"
     ]
    },
    {
     "data": {
      "text/plain": [
       "8.848396501457726"
      ]
     },
     "execution_count": 18,
     "metadata": {},
     "output_type": "execute_result"
    }
   ],
   "source": [
    "%%time\n",
    "data_val_xgboost_error, data_val_xgboost_predictions = learn_regressor(data_train, data_val, XGBRegressor())\n",
    "data_val_xgboost_error = flatten(data_val_xgboost_error)\n",
    "data_val_xgboost_predictions = flatten(data_val_xgboost_predictions)\n",
    "data_val['xgboost_predictions'] = data_val_xgboost_predictions\n",
    "data_val['xgboost_error'] = data_val_xgboost_error\n",
    "data_val['xgboost_error'].mean()"
   ]
  },
  {
   "cell_type": "markdown",
   "metadata": {},
   "source": [
    "## CatBoost "
   ]
  },
  {
   "cell_type": "code",
   "execution_count": 19,
   "metadata": {},
   "outputs": [],
   "source": [
    "# "
   ]
  },
  {
   "cell_type": "markdown",
   "metadata": {},
   "source": [
    "### test data\n",
    "\n",
    "time = 121.6 s\n",
    "\n",
    "error = 1min 53s"
   ]
  },
  {
   "cell_type": "code",
   "execution_count": 20,
   "metadata": {},
   "outputs": [
    {
     "data": {
      "application/vnd.jupyter.widget-view+json": {
       "model_id": "89d0193a26d142e492650411575801e0",
       "version_major": 2,
       "version_minor": 0
      },
      "text/plain": [
       "Output()"
      ]
     },
     "metadata": {},
     "output_type": "display_data"
    },
    {
     "data": {
      "text/html": [
       "<pre style=\"white-space:pre;overflow-x:auto;line-height:normal;font-family:Menlo,'DejaVu Sans Mono',consolas,'Courier New',monospace\"></pre>\n"
      ],
      "text/plain": []
     },
     "metadata": {},
     "output_type": "display_data"
    },
    {
     "data": {
      "text/html": [
       "<pre style=\"white-space:pre;overflow-x:auto;line-height:normal;font-family:Menlo,'DejaVu Sans Mono',consolas,'Courier New',monospace\">\n",
       "</pre>\n"
      ],
      "text/plain": [
       "\n"
      ]
     },
     "metadata": {},
     "output_type": "display_data"
    },
    {
     "name": "stdout",
     "output_type": "stream",
     "text": [
      "CPU times: user 15min 3s, sys: 2min 35s, total: 17min 38s\n",
      "Wall time: 1min 53s\n"
     ]
    },
    {
     "data": {
      "text/plain": [
       "7.697857142857143"
      ]
     },
     "execution_count": 20,
     "metadata": {},
     "output_type": "execute_result"
    }
   ],
   "source": [
    "%%time\n",
    "data_test_catboost_error, data_test_catboost_predictions = learn_regressor(data_train, data_test, CatBoostRegressor(silent=True))\n",
    "data_test_catboost_error = flatten(data_test_catboost_error)\n",
    "data_test_catboost_predictions = flatten(data_test_catboost_predictions)\n",
    "data_test['catboost_predictions'] = data_test_catboost_predictions\n",
    "data_test['catboost_error'] = data_test_catboost_error\n",
    "data_test['catboost_error'].mean()\n"
   ]
  },
  {
   "cell_type": "markdown",
   "metadata": {},
   "source": [
    "### validation data\n",
    "\n",
    "time = 124.9 s\n",
    "\n",
    "error = 7.8411"
   ]
  },
  {
   "cell_type": "code",
   "execution_count": 21,
   "metadata": {},
   "outputs": [
    {
     "data": {
      "application/vnd.jupyter.widget-view+json": {
       "model_id": "afecc558b7fc45c68222546a3a9e6c93",
       "version_major": 2,
       "version_minor": 0
      },
      "text/plain": [
       "Output()"
      ]
     },
     "metadata": {},
     "output_type": "display_data"
    },
    {
     "data": {
      "text/html": [
       "<pre style=\"white-space:pre;overflow-x:auto;line-height:normal;font-family:Menlo,'DejaVu Sans Mono',consolas,'Courier New',monospace\"></pre>\n"
      ],
      "text/plain": []
     },
     "metadata": {},
     "output_type": "display_data"
    },
    {
     "data": {
      "text/html": [
       "<pre style=\"white-space:pre;overflow-x:auto;line-height:normal;font-family:Menlo,'DejaVu Sans Mono',consolas,'Courier New',monospace\">\n",
       "</pre>\n"
      ],
      "text/plain": [
       "\n"
      ]
     },
     "metadata": {},
     "output_type": "display_data"
    },
    {
     "name": "stdout",
     "output_type": "stream",
     "text": [
      "CPU times: user 15min 27s, sys: 2min 40s, total: 18min 7s\n",
      "Wall time: 1min 56s\n"
     ]
    },
    {
     "data": {
      "text/plain": [
       "7.841107871720117"
      ]
     },
     "execution_count": 21,
     "metadata": {},
     "output_type": "execute_result"
    }
   ],
   "source": [
    "%%time\n",
    "data_val_catboost_error, data_val_catboost_predictions = learn_regressor(data_train, data_val, CatBoostRegressor(silent=True))\n",
    "data_val_catboost_error = flatten(data_val_catboost_error)\n",
    "data_val_catboost_predictions = flatten(data_val_catboost_predictions)\n",
    "data_val['catboost_predictions'] = data_val_catboost_predictions\n",
    "data_val['catboost_error'] = data_val_catboost_error\n",
    "data_val['catboost_error'].mean()\n"
   ]
  },
  {
   "cell_type": "markdown",
   "metadata": {},
   "source": [
    "## LightGBM"
   ]
  },
  {
   "cell_type": "markdown",
   "metadata": {},
   "source": [
    "### test data\n",
    "\n",
    "time = 27 s\n",
    "\n",
    "error = 7.01214"
   ]
  },
  {
   "cell_type": "code",
   "execution_count": 22,
   "metadata": {},
   "outputs": [
    {
     "data": {
      "application/vnd.jupyter.widget-view+json": {
       "model_id": "78ac064791c4477688a1417d63aad21b",
       "version_major": 2,
       "version_minor": 0
      },
      "text/plain": [
       "Output()"
      ]
     },
     "metadata": {},
     "output_type": "display_data"
    },
    {
     "data": {
      "text/html": [
       "<pre style=\"white-space:pre;overflow-x:auto;line-height:normal;font-family:Menlo,'DejaVu Sans Mono',consolas,'Courier New',monospace\"></pre>\n"
      ],
      "text/plain": []
     },
     "metadata": {},
     "output_type": "display_data"
    },
    {
     "data": {
      "text/html": [
       "<pre style=\"white-space:pre;overflow-x:auto;line-height:normal;font-family:Menlo,'DejaVu Sans Mono',consolas,'Courier New',monospace\">\n",
       "</pre>\n"
      ],
      "text/plain": [
       "\n"
      ]
     },
     "metadata": {},
     "output_type": "display_data"
    },
    {
     "name": "stdout",
     "output_type": "stream",
     "text": [
      "CPU times: user 2min 31s, sys: 555 ms, total: 2min 32s\n",
      "Wall time: 25.9 s\n"
     ]
    },
    {
     "data": {
      "text/plain": [
       "7.012142857142857"
      ]
     },
     "execution_count": 22,
     "metadata": {},
     "output_type": "execute_result"
    }
   ],
   "source": [
    "%%time\n",
    "data_test_lgdmboost_error, data_test_lgdmboost_predictions = learn_regressor(data_train, data_test, LGBMRegressor())\n",
    "data_test_lgdmboost_error = flatten(data_test_lgdmboost_error)\n",
    "data_test_lgdmboost_predictions = flatten(data_test_lgdmboost_predictions)\n",
    "data_test['lgdmboost_predictions'] = data_test_lgdmboost_predictions\n",
    "data_test['lgdmboost_error'] = data_test_lgdmboost_error\n",
    "data_test['lgdmboost_error'].mean()\n"
   ]
  },
  {
   "cell_type": "markdown",
   "metadata": {},
   "source": [
    "### validation data\n",
    "\n",
    "time = 28 s\n",
    "\n",
    "error = 7.3272"
   ]
  },
  {
   "cell_type": "code",
   "execution_count": 23,
   "metadata": {},
   "outputs": [
    {
     "data": {
      "application/vnd.jupyter.widget-view+json": {
       "model_id": "99d00e23a1cb4a6f96fe810112eda20b",
       "version_major": 2,
       "version_minor": 0
      },
      "text/plain": [
       "Output()"
      ]
     },
     "metadata": {},
     "output_type": "display_data"
    },
    {
     "data": {
      "text/html": [
       "<pre style=\"white-space:pre;overflow-x:auto;line-height:normal;font-family:Menlo,'DejaVu Sans Mono',consolas,'Courier New',monospace\"></pre>\n"
      ],
      "text/plain": []
     },
     "metadata": {},
     "output_type": "display_data"
    },
    {
     "data": {
      "text/html": [
       "<pre style=\"white-space:pre;overflow-x:auto;line-height:normal;font-family:Menlo,'DejaVu Sans Mono',consolas,'Courier New',monospace\">\n",
       "</pre>\n"
      ],
      "text/plain": [
       "\n"
      ]
     },
     "metadata": {},
     "output_type": "display_data"
    },
    {
     "name": "stdout",
     "output_type": "stream",
     "text": [
      "CPU times: user 2min 41s, sys: 609 ms, total: 2min 41s\n",
      "Wall time: 27.2 s\n"
     ]
    },
    {
     "data": {
      "text/plain": [
       "7.327259475218659"
      ]
     },
     "execution_count": 23,
     "metadata": {},
     "output_type": "execute_result"
    }
   ],
   "source": [
    "%%time\n",
    "data_val_lgdmboost_error, data_val_lgdmboost_predictions = learn_regressor(data_train, data_val, LGBMRegressor())\n",
    "data_val_lgdmboost_error = flatten(data_val_lgdmboost_error)\n",
    "data_val_lgdmboost_predictions = flatten(data_val_lgdmboost_predictions)\n",
    "data_val['lgdmboost_predictions'] = data_val_lgdmboost_predictions\n",
    "data_val['lgdmboost_error'] = data_val_lgdmboost_error\n",
    "data_val['lgdmboost_error'].mean()"
   ]
  },
  {
   "cell_type": "code",
   "execution_count": 24,
   "metadata": {},
   "outputs": [],
   "source": [
    "data_test.to_csv('data/test_regressors_predictions.csv')\n",
    "data_val.to_csv('data/val_regressors_predictions.csv')"
   ]
  },
  {
   "cell_type": "code",
   "execution_count": 25,
   "metadata": {},
   "outputs": [
    {
     "data": {
      "text/html": [
       "<div>\n",
       "<style scoped>\n",
       "    .dataframe tbody tr th:only-of-type {\n",
       "        vertical-align: middle;\n",
       "    }\n",
       "\n",
       "    .dataframe tbody tr th {\n",
       "        vertical-align: top;\n",
       "    }\n",
       "\n",
       "    .dataframe thead th {\n",
       "        text-align: right;\n",
       "    }\n",
       "</style>\n",
       "<table border=\"1\" class=\"dataframe\">\n",
       "  <thead>\n",
       "    <tr style=\"text-align: right;\">\n",
       "      <th></th>\n",
       "      <th>hour</th>\n",
       "      <th>lat</th>\n",
       "      <th>lon</th>\n",
       "      <th>sum</th>\n",
       "      <th>error</th>\n",
       "      <th>dayhour</th>\n",
       "      <th>weekday</th>\n",
       "      <th>is_holiday</th>\n",
       "      <th>xgboost_predictions</th>\n",
       "      <th>xgboost_error</th>\n",
       "      <th>catboost_predictions</th>\n",
       "      <th>catboost_error</th>\n",
       "      <th>lgdmboost_predictions</th>\n",
       "      <th>lgdmboost_error</th>\n",
       "    </tr>\n",
       "  </thead>\n",
       "  <tbody>\n",
       "    <tr>\n",
       "      <th>count</th>\n",
       "      <td>7.000000e+02</td>\n",
       "      <td>700.000000</td>\n",
       "      <td>700.000000</td>\n",
       "      <td>700.000000</td>\n",
       "      <td>700.000000</td>\n",
       "      <td>700.000000</td>\n",
       "      <td>700.000000</td>\n",
       "      <td>700.000000</td>\n",
       "      <td>700.0</td>\n",
       "      <td>700.000000</td>\n",
       "      <td>700.000000</td>\n",
       "      <td>700.000000</td>\n",
       "      <td>700.000000</td>\n",
       "      <td>700.000000</td>\n",
       "    </tr>\n",
       "    <tr>\n",
       "      <th>mean</th>\n",
       "      <td>1.581748e+09</td>\n",
       "      <td>59.931030</td>\n",
       "      <td>30.331786</td>\n",
       "      <td>9.682857</td>\n",
       "      <td>2.620662</td>\n",
       "      <td>13.621429</td>\n",
       "      <td>3.100000</td>\n",
       "      <td>0.044286</td>\n",
       "      <td>1.0</td>\n",
       "      <td>8.682857</td>\n",
       "      <td>1.187143</td>\n",
       "      <td>7.697857</td>\n",
       "      <td>1.348571</td>\n",
       "      <td>7.012143</td>\n",
       "    </tr>\n",
       "    <tr>\n",
       "      <th>std</th>\n",
       "      <td>7.180874e+05</td>\n",
       "      <td>0.040814</td>\n",
       "      <td>0.073457</td>\n",
       "      <td>6.430390</td>\n",
       "      <td>4.055027</td>\n",
       "      <td>4.391545</td>\n",
       "      <td>2.043518</td>\n",
       "      <td>0.205876</td>\n",
       "      <td>0.0</td>\n",
       "      <td>6.430390</td>\n",
       "      <td>0.390305</td>\n",
       "      <td>6.153537</td>\n",
       "      <td>0.476859</td>\n",
       "      <td>6.218787</td>\n",
       "    </tr>\n",
       "    <tr>\n",
       "      <th>min</th>\n",
       "      <td>1.580537e+09</td>\n",
       "      <td>59.831191</td>\n",
       "      <td>30.142969</td>\n",
       "      <td>5.000000</td>\n",
       "      <td>0.004735</td>\n",
       "      <td>2.000000</td>\n",
       "      <td>0.000000</td>\n",
       "      <td>0.000000</td>\n",
       "      <td>1.0</td>\n",
       "      <td>4.000000</td>\n",
       "      <td>1.000000</td>\n",
       "      <td>1.500000</td>\n",
       "      <td>1.000000</td>\n",
       "      <td>1.500000</td>\n",
       "    </tr>\n",
       "    <tr>\n",
       "      <th>25%</th>\n",
       "      <td>1.581156e+09</td>\n",
       "      <td>59.921359</td>\n",
       "      <td>30.295683</td>\n",
       "      <td>5.000000</td>\n",
       "      <td>0.421402</td>\n",
       "      <td>10.000000</td>\n",
       "      <td>1.000000</td>\n",
       "      <td>0.000000</td>\n",
       "      <td>1.0</td>\n",
       "      <td>4.000000</td>\n",
       "      <td>1.000000</td>\n",
       "      <td>4.000000</td>\n",
       "      <td>1.000000</td>\n",
       "      <td>4.000000</td>\n",
       "    </tr>\n",
       "    <tr>\n",
       "      <th>50%</th>\n",
       "      <td>1.581741e+09</td>\n",
       "      <td>59.932612</td>\n",
       "      <td>30.322632</td>\n",
       "      <td>7.000000</td>\n",
       "      <td>1.269158</td>\n",
       "      <td>14.000000</td>\n",
       "      <td>3.000000</td>\n",
       "      <td>0.000000</td>\n",
       "      <td>1.0</td>\n",
       "      <td>6.000000</td>\n",
       "      <td>1.000000</td>\n",
       "      <td>5.500000</td>\n",
       "      <td>1.000000</td>\n",
       "      <td>5.000000</td>\n",
       "    </tr>\n",
       "    <tr>\n",
       "      <th>75%</th>\n",
       "      <td>1.582391e+09</td>\n",
       "      <td>59.940769</td>\n",
       "      <td>30.358565</td>\n",
       "      <td>11.000000</td>\n",
       "      <td>3.754735</td>\n",
       "      <td>17.000000</td>\n",
       "      <td>5.000000</td>\n",
       "      <td>0.000000</td>\n",
       "      <td>1.0</td>\n",
       "      <td>10.000000</td>\n",
       "      <td>1.000000</td>\n",
       "      <td>9.000000</td>\n",
       "      <td>2.000000</td>\n",
       "      <td>8.000000</td>\n",
       "    </tr>\n",
       "    <tr>\n",
       "      <th>max</th>\n",
       "      <td>1.583010e+09</td>\n",
       "      <td>60.039332</td>\n",
       "      <td>30.515770</td>\n",
       "      <td>40.000000</td>\n",
       "      <td>38.754735</td>\n",
       "      <td>23.000000</td>\n",
       "      <td>6.000000</td>\n",
       "      <td>1.000000</td>\n",
       "      <td>1.0</td>\n",
       "      <td>39.000000</td>\n",
       "      <td>2.000000</td>\n",
       "      <td>39.000000</td>\n",
       "      <td>2.000000</td>\n",
       "      <td>39.000000</td>\n",
       "    </tr>\n",
       "  </tbody>\n",
       "</table>\n",
       "</div>"
      ],
      "text/plain": [
       "               hour         lat         lon         sum       error  \\\n",
       "count  7.000000e+02  700.000000  700.000000  700.000000  700.000000   \n",
       "mean   1.581748e+09   59.931030   30.331786    9.682857    2.620662   \n",
       "std    7.180874e+05    0.040814    0.073457    6.430390    4.055027   \n",
       "min    1.580537e+09   59.831191   30.142969    5.000000    0.004735   \n",
       "25%    1.581156e+09   59.921359   30.295683    5.000000    0.421402   \n",
       "50%    1.581741e+09   59.932612   30.322632    7.000000    1.269158   \n",
       "75%    1.582391e+09   59.940769   30.358565   11.000000    3.754735   \n",
       "max    1.583010e+09   60.039332   30.515770   40.000000   38.754735   \n",
       "\n",
       "          dayhour     weekday  is_holiday  xgboost_predictions  xgboost_error  \\\n",
       "count  700.000000  700.000000  700.000000                700.0     700.000000   \n",
       "mean    13.621429    3.100000    0.044286                  1.0       8.682857   \n",
       "std      4.391545    2.043518    0.205876                  0.0       6.430390   \n",
       "min      2.000000    0.000000    0.000000                  1.0       4.000000   \n",
       "25%     10.000000    1.000000    0.000000                  1.0       4.000000   \n",
       "50%     14.000000    3.000000    0.000000                  1.0       6.000000   \n",
       "75%     17.000000    5.000000    0.000000                  1.0      10.000000   \n",
       "max     23.000000    6.000000    1.000000                  1.0      39.000000   \n",
       "\n",
       "       catboost_predictions  catboost_error  lgdmboost_predictions  \\\n",
       "count            700.000000      700.000000             700.000000   \n",
       "mean               1.187143        7.697857               1.348571   \n",
       "std                0.390305        6.153537               0.476859   \n",
       "min                1.000000        1.500000               1.000000   \n",
       "25%                1.000000        4.000000               1.000000   \n",
       "50%                1.000000        5.500000               1.000000   \n",
       "75%                1.000000        9.000000               2.000000   \n",
       "max                2.000000       39.000000               2.000000   \n",
       "\n",
       "       lgdmboost_error  \n",
       "count       700.000000  \n",
       "mean          7.012143  \n",
       "std           6.218787  \n",
       "min           1.500000  \n",
       "25%           4.000000  \n",
       "50%           5.000000  \n",
       "75%           8.000000  \n",
       "max          39.000000  "
      ]
     },
     "execution_count": 25,
     "metadata": {},
     "output_type": "execute_result"
    }
   ],
   "source": [
    "data_test.describe()"
   ]
  },
  {
   "cell_type": "code",
   "execution_count": 26,
   "metadata": {},
   "outputs": [
    {
     "data": {
      "text/html": [
       "<div>\n",
       "<style scoped>\n",
       "    .dataframe tbody tr th:only-of-type {\n",
       "        vertical-align: middle;\n",
       "    }\n",
       "\n",
       "    .dataframe tbody tr th {\n",
       "        vertical-align: top;\n",
       "    }\n",
       "\n",
       "    .dataframe thead th {\n",
       "        text-align: right;\n",
       "    }\n",
       "</style>\n",
       "<table border=\"1\" class=\"dataframe\">\n",
       "  <thead>\n",
       "    <tr style=\"text-align: right;\">\n",
       "      <th></th>\n",
       "      <th>hour</th>\n",
       "      <th>lat</th>\n",
       "      <th>lon</th>\n",
       "      <th>sum</th>\n",
       "      <th>error</th>\n",
       "      <th>dayhour</th>\n",
       "      <th>weekday</th>\n",
       "      <th>is_holiday</th>\n",
       "      <th>xgboost_predictions</th>\n",
       "      <th>xgboost_error</th>\n",
       "      <th>catboost_predictions</th>\n",
       "      <th>catboost_error</th>\n",
       "      <th>lgdmboost_predictions</th>\n",
       "      <th>lgdmboost_error</th>\n",
       "    </tr>\n",
       "  </thead>\n",
       "  <tbody>\n",
       "    <tr>\n",
       "      <th>count</th>\n",
       "      <td>6.860000e+02</td>\n",
       "      <td>686.000000</td>\n",
       "      <td>686.000000</td>\n",
       "      <td>686.000000</td>\n",
       "      <td>686.000000</td>\n",
       "      <td>686.000000</td>\n",
       "      <td>686.000000</td>\n",
       "      <td>686.000000</td>\n",
       "      <td>686.0</td>\n",
       "      <td>686.000000</td>\n",
       "      <td>686.000000</td>\n",
       "      <td>686.000000</td>\n",
       "      <td>686.000000</td>\n",
       "      <td>686.000000</td>\n",
       "    </tr>\n",
       "    <tr>\n",
       "      <th>mean</th>\n",
       "      <td>1.581783e+09</td>\n",
       "      <td>59.933357</td>\n",
       "      <td>30.327609</td>\n",
       "      <td>9.848397</td>\n",
       "      <td>2.644801</td>\n",
       "      <td>13.944606</td>\n",
       "      <td>3.123907</td>\n",
       "      <td>0.043732</td>\n",
       "      <td>1.0</td>\n",
       "      <td>8.848397</td>\n",
       "      <td>1.169096</td>\n",
       "      <td>7.841108</td>\n",
       "      <td>1.319242</td>\n",
       "      <td>7.327259</td>\n",
       "    </tr>\n",
       "    <tr>\n",
       "      <th>std</th>\n",
       "      <td>7.202487e+05</td>\n",
       "      <td>0.041569</td>\n",
       "      <td>0.068056</td>\n",
       "      <td>6.471299</td>\n",
       "      <td>3.868670</td>\n",
       "      <td>4.419911</td>\n",
       "      <td>2.061984</td>\n",
       "      <td>0.204647</td>\n",
       "      <td>0.0</td>\n",
       "      <td>6.471299</td>\n",
       "      <td>0.375110</td>\n",
       "      <td>5.964638</td>\n",
       "      <td>0.466523</td>\n",
       "      <td>6.491519</td>\n",
       "    </tr>\n",
       "    <tr>\n",
       "      <th>min</th>\n",
       "      <td>1.580548e+09</td>\n",
       "      <td>59.828934</td>\n",
       "      <td>30.142969</td>\n",
       "      <td>5.000000</td>\n",
       "      <td>0.003861</td>\n",
       "      <td>1.000000</td>\n",
       "      <td>0.000000</td>\n",
       "      <td>0.000000</td>\n",
       "      <td>1.0</td>\n",
       "      <td>4.000000</td>\n",
       "      <td>1.000000</td>\n",
       "      <td>1.500000</td>\n",
       "      <td>1.000000</td>\n",
       "      <td>1.500000</td>\n",
       "    </tr>\n",
       "    <tr>\n",
       "      <th>25%</th>\n",
       "      <td>1.581175e+09</td>\n",
       "      <td>59.921359</td>\n",
       "      <td>30.297929</td>\n",
       "      <td>6.000000</td>\n",
       "      <td>0.467870</td>\n",
       "      <td>10.000000</td>\n",
       "      <td>1.000000</td>\n",
       "      <td>0.000000</td>\n",
       "      <td>1.0</td>\n",
       "      <td>5.000000</td>\n",
       "      <td>1.000000</td>\n",
       "      <td>4.000000</td>\n",
       "      <td>1.000000</td>\n",
       "      <td>4.000000</td>\n",
       "    </tr>\n",
       "    <tr>\n",
       "      <th>50%</th>\n",
       "      <td>1.581799e+09</td>\n",
       "      <td>59.932612</td>\n",
       "      <td>30.322632</td>\n",
       "      <td>7.000000</td>\n",
       "      <td>1.408210</td>\n",
       "      <td>14.000000</td>\n",
       "      <td>3.000000</td>\n",
       "      <td>0.000000</td>\n",
       "      <td>1.0</td>\n",
       "      <td>6.000000</td>\n",
       "      <td>1.000000</td>\n",
       "      <td>6.000000</td>\n",
       "      <td>1.000000</td>\n",
       "      <td>5.000000</td>\n",
       "    </tr>\n",
       "    <tr>\n",
       "      <th>75%</th>\n",
       "      <td>1.582408e+09</td>\n",
       "      <td>59.949486</td>\n",
       "      <td>30.356319</td>\n",
       "      <td>11.000000</td>\n",
       "      <td>3.754735</td>\n",
       "      <td>18.000000</td>\n",
       "      <td>5.000000</td>\n",
       "      <td>0.000000</td>\n",
       "      <td>1.0</td>\n",
       "      <td>10.000000</td>\n",
       "      <td>1.000000</td>\n",
       "      <td>9.000000</td>\n",
       "      <td>2.000000</td>\n",
       "      <td>8.000000</td>\n",
       "    </tr>\n",
       "    <tr>\n",
       "      <th>max</th>\n",
       "      <td>1.583014e+09</td>\n",
       "      <td>60.039332</td>\n",
       "      <td>30.535982</td>\n",
       "      <td>40.000000</td>\n",
       "      <td>38.754735</td>\n",
       "      <td>23.000000</td>\n",
       "      <td>6.000000</td>\n",
       "      <td>1.000000</td>\n",
       "      <td>1.0</td>\n",
       "      <td>39.000000</td>\n",
       "      <td>2.000000</td>\n",
       "      <td>38.000000</td>\n",
       "      <td>2.000000</td>\n",
       "      <td>39.000000</td>\n",
       "    </tr>\n",
       "  </tbody>\n",
       "</table>\n",
       "</div>"
      ],
      "text/plain": [
       "               hour         lat         lon         sum       error  \\\n",
       "count  6.860000e+02  686.000000  686.000000  686.000000  686.000000   \n",
       "mean   1.581783e+09   59.933357   30.327609    9.848397    2.644801   \n",
       "std    7.202487e+05    0.041569    0.068056    6.471299    3.868670   \n",
       "min    1.580548e+09   59.828934   30.142969    5.000000    0.003861   \n",
       "25%    1.581175e+09   59.921359   30.297929    6.000000    0.467870   \n",
       "50%    1.581799e+09   59.932612   30.322632    7.000000    1.408210   \n",
       "75%    1.582408e+09   59.949486   30.356319   11.000000    3.754735   \n",
       "max    1.583014e+09   60.039332   30.535982   40.000000   38.754735   \n",
       "\n",
       "          dayhour     weekday  is_holiday  xgboost_predictions  xgboost_error  \\\n",
       "count  686.000000  686.000000  686.000000                686.0     686.000000   \n",
       "mean    13.944606    3.123907    0.043732                  1.0       8.848397   \n",
       "std      4.419911    2.061984    0.204647                  0.0       6.471299   \n",
       "min      1.000000    0.000000    0.000000                  1.0       4.000000   \n",
       "25%     10.000000    1.000000    0.000000                  1.0       5.000000   \n",
       "50%     14.000000    3.000000    0.000000                  1.0       6.000000   \n",
       "75%     18.000000    5.000000    0.000000                  1.0      10.000000   \n",
       "max     23.000000    6.000000    1.000000                  1.0      39.000000   \n",
       "\n",
       "       catboost_predictions  catboost_error  lgdmboost_predictions  \\\n",
       "count            686.000000      686.000000             686.000000   \n",
       "mean               1.169096        7.841108               1.319242   \n",
       "std                0.375110        5.964638               0.466523   \n",
       "min                1.000000        1.500000               1.000000   \n",
       "25%                1.000000        4.000000               1.000000   \n",
       "50%                1.000000        6.000000               1.000000   \n",
       "75%                1.000000        9.000000               2.000000   \n",
       "max                2.000000       38.000000               2.000000   \n",
       "\n",
       "       lgdmboost_error  \n",
       "count       686.000000  \n",
       "mean          7.327259  \n",
       "std           6.491519  \n",
       "min           1.500000  \n",
       "25%           4.000000  \n",
       "50%           5.000000  \n",
       "75%           8.000000  \n",
       "max          39.000000  "
      ]
     },
     "execution_count": 26,
     "metadata": {},
     "output_type": "execute_result"
    }
   ],
   "source": [
    "data_val.describe()"
   ]
  },
  {
   "cell_type": "code",
   "execution_count": 28,
   "metadata": {},
   "outputs": [
    {
     "data": {
      "text/html": [
       "<div>\n",
       "<style scoped>\n",
       "    .dataframe tbody tr th:only-of-type {\n",
       "        vertical-align: middle;\n",
       "    }\n",
       "\n",
       "    .dataframe tbody tr th {\n",
       "        vertical-align: top;\n",
       "    }\n",
       "\n",
       "    .dataframe thead th {\n",
       "        text-align: right;\n",
       "    }\n",
       "</style>\n",
       "<table border=\"1\" class=\"dataframe\">\n",
       "  <thead>\n",
       "    <tr style=\"text-align: right;\">\n",
       "      <th></th>\n",
       "      <th>lon</th>\n",
       "      <th>lat</th>\n",
       "      <th>timestamp</th>\n",
       "      <th>num_posts</th>\n",
       "      <th>dayhour</th>\n",
       "      <th>weekday</th>\n",
       "      <th>is_holiday</th>\n",
       "    </tr>\n",
       "  </thead>\n",
       "  <tbody>\n",
       "    <tr>\n",
       "      <th>count</th>\n",
       "      <td>3.625656e+06</td>\n",
       "      <td>3.625656e+06</td>\n",
       "      <td>3.625656e+06</td>\n",
       "      <td>3.625656e+06</td>\n",
       "      <td>3.625656e+06</td>\n",
       "      <td>3.625656e+06</td>\n",
       "      <td>3.625656e+06</td>\n",
       "    </tr>\n",
       "    <tr>\n",
       "      <th>mean</th>\n",
       "      <td>3.032788e+01</td>\n",
       "      <td>5.993524e+01</td>\n",
       "      <td>3.646984e+09</td>\n",
       "      <td>2.330739e+00</td>\n",
       "      <td>1.313461e+01</td>\n",
       "      <td>3.004492e+00</td>\n",
       "      <td>5.350618e-02</td>\n",
       "    </tr>\n",
       "    <tr>\n",
       "      <th>std</th>\n",
       "      <td>7.917094e-02</td>\n",
       "      <td>5.082867e-02</td>\n",
       "      <td>6.518689e+09</td>\n",
       "      <td>4.159461e+00</td>\n",
       "      <td>5.307628e+00</td>\n",
       "      <td>1.999440e+00</td>\n",
       "      <td>2.250406e-01</td>\n",
       "    </tr>\n",
       "    <tr>\n",
       "      <th>min</th>\n",
       "      <td>3.008907e+01</td>\n",
       "      <td>5.971474e+01</td>\n",
       "      <td>1.546301e+09</td>\n",
       "      <td>1.000000e+00</td>\n",
       "      <td>0.000000e+00</td>\n",
       "      <td>0.000000e+00</td>\n",
       "      <td>0.000000e+00</td>\n",
       "    </tr>\n",
       "    <tr>\n",
       "      <th>25%</th>\n",
       "      <td>3.028445e+01</td>\n",
       "      <td>5.990898e+01</td>\n",
       "      <td>1.561568e+09</td>\n",
       "      <td>1.000000e+00</td>\n",
       "      <td>9.000000e+00</td>\n",
       "      <td>1.000000e+00</td>\n",
       "      <td>0.000000e+00</td>\n",
       "    </tr>\n",
       "    <tr>\n",
       "      <th>50%</th>\n",
       "      <td>3.032263e+01</td>\n",
       "      <td>5.993599e+01</td>\n",
       "      <td>1.574410e+09</td>\n",
       "      <td>1.000000e+00</td>\n",
       "      <td>1.300000e+01</td>\n",
       "      <td>3.000000e+00</td>\n",
       "      <td>0.000000e+00</td>\n",
       "    </tr>\n",
       "    <tr>\n",
       "      <th>75%</th>\n",
       "      <td>3.036755e+01</td>\n",
       "      <td>5.996747e+01</td>\n",
       "      <td>3.147343e+09</td>\n",
       "      <td>2.000000e+00</td>\n",
       "      <td>1.700000e+01</td>\n",
       "      <td>5.000000e+00</td>\n",
       "      <td>0.000000e+00</td>\n",
       "    </tr>\n",
       "    <tr>\n",
       "      <th>max</th>\n",
       "      <td>3.107722e+01</td>\n",
       "      <td>6.017923e+01</td>\n",
       "      <td>9.443520e+11</td>\n",
       "      <td>6.000000e+02</td>\n",
       "      <td>2.300000e+01</td>\n",
       "      <td>6.000000e+00</td>\n",
       "      <td>1.000000e+00</td>\n",
       "    </tr>\n",
       "  </tbody>\n",
       "</table>\n",
       "</div>"
      ],
      "text/plain": [
       "                lon           lat     timestamp     num_posts       dayhour  \\\n",
       "count  3.625656e+06  3.625656e+06  3.625656e+06  3.625656e+06  3.625656e+06   \n",
       "mean   3.032788e+01  5.993524e+01  3.646984e+09  2.330739e+00  1.313461e+01   \n",
       "std    7.917094e-02  5.082867e-02  6.518689e+09  4.159461e+00  5.307628e+00   \n",
       "min    3.008907e+01  5.971474e+01  1.546301e+09  1.000000e+00  0.000000e+00   \n",
       "25%    3.028445e+01  5.990898e+01  1.561568e+09  1.000000e+00  9.000000e+00   \n",
       "50%    3.032263e+01  5.993599e+01  1.574410e+09  1.000000e+00  1.300000e+01   \n",
       "75%    3.036755e+01  5.996747e+01  3.147343e+09  2.000000e+00  1.700000e+01   \n",
       "max    3.107722e+01  6.017923e+01  9.443520e+11  6.000000e+02  2.300000e+01   \n",
       "\n",
       "            weekday    is_holiday  \n",
       "count  3.625656e+06  3.625656e+06  \n",
       "mean   3.004492e+00  5.350618e-02  \n",
       "std    1.999440e+00  2.250406e-01  \n",
       "min    0.000000e+00  0.000000e+00  \n",
       "25%    1.000000e+00  0.000000e+00  \n",
       "50%    3.000000e+00  0.000000e+00  \n",
       "75%    5.000000e+00  0.000000e+00  \n",
       "max    6.000000e+00  1.000000e+00  "
      ]
     },
     "execution_count": 28,
     "metadata": {},
     "output_type": "execute_result"
    }
   ],
   "source": [
    "data_train.describe()"
   ]
  }
 ],
 "metadata": {
  "kernelspec": {
   "display_name": "Python 3.9.13 ('indml')",
   "language": "python",
   "name": "python3"
  },
  "language_info": {
   "codemirror_mode": {
    "name": "ipython",
    "version": 3
   },
   "file_extension": ".py",
   "mimetype": "text/x-python",
   "name": "python",
   "nbconvert_exporter": "python",
   "pygments_lexer": "ipython3",
   "version": "3.9.13"
  },
  "orig_nbformat": 4,
  "vscode": {
   "interpreter": {
    "hash": "02902d8ec977eb7ac2114c5b569c3cebeb1ab04bf847c131eacd9d4311affd20"
   }
  }
 },
 "nbformat": 4,
 "nbformat_minor": 2
}
