{
  "cells": [
    {
      "cell_type": "markdown",
      "metadata": {
        "id": "6fiAiHk9n3O9"
      },
      "source": [
        "# Libs, data importing"
      ]
    },
    {
      "cell_type": "code",
      "source": [
        "!pip install fedot[extra]"
      ],
      "metadata": {
        "colab": {
          "base_uri": "https://localhost:8080/",
          "height": 1000
        },
        "id": "GACanzIV2xHU",
        "outputId": "dc9bafc9-591a-43b8-ca78-00917fc4bb07"
      },
      "execution_count": 1,
      "outputs": [
        {
          "output_type": "stream",
          "name": "stdout",
          "text": [
            "Looking in indexes: https://pypi.org/simple, https://us-python.pkg.dev/colab-wheels/public/simple/\n",
            "Collecting fedot[extra]\n",
            "  Downloading fedot-0.6.0-py3-none-any.whl (472 kB)\n",
            "\u001b[K     |████████████████████████████████| 472 kB 11.6 MB/s \n",
            "\u001b[?25hCollecting matplotlib==3.0.2\n",
            "  Downloading matplotlib-3.0.2-cp37-cp37m-manylinux1_x86_64.whl (12.9 MB)\n",
            "\u001b[K     |████████████████████████████████| 12.9 MB 30.8 MB/s \n",
            "\u001b[?25hCollecting SALib>=1.3.*\n",
            "  Downloading SALib-1.4.6b1-py2.py3-none-any.whl (753 kB)\n",
            "\u001b[K     |████████████████████████████████| 753 kB 67.7 MB/s \n",
            "\u001b[?25hCollecting catboost>=0.25.*\n",
            "  Downloading catboost-1.1.1-cp37-none-manylinux1_x86_64.whl (76.6 MB)\n",
            "\u001b[K     |████████████████████████████████| 76.6 MB 1.2 MB/s \n",
            "\u001b[?25hRequirement already satisfied: numpy>=1.16.* in /usr/local/lib/python3.7/dist-packages (from fedot[extra]) (1.21.6)\n",
            "Collecting scikit-optimize>=0.7.4\n",
            "  Downloading scikit_optimize-0.9.0-py2.py3-none-any.whl (100 kB)\n",
            "\u001b[K     |████████████████████████████████| 100 kB 11.6 MB/s \n",
            "\u001b[?25hCollecting pyvis==0.2.1\n",
            "  Downloading pyvis-0.2.1.tar.gz (21 kB)\n",
            "Requirement already satisfied: tqdm in /usr/local/lib/python3.7/dist-packages (from fedot[extra]) (4.64.1)\n",
            "Collecting hyperopt==0.2.7\n",
            "  Downloading hyperopt-0.2.7-py2.py3-none-any.whl (1.6 MB)\n",
            "\u001b[K     |████████████████████████████████| 1.6 MB 56.8 MB/s \n",
            "\u001b[?25hRequirement already satisfied: requests>=2.* in /usr/local/lib/python3.7/dist-packages (from fedot[extra]) (2.23.0)\n",
            "Collecting anytree>=2.8.*\n",
            "  Downloading anytree-2.8.0-py2.py3-none-any.whl (41 kB)\n",
            "\u001b[K     |████████████████████████████████| 41 kB 719 kB/s \n",
            "\u001b[?25hRequirement already satisfied: statsmodels>=0.12.0 in /usr/local/lib/python3.7/dist-packages (from fedot[extra]) (0.12.2)\n",
            "Collecting lightgbm>=3.0.0\n",
            "  Downloading lightgbm-3.3.3-py3-none-manylinux1_x86_64.whl (2.0 MB)\n",
            "\u001b[K     |████████████████████████████████| 2.0 MB 58.5 MB/s \n",
            "\u001b[?25hCollecting pandas<1.3.0,>=1.1.0\n",
            "  Downloading pandas-1.2.5-cp37-cp37m-manylinux_2_5_x86_64.manylinux1_x86_64.whl (9.9 MB)\n",
            "\u001b[K     |████████████████████████████████| 9.9 MB 57.4 MB/s \n",
            "\u001b[?25hCollecting testfixtures>=6.18.*\n",
            "  Downloading testfixtures-7.0.3-py3-none-any.whl (98 kB)\n",
            "\u001b[K     |████████████████████████████████| 98 kB 8.2 MB/s \n",
            "\u001b[?25hCollecting ete3>=3.1.*\n",
            "  Downloading ete3-3.1.2.tar.gz (4.7 MB)\n",
            "\u001b[K     |████████████████████████████████| 4.7 MB 52.0 MB/s \n",
            "\u001b[?25hRequirement already satisfied: scikit-learn in /usr/local/lib/python3.7/dist-packages (from fedot[extra]) (1.0.2)\n",
            "Requirement already satisfied: networkx!=2.7.*,!=2.8.1,!=2.8.2,!=2.8.3,>=2.4 in /usr/local/lib/python3.7/dist-packages (from fedot[extra]) (2.6.3)\n",
            "Collecting typing>=3.7.*\n",
            "  Downloading typing-3.7.4.3.tar.gz (78 kB)\n",
            "\u001b[K     |████████████████████████████████| 78 kB 6.4 MB/s \n",
            "\u001b[?25hCollecting func-timeout==4.3.5\n",
            "  Downloading func_timeout-4.3.5.tar.gz (44 kB)\n",
            "\u001b[K     |████████████████████████████████| 44 kB 2.5 MB/s \n",
            "\u001b[?25hRequirement already satisfied: seaborn>=0.9.* in /usr/local/lib/python3.7/dist-packages (from fedot[extra]) (0.11.2)\n",
            "Requirement already satisfied: joblib>=0.17.* in /usr/local/lib/python3.7/dist-packages (from fedot[extra]) (1.2.0)\n",
            "Collecting psutil>=5.9.2\n",
            "  Downloading psutil-5.9.4-cp36-abi3-manylinux_2_12_x86_64.manylinux2010_x86_64.manylinux_2_17_x86_64.manylinux2014_x86_64.whl (280 kB)\n",
            "\u001b[K     |████████████████████████████████| 280 kB 63.0 MB/s \n",
            "\u001b[?25hCollecting pytest>=6.2.*\n",
            "  Downloading pytest-7.2.0-py3-none-any.whl (316 kB)\n",
            "\u001b[K     |████████████████████████████████| 316 kB 73.6 MB/s \n",
            "\u001b[?25hCollecting xgboost>=1.6.0\n",
            "  Downloading xgboost-1.6.2-py3-none-manylinux2014_x86_64.whl (255.9 MB)\n",
            "\u001b[K     |████████████████████████████████| 255.9 MB 34 kB/s \n",
            "\u001b[?25hRequirement already satisfied: protobuf~=3.19.0 in /usr/local/lib/python3.7/dist-packages (from fedot[extra]) (3.19.6)\n",
            "Requirement already satisfied: torch>=1.9.0 in /usr/local/lib/python3.7/dist-packages (from fedot[extra]) (1.12.1+cu113)\n",
            "Collecting tensorflow<2.5.0,>=2.2.0\n",
            "  Downloading tensorflow-2.4.4-cp37-cp37m-manylinux2010_x86_64.whl (394.5 MB)\n",
            "\u001b[K     |████████████████████████████████| 394.5 MB 35 kB/s \n",
            "\u001b[?25hRequirement already satisfied: imageio<=2.10,>=2.8 in /usr/local/lib/python3.7/dist-packages (from fedot[extra]) (2.9.0)\n",
            "Collecting Pillow>=8.2.*\n",
            "  Downloading Pillow-9.3.0-cp37-cp37m-manylinux_2_17_x86_64.manylinux2014_x86_64.whl (3.2 MB)\n",
            "\u001b[K     |████████████████████████████████| 3.2 MB 51.5 MB/s \n",
            "\u001b[?25hRequirement already satisfied: opencv-python>=4.5.5.64 in /usr/local/lib/python3.7/dist-packages (from fedot[extra]) (4.6.0.66)\n",
            "Collecting gensim>=4.1.2\n",
            "  Downloading gensim-4.2.0-cp37-cp37m-manylinux_2_12_x86_64.manylinux2010_x86_64.whl (24.1 MB)\n",
            "\u001b[K     |████████████████████████████████| 24.1 MB 1.1 MB/s \n",
            "\u001b[?25hRequirement already satisfied: nltk>=3.5 in /usr/local/lib/python3.7/dist-packages (from fedot[extra]) (3.7)\n",
            "Requirement already satisfied: future in /usr/local/lib/python3.7/dist-packages (from hyperopt==0.2.7->fedot[extra]) (0.16.0)\n",
            "Collecting py4j\n",
            "  Downloading py4j-0.10.9.7-py2.py3-none-any.whl (200 kB)\n",
            "\u001b[K     |████████████████████████████████| 200 kB 79.3 MB/s \n",
            "\u001b[?25hRequirement already satisfied: cloudpickle in /usr/local/lib/python3.7/dist-packages (from hyperopt==0.2.7->fedot[extra]) (1.5.0)\n",
            "Requirement already satisfied: scipy in /usr/local/lib/python3.7/dist-packages (from hyperopt==0.2.7->fedot[extra]) (1.7.3)\n",
            "Requirement already satisfied: six in /usr/local/lib/python3.7/dist-packages (from hyperopt==0.2.7->fedot[extra]) (1.15.0)\n",
            "Requirement already satisfied: pyparsing!=2.0.4,!=2.1.2,!=2.1.6,>=2.0.1 in /usr/local/lib/python3.7/dist-packages (from matplotlib==3.0.2->fedot[extra]) (3.0.9)\n",
            "Requirement already satisfied: python-dateutil>=2.1 in /usr/local/lib/python3.7/dist-packages (from matplotlib==3.0.2->fedot[extra]) (2.8.2)\n",
            "Requirement already satisfied: kiwisolver>=1.0.1 in /usr/local/lib/python3.7/dist-packages (from matplotlib==3.0.2->fedot[extra]) (1.4.4)\n",
            "Requirement already satisfied: cycler>=0.10 in /usr/local/lib/python3.7/dist-packages (from matplotlib==3.0.2->fedot[extra]) (0.11.0)\n",
            "Requirement already satisfied: jinja2>=2.9.6 in /usr/local/lib/python3.7/dist-packages (from pyvis==0.2.1->fedot[extra]) (2.11.3)\n",
            "Requirement already satisfied: ipython>=5.3.0 in /usr/local/lib/python3.7/dist-packages (from pyvis==0.2.1->fedot[extra]) (7.9.0)\n",
            "Collecting jsonpickle>=1.4.1\n",
            "  Downloading jsonpickle-2.2.0-py2.py3-none-any.whl (39 kB)\n",
            "Requirement already satisfied: graphviz in /usr/local/lib/python3.7/dist-packages (from catboost>=0.25.*->fedot[extra]) (0.10.1)\n",
            "Requirement already satisfied: plotly in /usr/local/lib/python3.7/dist-packages (from catboost>=0.25.*->fedot[extra]) (5.5.0)\n",
            "Requirement already satisfied: smart-open>=1.8.1 in /usr/local/lib/python3.7/dist-packages (from gensim>=4.1.2->fedot[extra]) (5.2.1)\n",
            "Requirement already satisfied: prompt-toolkit<2.1.0,>=2.0.0 in /usr/local/lib/python3.7/dist-packages (from ipython>=5.3.0->pyvis==0.2.1->fedot[extra]) (2.0.10)\n",
            "Requirement already satisfied: setuptools>=18.5 in /usr/local/lib/python3.7/dist-packages (from ipython>=5.3.0->pyvis==0.2.1->fedot[extra]) (57.4.0)\n",
            "Collecting jedi>=0.10\n",
            "  Downloading jedi-0.18.1-py2.py3-none-any.whl (1.6 MB)\n",
            "\u001b[K     |████████████████████████████████| 1.6 MB 51.5 MB/s \n",
            "\u001b[?25hRequirement already satisfied: pygments in /usr/local/lib/python3.7/dist-packages (from ipython>=5.3.0->pyvis==0.2.1->fedot[extra]) (2.6.1)\n",
            "Requirement already satisfied: pickleshare in /usr/local/lib/python3.7/dist-packages (from ipython>=5.3.0->pyvis==0.2.1->fedot[extra]) (0.7.5)\n",
            "Requirement already satisfied: backcall in /usr/local/lib/python3.7/dist-packages (from ipython>=5.3.0->pyvis==0.2.1->fedot[extra]) (0.2.0)\n",
            "Requirement already satisfied: decorator in /usr/local/lib/python3.7/dist-packages (from ipython>=5.3.0->pyvis==0.2.1->fedot[extra]) (4.4.2)\n",
            "Requirement already satisfied: traitlets>=4.2 in /usr/local/lib/python3.7/dist-packages (from ipython>=5.3.0->pyvis==0.2.1->fedot[extra]) (5.1.1)\n",
            "Requirement already satisfied: pexpect in /usr/local/lib/python3.7/dist-packages (from ipython>=5.3.0->pyvis==0.2.1->fedot[extra]) (4.8.0)\n",
            "Requirement already satisfied: parso<0.9.0,>=0.8.0 in /usr/local/lib/python3.7/dist-packages (from jedi>=0.10->ipython>=5.3.0->pyvis==0.2.1->fedot[extra]) (0.8.3)\n",
            "Requirement already satisfied: MarkupSafe>=0.23 in /usr/local/lib/python3.7/dist-packages (from jinja2>=2.9.6->pyvis==0.2.1->fedot[extra]) (2.0.1)\n",
            "Requirement already satisfied: importlib-metadata in /usr/local/lib/python3.7/dist-packages (from jsonpickle>=1.4.1->pyvis==0.2.1->fedot[extra]) (4.13.0)\n",
            "Requirement already satisfied: typing-extensions in /usr/local/lib/python3.7/dist-packages (from kiwisolver>=1.0.1->matplotlib==3.0.2->fedot[extra]) (4.1.1)\n",
            "Requirement already satisfied: wheel in /usr/local/lib/python3.7/dist-packages (from lightgbm>=3.0.0->fedot[extra]) (0.38.3)\n",
            "Requirement already satisfied: click in /usr/local/lib/python3.7/dist-packages (from nltk>=3.5->fedot[extra]) (7.1.2)\n",
            "Requirement already satisfied: regex>=2021.8.3 in /usr/local/lib/python3.7/dist-packages (from nltk>=3.5->fedot[extra]) (2022.6.2)\n",
            "Requirement already satisfied: pytz>=2017.3 in /usr/local/lib/python3.7/dist-packages (from pandas<1.3.0,>=1.1.0->fedot[extra]) (2022.6)\n",
            "Requirement already satisfied: wcwidth in /usr/local/lib/python3.7/dist-packages (from prompt-toolkit<2.1.0,>=2.0.0->ipython>=5.3.0->pyvis==0.2.1->fedot[extra]) (0.2.5)\n",
            "Collecting pluggy<2.0,>=0.12\n",
            "  Downloading pluggy-1.0.0-py2.py3-none-any.whl (13 kB)\n",
            "Collecting exceptiongroup>=1.0.0rc8\n",
            "  Downloading exceptiongroup-1.0.4-py3-none-any.whl (14 kB)\n",
            "Requirement already satisfied: attrs>=19.2.0 in /usr/local/lib/python3.7/dist-packages (from pytest>=6.2.*->fedot[extra]) (22.1.0)\n",
            "Requirement already satisfied: packaging in /usr/local/lib/python3.7/dist-packages (from pytest>=6.2.*->fedot[extra]) (21.3)\n",
            "Requirement already satisfied: tomli>=1.0.0 in /usr/local/lib/python3.7/dist-packages (from pytest>=6.2.*->fedot[extra]) (2.0.1)\n",
            "Collecting iniconfig\n",
            "  Downloading iniconfig-1.1.1-py2.py3-none-any.whl (5.0 kB)\n",
            "Requirement already satisfied: zipp>=0.5 in /usr/local/lib/python3.7/dist-packages (from importlib-metadata->jsonpickle>=1.4.1->pyvis==0.2.1->fedot[extra]) (3.10.0)\n",
            "Requirement already satisfied: idna<3,>=2.5 in /usr/local/lib/python3.7/dist-packages (from requests>=2.*->fedot[extra]) (2.10)\n",
            "Requirement already satisfied: urllib3!=1.25.0,!=1.25.1,<1.26,>=1.21.1 in /usr/local/lib/python3.7/dist-packages (from requests>=2.*->fedot[extra]) (1.24.3)\n",
            "Requirement already satisfied: certifi>=2017.4.17 in /usr/local/lib/python3.7/dist-packages (from requests>=2.*->fedot[extra]) (2022.9.24)\n",
            "Requirement already satisfied: chardet<4,>=3.0.2 in /usr/local/lib/python3.7/dist-packages (from requests>=2.*->fedot[extra]) (3.0.4)\n",
            "Collecting pathos\n",
            "  Downloading pathos-0.3.0-py3-none-any.whl (79 kB)\n",
            "\u001b[K     |████████████████████████████████| 79 kB 9.2 MB/s \n",
            "\u001b[?25hRequirement already satisfied: threadpoolctl>=2.0.0 in /usr/local/lib/python3.7/dist-packages (from scikit-learn->fedot[extra]) (3.1.0)\n",
            "Collecting pyaml>=16.9\n",
            "  Downloading pyaml-21.10.1-py2.py3-none-any.whl (24 kB)\n",
            "Requirement already satisfied: PyYAML in /usr/local/lib/python3.7/dist-packages (from pyaml>=16.9->scikit-optimize>=0.7.4->fedot[extra]) (6.0)\n",
            "Requirement already satisfied: patsy>=0.5 in /usr/local/lib/python3.7/dist-packages (from statsmodels>=0.12.0->fedot[extra]) (0.5.3)\n",
            "Collecting wrapt~=1.12.1\n",
            "  Downloading wrapt-1.12.1.tar.gz (27 kB)\n",
            "Requirement already satisfied: google-pasta~=0.2 in /usr/local/lib/python3.7/dist-packages (from tensorflow<2.5.0,>=2.2.0->fedot[extra]) (0.2.0)\n",
            "Collecting typing-extensions\n",
            "  Downloading typing_extensions-3.7.4.3-py3-none-any.whl (22 kB)\n",
            "Collecting grpcio~=1.32.0\n",
            "  Downloading grpcio-1.32.0-cp37-cp37m-manylinux2014_x86_64.whl (3.8 MB)\n",
            "\u001b[K     |████████████████████████████████| 3.8 MB 40.7 MB/s \n",
            "\u001b[?25hCollecting gast==0.3.3\n",
            "  Downloading gast-0.3.3-py2.py3-none-any.whl (9.7 kB)\n",
            "Requirement already satisfied: keras-preprocessing~=1.1.2 in /usr/local/lib/python3.7/dist-packages (from tensorflow<2.5.0,>=2.2.0->fedot[extra]) (1.1.2)\n",
            "Requirement already satisfied: astunparse~=1.6.3 in /usr/local/lib/python3.7/dist-packages (from tensorflow<2.5.0,>=2.2.0->fedot[extra]) (1.6.3)\n",
            "Requirement already satisfied: opt-einsum~=3.3.0 in /usr/local/lib/python3.7/dist-packages (from tensorflow<2.5.0,>=2.2.0->fedot[extra]) (3.3.0)\n",
            "Collecting tensorflow-estimator<2.5.0,>=2.4.0\n",
            "  Downloading tensorflow_estimator-2.4.0-py2.py3-none-any.whl (462 kB)\n",
            "\u001b[K     |████████████████████████████████| 462 kB 74.0 MB/s \n",
            "\u001b[?25hRequirement already satisfied: flatbuffers~=1.12.0 in /usr/local/lib/python3.7/dist-packages (from tensorflow<2.5.0,>=2.2.0->fedot[extra]) (1.12)\n",
            "Collecting termcolor~=1.1.0\n",
            "  Downloading termcolor-1.1.0.tar.gz (3.9 kB)\n",
            "Collecting numpy>=1.16.*\n",
            "  Downloading numpy-1.19.5-cp37-cp37m-manylinux2010_x86_64.whl (14.8 MB)\n",
            "\u001b[K     |████████████████████████████████| 14.8 MB 49.7 MB/s \n",
            "\u001b[?25hCollecting h5py~=2.10.0\n",
            "  Downloading h5py-2.10.0-cp37-cp37m-manylinux1_x86_64.whl (2.9 MB)\n",
            "\u001b[K     |████████████████████████████████| 2.9 MB 55.1 MB/s \n",
            "\u001b[?25hCollecting absl-py~=0.10\n",
            "  Downloading absl_py-0.15.0-py3-none-any.whl (132 kB)\n",
            "\u001b[K     |████████████████████████████████| 132 kB 53.6 MB/s \n",
            "\u001b[?25hRequirement already satisfied: tensorboard~=2.4 in /usr/local/lib/python3.7/dist-packages (from tensorflow<2.5.0,>=2.2.0->fedot[extra]) (2.9.1)\n",
            "Requirement already satisfied: tensorboard-plugin-wit>=1.6.0 in /usr/local/lib/python3.7/dist-packages (from tensorboard~=2.4->tensorflow<2.5.0,>=2.2.0->fedot[extra]) (1.8.1)\n",
            "Requirement already satisfied: werkzeug>=1.0.1 in /usr/local/lib/python3.7/dist-packages (from tensorboard~=2.4->tensorflow<2.5.0,>=2.2.0->fedot[extra]) (1.0.1)\n",
            "Requirement already satisfied: google-auth<3,>=1.6.3 in /usr/local/lib/python3.7/dist-packages (from tensorboard~=2.4->tensorflow<2.5.0,>=2.2.0->fedot[extra]) (2.14.1)\n",
            "Requirement already satisfied: tensorboard-data-server<0.7.0,>=0.6.0 in /usr/local/lib/python3.7/dist-packages (from tensorboard~=2.4->tensorflow<2.5.0,>=2.2.0->fedot[extra]) (0.6.1)\n",
            "Requirement already satisfied: markdown>=2.6.8 in /usr/local/lib/python3.7/dist-packages (from tensorboard~=2.4->tensorflow<2.5.0,>=2.2.0->fedot[extra]) (3.4.1)\n",
            "Requirement already satisfied: google-auth-oauthlib<0.5,>=0.4.1 in /usr/local/lib/python3.7/dist-packages (from tensorboard~=2.4->tensorflow<2.5.0,>=2.2.0->fedot[extra]) (0.4.6)\n",
            "Requirement already satisfied: pyasn1-modules>=0.2.1 in /usr/local/lib/python3.7/dist-packages (from google-auth<3,>=1.6.3->tensorboard~=2.4->tensorflow<2.5.0,>=2.2.0->fedot[extra]) (0.2.8)\n",
            "Requirement already satisfied: cachetools<6.0,>=2.0.0 in /usr/local/lib/python3.7/dist-packages (from google-auth<3,>=1.6.3->tensorboard~=2.4->tensorflow<2.5.0,>=2.2.0->fedot[extra]) (5.2.0)\n",
            "Requirement already satisfied: rsa<5,>=3.1.4 in /usr/local/lib/python3.7/dist-packages (from google-auth<3,>=1.6.3->tensorboard~=2.4->tensorflow<2.5.0,>=2.2.0->fedot[extra]) (4.9)\n",
            "Requirement already satisfied: requests-oauthlib>=0.7.0 in /usr/local/lib/python3.7/dist-packages (from google-auth-oauthlib<0.5,>=0.4.1->tensorboard~=2.4->tensorflow<2.5.0,>=2.2.0->fedot[extra]) (1.3.1)\n",
            "Requirement already satisfied: pyasn1<0.5.0,>=0.4.6 in /usr/local/lib/python3.7/dist-packages (from pyasn1-modules>=0.2.1->google-auth<3,>=1.6.3->tensorboard~=2.4->tensorflow<2.5.0,>=2.2.0->fedot[extra]) (0.4.8)\n",
            "Requirement already satisfied: oauthlib>=3.0.0 in /usr/local/lib/python3.7/dist-packages (from requests-oauthlib>=0.7.0->google-auth-oauthlib<0.5,>=0.4.1->tensorboard~=2.4->tensorflow<2.5.0,>=2.2.0->fedot[extra]) (3.2.2)\n",
            "Requirement already satisfied: dill>=0.3.6 in /usr/local/lib/python3.7/dist-packages (from pathos->SALib>=1.3.*->fedot[extra]) (0.3.6)\n",
            "Collecting ppft>=1.7.6.6\n",
            "  Downloading ppft-1.7.6.6-py3-none-any.whl (52 kB)\n",
            "\u001b[K     |████████████████████████████████| 52 kB 1.6 MB/s \n",
            "\u001b[?25hCollecting multiprocess>=0.70.14\n",
            "  Downloading multiprocess-0.70.14-py37-none-any.whl (115 kB)\n",
            "\u001b[K     |████████████████████████████████| 115 kB 76.6 MB/s \n",
            "\u001b[?25hCollecting pox>=0.3.2\n",
            "  Downloading pox-0.3.2-py3-none-any.whl (29 kB)\n",
            "Requirement already satisfied: ptyprocess>=0.5 in /usr/local/lib/python3.7/dist-packages (from pexpect->ipython>=5.3.0->pyvis==0.2.1->fedot[extra]) (0.7.0)\n",
            "Requirement already satisfied: tenacity>=6.2.0 in /usr/local/lib/python3.7/dist-packages (from plotly->catboost>=0.25.*->fedot[extra]) (8.1.0)\n",
            "Building wheels for collected packages: func-timeout, pyvis, ete3, termcolor, typing, wrapt\n",
            "  Building wheel for func-timeout (setup.py) ... \u001b[?25l\u001b[?25hdone\n",
            "  Created wheel for func-timeout: filename=func_timeout-4.3.5-py3-none-any.whl size=15097 sha256=15a7c34bc2e74362a03366daaa1980915f74cd0a193712cfbb1614c9c9cde657\n",
            "  Stored in directory: /root/.cache/pip/wheels/68/b5/a5/67c4364c354e141f5a1bd3ec568126f77877ab7554cf5af8cb\n",
            "  Building wheel for pyvis (setup.py) ... \u001b[?25l\u001b[?25hdone\n",
            "  Created wheel for pyvis: filename=pyvis-0.2.1-py3-none-any.whl size=23688 sha256=ba0d3a5046938e64582c44de2ecdba63dd03520401ae05c170ca5ee667fb7c86\n",
            "  Stored in directory: /root/.cache/pip/wheels/2a/8f/04/6340d46afc74f59cc857a594ca1a2a14a1f4cbd4fd6c2e9306\n",
            "  Building wheel for ete3 (setup.py) ... \u001b[?25l\u001b[?25hdone\n",
            "  Created wheel for ete3: filename=ete3-3.1.2-py3-none-any.whl size=2273012 sha256=3029ed15f6c7c80ecfebae02afb0f1dbf84a0c2d62788735a850fae677c2dc43\n",
            "  Stored in directory: /root/.cache/pip/wheels/17/fd/e2/6ac384d8c2484789304657dde01b96d7ab83f4f1dd96d266df\n",
            "  Building wheel for termcolor (setup.py) ... \u001b[?25l\u001b[?25hdone\n",
            "  Created wheel for termcolor: filename=termcolor-1.1.0-py3-none-any.whl size=4849 sha256=d3663c233715070ca3c7287384ec6373def1b93f77e39ed8a6489012cedc4775\n",
            "  Stored in directory: /root/.cache/pip/wheels/3f/e3/ec/8a8336ff196023622fbcb36de0c5a5c218cbb24111d1d4c7f2\n",
            "  Building wheel for typing (setup.py) ... \u001b[?25l\u001b[?25hdone\n",
            "  Created wheel for typing: filename=typing-3.7.4.3-py3-none-any.whl size=26339 sha256=ec49b5d2206e6566ce0cf3b7e9938d9b41f6657bb465fb6fbb5b0ba9abfaaaa9\n",
            "  Stored in directory: /root/.cache/pip/wheels/35/f3/15/01aa6571f0a72ee6ae7b827c1491c37a1f72d686fd22b43b0e\n",
            "  Building wheel for wrapt (setup.py) ... \u001b[?25l\u001b[?25hdone\n",
            "  Created wheel for wrapt: filename=wrapt-1.12.1-cp37-cp37m-linux_x86_64.whl size=68716 sha256=31c67190ae0031faab5069da9124d589092ce64f799e35108c58215e40f58bd8\n",
            "  Stored in directory: /root/.cache/pip/wheels/62/76/4c/aa25851149f3f6d9785f6c869387ad82b3fd37582fa8147ac6\n",
            "Successfully built func-timeout pyvis ete3 termcolor typing wrapt\n",
            "Installing collected packages: typing-extensions, numpy, ppft, pox, multiprocess, jedi, pyaml, py4j, pluggy, pathos, pandas, matplotlib, jsonpickle, iniconfig, grpcio, exceptiongroup, absl-py, xgboost, wrapt, typing, testfixtures, termcolor, tensorflow-estimator, scikit-optimize, SALib, pyvis, pytest, psutil, Pillow, lightgbm, hyperopt, h5py, gast, func-timeout, ete3, catboost, anytree, tensorflow, gensim, fedot\n",
            "  Attempting uninstall: typing-extensions\n",
            "    Found existing installation: typing-extensions 4.1.1\n",
            "    Uninstalling typing-extensions-4.1.1:\n",
            "      Successfully uninstalled typing-extensions-4.1.1\n",
            "  Attempting uninstall: numpy\n",
            "    Found existing installation: numpy 1.21.6\n",
            "    Uninstalling numpy-1.21.6:\n",
            "      Successfully uninstalled numpy-1.21.6\n",
            "  Attempting uninstall: pluggy\n",
            "    Found existing installation: pluggy 0.7.1\n",
            "    Uninstalling pluggy-0.7.1:\n",
            "      Successfully uninstalled pluggy-0.7.1\n",
            "  Attempting uninstall: pandas\n",
            "    Found existing installation: pandas 1.3.5\n",
            "    Uninstalling pandas-1.3.5:\n",
            "      Successfully uninstalled pandas-1.3.5\n",
            "  Attempting uninstall: matplotlib\n",
            "    Found existing installation: matplotlib 3.2.2\n",
            "    Uninstalling matplotlib-3.2.2:\n",
            "      Successfully uninstalled matplotlib-3.2.2\n",
            "  Attempting uninstall: grpcio\n",
            "    Found existing installation: grpcio 1.50.0\n",
            "    Uninstalling grpcio-1.50.0:\n",
            "      Successfully uninstalled grpcio-1.50.0\n",
            "  Attempting uninstall: absl-py\n",
            "    Found existing installation: absl-py 1.3.0\n",
            "    Uninstalling absl-py-1.3.0:\n",
            "      Successfully uninstalled absl-py-1.3.0\n",
            "  Attempting uninstall: xgboost\n",
            "    Found existing installation: xgboost 0.90\n",
            "    Uninstalling xgboost-0.90:\n",
            "      Successfully uninstalled xgboost-0.90\n",
            "  Attempting uninstall: wrapt\n",
            "    Found existing installation: wrapt 1.14.1\n",
            "    Uninstalling wrapt-1.14.1:\n",
            "      Successfully uninstalled wrapt-1.14.1\n",
            "  Attempting uninstall: termcolor\n",
            "    Found existing installation: termcolor 2.1.0\n",
            "    Uninstalling termcolor-2.1.0:\n",
            "      Successfully uninstalled termcolor-2.1.0\n",
            "  Attempting uninstall: tensorflow-estimator\n",
            "    Found existing installation: tensorflow-estimator 2.9.0\n",
            "    Uninstalling tensorflow-estimator-2.9.0:\n",
            "      Successfully uninstalled tensorflow-estimator-2.9.0\n",
            "  Attempting uninstall: pytest\n",
            "    Found existing installation: pytest 3.6.4\n",
            "    Uninstalling pytest-3.6.4:\n",
            "      Successfully uninstalled pytest-3.6.4\n",
            "  Attempting uninstall: psutil\n",
            "    Found existing installation: psutil 5.4.8\n",
            "    Uninstalling psutil-5.4.8:\n",
            "      Successfully uninstalled psutil-5.4.8\n",
            "  Attempting uninstall: Pillow\n",
            "    Found existing installation: Pillow 7.1.2\n",
            "    Uninstalling Pillow-7.1.2:\n",
            "      Successfully uninstalled Pillow-7.1.2\n",
            "  Attempting uninstall: lightgbm\n",
            "    Found existing installation: lightgbm 2.2.3\n",
            "    Uninstalling lightgbm-2.2.3:\n",
            "      Successfully uninstalled lightgbm-2.2.3\n",
            "  Attempting uninstall: hyperopt\n",
            "    Found existing installation: hyperopt 0.1.2\n",
            "    Uninstalling hyperopt-0.1.2:\n",
            "      Successfully uninstalled hyperopt-0.1.2\n",
            "  Attempting uninstall: h5py\n",
            "    Found existing installation: h5py 3.1.0\n",
            "    Uninstalling h5py-3.1.0:\n",
            "      Successfully uninstalled h5py-3.1.0\n",
            "  Attempting uninstall: gast\n",
            "    Found existing installation: gast 0.4.0\n",
            "    Uninstalling gast-0.4.0:\n",
            "      Successfully uninstalled gast-0.4.0\n",
            "  Attempting uninstall: tensorflow\n",
            "    Found existing installation: tensorflow 2.9.2\n",
            "    Uninstalling tensorflow-2.9.2:\n",
            "      Successfully uninstalled tensorflow-2.9.2\n",
            "  Attempting uninstall: gensim\n",
            "    Found existing installation: gensim 3.6.0\n",
            "    Uninstalling gensim-3.6.0:\n",
            "      Successfully uninstalled gensim-3.6.0\n",
            "\u001b[31mERROR: pip's dependency resolver does not currently take into account all the packages that are installed. This behaviour is the source of the following dependency conflicts.\n",
            "xarray-einstats 0.2.2 requires numpy>=1.21, but you have numpy 1.19.5 which is incompatible.\n",
            "pydantic 1.10.2 requires typing-extensions>=4.1.0, but you have typing-extensions 3.7.4.3 which is incompatible.\n",
            "plotnine 0.8.0 requires matplotlib>=3.1.1, but you have matplotlib 3.0.2 which is incompatible.\n",
            "mizani 0.7.3 requires matplotlib>=3.1.1, but you have matplotlib 3.0.2 which is incompatible.\n",
            "jaxlib 0.3.22+cuda11.cudnn805 requires numpy>=1.20, but you have numpy 1.19.5 which is incompatible.\n",
            "jax 0.3.23 requires numpy>=1.20, but you have numpy 1.19.5 which is incompatible.\n",
            "grpcio-status 1.48.2 requires grpcio>=1.48.2, but you have grpcio 1.32.0 which is incompatible.\n",
            "google-cloud-bigquery 3.3.6 requires grpcio<2.0dev,>=1.47.0, but you have grpcio 1.32.0 which is incompatible.\n",
            "cmdstanpy 1.0.8 requires numpy>=1.21, but you have numpy 1.19.5 which is incompatible.\u001b[0m\n",
            "Successfully installed Pillow-9.3.0 SALib-1.4.6b1 absl-py-0.15.0 anytree-2.8.0 catboost-1.1.1 ete3-3.1.2 exceptiongroup-1.0.4 fedot-0.6.0 func-timeout-4.3.5 gast-0.3.3 gensim-4.2.0 grpcio-1.32.0 h5py-2.10.0 hyperopt-0.2.7 iniconfig-1.1.1 jedi-0.18.1 jsonpickle-2.2.0 lightgbm-3.3.3 matplotlib-3.0.2 multiprocess-0.70.14 numpy-1.19.5 pandas-1.2.5 pathos-0.3.0 pluggy-1.0.0 pox-0.3.2 ppft-1.7.6.6 psutil-5.9.4 py4j-0.10.9.7 pyaml-21.10.1 pytest-7.2.0 pyvis-0.2.1 scikit-optimize-0.9.0 tensorflow-2.4.4 tensorflow-estimator-2.4.0 termcolor-1.1.0 testfixtures-7.0.3 typing-3.7.4.3 typing-extensions-3.7.4.3 wrapt-1.12.1 xgboost-1.6.2\n"
          ]
        },
        {
          "output_type": "display_data",
          "data": {
            "application/vnd.colab-display-data+json": {
              "pip_warning": {
                "packages": [
                  "PIL",
                  "matplotlib",
                  "mpl_toolkits",
                  "numpy",
                  "psutil",
                  "typing",
                  "typing_extensions"
                ]
              }
            }
          },
          "metadata": {}
        }
      ]
    },
    {
      "cell_type": "code",
      "execution_count": 1,
      "metadata": {
        "id": "2KgBOrPmn3PA"
      },
      "outputs": [],
      "source": [
        "import numpy as np\n",
        "import pandas as pd\n",
        "\n",
        "# Plots\n",
        "# ==============================================================================\n",
        "import matplotlib.pyplot as plt\n",
        "from statsmodels.graphics.tsaplots import plot_acf\n",
        "from statsmodels.graphics.tsaplots import plot_pacf\n",
        "import plotly.express as px\n",
        "plt.style.use('fivethirtyeight')\n",
        "plt.rcParams['lines.linewidth'] = 1.5\n",
        "%matplotlib inline\n",
        "\n",
        "# Modelling and Forecasting\n",
        "# ==============================================================================\n",
        "from xgboost import XGBRegressor\n",
        "from xgboost import plot_importance, plot_tree\n",
        "from lightgbm import LGBMRegressor\n",
        "\n",
        "from sklearn.preprocessing import OneHotEncoder\n",
        "from sklearn.preprocessing import StandardScaler\n",
        "from sklearn.compose import ColumnTransformer\n",
        "\n",
        "from datetime import date\n",
        "from joblib import dump, load\n",
        "\n",
        "# Configuration\n",
        "# ==============================================================================\n",
        "import warnings\n",
        "import holidays\n",
        "warnings.filterwarnings('ignore')\n",
        "\n"
      ]
    },
    {
      "cell_type": "code",
      "source": [
        "!wget https://www.dropbox.com/s/4dw1rn2u3hi5ew4/train_preprocessed.csv -P data\n",
        "!wget https://www.dropbox.com/s/hiqdtfza0z0fi2l/test.csv -P data\n",
        "!wget https://www.dropbox.com/s/9z4b0rbak5zrgmh/valid.csv -P data"
      ],
      "metadata": {
        "colab": {
          "base_uri": "https://localhost:8080/"
        },
        "id": "psBWL8Unn9fc",
        "outputId": "2c6eed50-d1ed-41d4-f7d4-7713cd7d546f"
      },
      "execution_count": 3,
      "outputs": [
        {
          "output_type": "stream",
          "name": "stdout",
          "text": [
            "--2022-11-16 14:21:34--  https://www.dropbox.com/s/4dw1rn2u3hi5ew4/train_preprocessed.csv\n",
            "Resolving www.dropbox.com (www.dropbox.com)... 162.125.65.18, 2620:100:6021:18::a27d:4112\n",
            "Connecting to www.dropbox.com (www.dropbox.com)|162.125.65.18|:443... connected.\n",
            "HTTP request sent, awaiting response... 302 Found\n",
            "Location: /s/raw/4dw1rn2u3hi5ew4/train_preprocessed.csv [following]\n",
            "--2022-11-16 14:21:35--  https://www.dropbox.com/s/raw/4dw1rn2u3hi5ew4/train_preprocessed.csv\n",
            "Reusing existing connection to www.dropbox.com:443.\n",
            "HTTP request sent, awaiting response... 302 Found\n",
            "Location: https://uc244b5e038db09ab6c9da5745c0.dl.dropboxusercontent.com/cd/0/inline/Bw0A0NYb68no0YqOdnwOgEpGuh21N6j8TpJ_0x5Y3qvek1OSt_XmmfSC0ahG_lHnlAwVX1EoeIiyY2yt-5sw6Uav-Ukd-cm1_3IaslTlbrNHDTn2EV_jt25IaGsbWnkc3PAJz2ptMDDqmtwVH_ThTLbUnc5hKjnnkZ3-wxqML2mGew/file# [following]\n",
            "--2022-11-16 14:21:35--  https://uc244b5e038db09ab6c9da5745c0.dl.dropboxusercontent.com/cd/0/inline/Bw0A0NYb68no0YqOdnwOgEpGuh21N6j8TpJ_0x5Y3qvek1OSt_XmmfSC0ahG_lHnlAwVX1EoeIiyY2yt-5sw6Uav-Ukd-cm1_3IaslTlbrNHDTn2EV_jt25IaGsbWnkc3PAJz2ptMDDqmtwVH_ThTLbUnc5hKjnnkZ3-wxqML2mGew/file\n",
            "Resolving uc244b5e038db09ab6c9da5745c0.dl.dropboxusercontent.com (uc244b5e038db09ab6c9da5745c0.dl.dropboxusercontent.com)... 162.125.65.15, 2620:100:6020:15::a27d:400f\n",
            "Connecting to uc244b5e038db09ab6c9da5745c0.dl.dropboxusercontent.com (uc244b5e038db09ab6c9da5745c0.dl.dropboxusercontent.com)|162.125.65.15|:443... connected.\n",
            "HTTP request sent, awaiting response... 200 OK\n",
            "Length: 465226921 (444M) [text/plain]\n",
            "Saving to: ‘data/train_preprocessed.csv’\n",
            "\n",
            "train_preprocessed. 100%[===================>] 443.67M  29.2MB/s    in 15s     \n",
            "\n",
            "2022-11-16 14:21:51 (29.0 MB/s) - ‘data/train_preprocessed.csv’ saved [465226921/465226921]\n",
            "\n",
            "--2022-11-16 14:21:51--  https://www.dropbox.com/s/hiqdtfza0z0fi2l/test.csv\n",
            "Resolving www.dropbox.com (www.dropbox.com)... 162.125.65.18, 2620:100:6021:18::a27d:4112\n",
            "Connecting to www.dropbox.com (www.dropbox.com)|162.125.65.18|:443... connected.\n",
            "HTTP request sent, awaiting response... 302 Found\n",
            "Location: /s/raw/hiqdtfza0z0fi2l/test.csv [following]\n",
            "--2022-11-16 14:21:52--  https://www.dropbox.com/s/raw/hiqdtfza0z0fi2l/test.csv\n",
            "Reusing existing connection to www.dropbox.com:443.\n",
            "HTTP request sent, awaiting response... 302 Found\n",
            "Location: https://uc2bd4ea3628d64bc5200e22ece4.dl.dropboxusercontent.com/cd/0/inline/Bw1ERdOBx-72r4qsvyQ7yvJ2_O_s4uXVmgMIgAdSVK1fJ3vnJ2ySF5Boo9OuTm_EArEfvuZ4UrmprxGImWawLK7Yh1e69zyehLkI6qMv1HiZnZbEDyXPQyVpKlO1q_odaaj_0Bv3oNmIyEgDyrPIpxs91Kxw4MWuZJvRmoY7pP0OhQ/file# [following]\n",
            "--2022-11-16 14:21:52--  https://uc2bd4ea3628d64bc5200e22ece4.dl.dropboxusercontent.com/cd/0/inline/Bw1ERdOBx-72r4qsvyQ7yvJ2_O_s4uXVmgMIgAdSVK1fJ3vnJ2ySF5Boo9OuTm_EArEfvuZ4UrmprxGImWawLK7Yh1e69zyehLkI6qMv1HiZnZbEDyXPQyVpKlO1q_odaaj_0Bv3oNmIyEgDyrPIpxs91Kxw4MWuZJvRmoY7pP0OhQ/file\n",
            "Resolving uc2bd4ea3628d64bc5200e22ece4.dl.dropboxusercontent.com (uc2bd4ea3628d64bc5200e22ece4.dl.dropboxusercontent.com)... 162.125.65.15, 2620:100:6021:15::a27d:410f\n",
            "Connecting to uc2bd4ea3628d64bc5200e22ece4.dl.dropboxusercontent.com (uc2bd4ea3628d64bc5200e22ece4.dl.dropboxusercontent.com)|162.125.65.15|:443... connected.\n",
            "HTTP request sent, awaiting response... 200 OK\n",
            "Length: 83642 (82K) [text/plain]\n",
            "Saving to: ‘data/test.csv’\n",
            "\n",
            "test.csv            100%[===================>]  81.68K  --.-KB/s    in 0.008s  \n",
            "\n",
            "2022-11-16 14:21:53 (9.94 MB/s) - ‘data/test.csv’ saved [83642/83642]\n",
            "\n",
            "--2022-11-16 14:21:53--  https://www.dropbox.com/s/9z4b0rbak5zrgmh/valid.csv\n",
            "Resolving www.dropbox.com (www.dropbox.com)... 162.125.65.18, 2620:100:6021:18::a27d:4112\n",
            "Connecting to www.dropbox.com (www.dropbox.com)|162.125.65.18|:443... connected.\n",
            "HTTP request sent, awaiting response... 302 Found\n",
            "Location: /s/raw/9z4b0rbak5zrgmh/valid.csv [following]\n",
            "--2022-11-16 14:21:53--  https://www.dropbox.com/s/raw/9z4b0rbak5zrgmh/valid.csv\n",
            "Reusing existing connection to www.dropbox.com:443.\n",
            "HTTP request sent, awaiting response... 302 Found\n",
            "Location: https://ucdc70b01a333d183dbded23e594.dl.dropboxusercontent.com/cd/0/inline/Bw1-hIeZwNng2Sre9EUM6hZRHBKdzY5pAb0tJXsIEFm4TFCfjWltdp2apnjvi604LfenztVp9V8O8Jiq978yL4siXFv_FwTuyuGeJw-R7IsisH-AVNem-f_49i7kh5asZvUm9BqC6w0qZBBWskfRtAZMNF7pNhR5mifUUrOa-WZEoA/file# [following]\n",
            "--2022-11-16 14:21:54--  https://ucdc70b01a333d183dbded23e594.dl.dropboxusercontent.com/cd/0/inline/Bw1-hIeZwNng2Sre9EUM6hZRHBKdzY5pAb0tJXsIEFm4TFCfjWltdp2apnjvi604LfenztVp9V8O8Jiq978yL4siXFv_FwTuyuGeJw-R7IsisH-AVNem-f_49i7kh5asZvUm9BqC6w0qZBBWskfRtAZMNF7pNhR5mifUUrOa-WZEoA/file\n",
            "Resolving ucdc70b01a333d183dbded23e594.dl.dropboxusercontent.com (ucdc70b01a333d183dbded23e594.dl.dropboxusercontent.com)... 162.125.65.15, 2620:100:6021:15::a27d:410f\n",
            "Connecting to ucdc70b01a333d183dbded23e594.dl.dropboxusercontent.com (ucdc70b01a333d183dbded23e594.dl.dropboxusercontent.com)|162.125.65.15|:443... connected.\n",
            "HTTP request sent, awaiting response... 200 OK\n",
            "Length: 84364 (82K) [text/plain]\n",
            "Saving to: ‘data/valid.csv’\n",
            "\n",
            "valid.csv           100%[===================>]  82.39K  --.-KB/s    in 0.008s  \n",
            "\n",
            "2022-11-16 14:21:54 (9.74 MB/s) - ‘data/valid.csv’ saved [84364/84364]\n",
            "\n"
          ]
        }
      ]
    },
    {
      "cell_type": "code",
      "execution_count": 4,
      "metadata": {
        "colab": {
          "base_uri": "https://localhost:8080/",
          "height": 424
        },
        "id": "1KTKi0hcn3PD",
        "outputId": "b2ae9eba-55da-4037-fc8e-4a635c975ea3"
      },
      "outputs": [
        {
          "output_type": "execute_result",
          "data": {
            "text/plain": [
              "                                                     point        lon  \\\n",
              "0        0101000020E610000002A5EC7AB31D3E4097654065F8EA...  30.116020   \n",
              "1        0101000020E610000002A5EC7AB31D3E4097654065F8EA...  30.116020   \n",
              "2        0101000020E610000002A5EC7AB31D3E4097654065F8EA...  30.116020   \n",
              "3        0101000020E610000002A5EC7AB31D3E4097654065F8EA...  30.116020   \n",
              "4        0101000020E610000002A5EC7AB31D3E4097654065F8EA...  30.116020   \n",
              "...                                                    ...        ...   \n",
              "3625651  0101000020E6100000FF9D4C0EC3853E4094782B2D0DF3...  30.522508   \n",
              "3625652  0101000020E6100000FF9D4C0EC3853E4094782B2D0DF3...  30.522508   \n",
              "3625653  0101000020E6100000FF9D4C0EC3853E40ABD94A1972EF...  30.522508   \n",
              "3625654  0101000020E6100000FF9D4C0EC3853E40ABD94A1972EF...  30.522508   \n",
              "3625655  0101000020E6100000FF9D4C0EC3853E40F2755E8979F2...  30.522508   \n",
              "\n",
              "               lat                 time   timestamp  num_posts  \n",
              "0        59.835705  2019-11-22 11:00:00  1574420400          1  \n",
              "1        59.835705  2019-11-22 12:00:00  1574424000          1  \n",
              "2        59.835705  2019-11-23 13:00:00  1574514000          1  \n",
              "3        59.835705  2019-11-25 16:00:00  1574697600          1  \n",
              "4        59.835705  2019-11-27 10:00:00  1574848800          1  \n",
              "...            ...                  ...         ...        ...  \n",
              "3625651  59.898840  2019-12-06 04:00:00  3151209600          2  \n",
              "3625652  59.898840  2019-12-23 08:00:00  1577088000          1  \n",
              "3625653  59.870670  2019-06-10 09:00:00  1560157200          1  \n",
              "3625654  59.870670  2019-10-06 14:00:00  1570370400          1  \n",
              "3625655  59.894334  2019-08-16 10:00:00  1565949600          1  \n",
              "\n",
              "[3625656 rows x 6 columns]"
            ],
            "text/html": [
              "\n",
              "  <div id=\"df-f1f0ffef-3a89-4804-968f-8443e9aba312\">\n",
              "    <div class=\"colab-df-container\">\n",
              "      <div>\n",
              "<style scoped>\n",
              "    .dataframe tbody tr th:only-of-type {\n",
              "        vertical-align: middle;\n",
              "    }\n",
              "\n",
              "    .dataframe tbody tr th {\n",
              "        vertical-align: top;\n",
              "    }\n",
              "\n",
              "    .dataframe thead th {\n",
              "        text-align: right;\n",
              "    }\n",
              "</style>\n",
              "<table border=\"1\" class=\"dataframe\">\n",
              "  <thead>\n",
              "    <tr style=\"text-align: right;\">\n",
              "      <th></th>\n",
              "      <th>point</th>\n",
              "      <th>lon</th>\n",
              "      <th>lat</th>\n",
              "      <th>time</th>\n",
              "      <th>timestamp</th>\n",
              "      <th>num_posts</th>\n",
              "    </tr>\n",
              "  </thead>\n",
              "  <tbody>\n",
              "    <tr>\n",
              "      <th>0</th>\n",
              "      <td>0101000020E610000002A5EC7AB31D3E4097654065F8EA...</td>\n",
              "      <td>30.116020</td>\n",
              "      <td>59.835705</td>\n",
              "      <td>2019-11-22 11:00:00</td>\n",
              "      <td>1574420400</td>\n",
              "      <td>1</td>\n",
              "    </tr>\n",
              "    <tr>\n",
              "      <th>1</th>\n",
              "      <td>0101000020E610000002A5EC7AB31D3E4097654065F8EA...</td>\n",
              "      <td>30.116020</td>\n",
              "      <td>59.835705</td>\n",
              "      <td>2019-11-22 12:00:00</td>\n",
              "      <td>1574424000</td>\n",
              "      <td>1</td>\n",
              "    </tr>\n",
              "    <tr>\n",
              "      <th>2</th>\n",
              "      <td>0101000020E610000002A5EC7AB31D3E4097654065F8EA...</td>\n",
              "      <td>30.116020</td>\n",
              "      <td>59.835705</td>\n",
              "      <td>2019-11-23 13:00:00</td>\n",
              "      <td>1574514000</td>\n",
              "      <td>1</td>\n",
              "    </tr>\n",
              "    <tr>\n",
              "      <th>3</th>\n",
              "      <td>0101000020E610000002A5EC7AB31D3E4097654065F8EA...</td>\n",
              "      <td>30.116020</td>\n",
              "      <td>59.835705</td>\n",
              "      <td>2019-11-25 16:00:00</td>\n",
              "      <td>1574697600</td>\n",
              "      <td>1</td>\n",
              "    </tr>\n",
              "    <tr>\n",
              "      <th>4</th>\n",
              "      <td>0101000020E610000002A5EC7AB31D3E4097654065F8EA...</td>\n",
              "      <td>30.116020</td>\n",
              "      <td>59.835705</td>\n",
              "      <td>2019-11-27 10:00:00</td>\n",
              "      <td>1574848800</td>\n",
              "      <td>1</td>\n",
              "    </tr>\n",
              "    <tr>\n",
              "      <th>...</th>\n",
              "      <td>...</td>\n",
              "      <td>...</td>\n",
              "      <td>...</td>\n",
              "      <td>...</td>\n",
              "      <td>...</td>\n",
              "      <td>...</td>\n",
              "    </tr>\n",
              "    <tr>\n",
              "      <th>3625651</th>\n",
              "      <td>0101000020E6100000FF9D4C0EC3853E4094782B2D0DF3...</td>\n",
              "      <td>30.522508</td>\n",
              "      <td>59.898840</td>\n",
              "      <td>2019-12-06 04:00:00</td>\n",
              "      <td>3151209600</td>\n",
              "      <td>2</td>\n",
              "    </tr>\n",
              "    <tr>\n",
              "      <th>3625652</th>\n",
              "      <td>0101000020E6100000FF9D4C0EC3853E4094782B2D0DF3...</td>\n",
              "      <td>30.522508</td>\n",
              "      <td>59.898840</td>\n",
              "      <td>2019-12-23 08:00:00</td>\n",
              "      <td>1577088000</td>\n",
              "      <td>1</td>\n",
              "    </tr>\n",
              "    <tr>\n",
              "      <th>3625653</th>\n",
              "      <td>0101000020E6100000FF9D4C0EC3853E40ABD94A1972EF...</td>\n",
              "      <td>30.522508</td>\n",
              "      <td>59.870670</td>\n",
              "      <td>2019-06-10 09:00:00</td>\n",
              "      <td>1560157200</td>\n",
              "      <td>1</td>\n",
              "    </tr>\n",
              "    <tr>\n",
              "      <th>3625654</th>\n",
              "      <td>0101000020E6100000FF9D4C0EC3853E40ABD94A1972EF...</td>\n",
              "      <td>30.522508</td>\n",
              "      <td>59.870670</td>\n",
              "      <td>2019-10-06 14:00:00</td>\n",
              "      <td>1570370400</td>\n",
              "      <td>1</td>\n",
              "    </tr>\n",
              "    <tr>\n",
              "      <th>3625655</th>\n",
              "      <td>0101000020E6100000FF9D4C0EC3853E40F2755E8979F2...</td>\n",
              "      <td>30.522508</td>\n",
              "      <td>59.894334</td>\n",
              "      <td>2019-08-16 10:00:00</td>\n",
              "      <td>1565949600</td>\n",
              "      <td>1</td>\n",
              "    </tr>\n",
              "  </tbody>\n",
              "</table>\n",
              "<p>3625656 rows × 6 columns</p>\n",
              "</div>\n",
              "      <button class=\"colab-df-convert\" onclick=\"convertToInteractive('df-f1f0ffef-3a89-4804-968f-8443e9aba312')\"\n",
              "              title=\"Convert this dataframe to an interactive table.\"\n",
              "              style=\"display:none;\">\n",
              "        \n",
              "  <svg xmlns=\"http://www.w3.org/2000/svg\" height=\"24px\"viewBox=\"0 0 24 24\"\n",
              "       width=\"24px\">\n",
              "    <path d=\"M0 0h24v24H0V0z\" fill=\"none\"/>\n",
              "    <path d=\"M18.56 5.44l.94 2.06.94-2.06 2.06-.94-2.06-.94-.94-2.06-.94 2.06-2.06.94zm-11 1L8.5 8.5l.94-2.06 2.06-.94-2.06-.94L8.5 2.5l-.94 2.06-2.06.94zm10 10l.94 2.06.94-2.06 2.06-.94-2.06-.94-.94-2.06-.94 2.06-2.06.94z\"/><path d=\"M17.41 7.96l-1.37-1.37c-.4-.4-.92-.59-1.43-.59-.52 0-1.04.2-1.43.59L10.3 9.45l-7.72 7.72c-.78.78-.78 2.05 0 2.83L4 21.41c.39.39.9.59 1.41.59.51 0 1.02-.2 1.41-.59l7.78-7.78 2.81-2.81c.8-.78.8-2.07 0-2.86zM5.41 20L4 18.59l7.72-7.72 1.47 1.35L5.41 20z\"/>\n",
              "  </svg>\n",
              "      </button>\n",
              "      \n",
              "  <style>\n",
              "    .colab-df-container {\n",
              "      display:flex;\n",
              "      flex-wrap:wrap;\n",
              "      gap: 12px;\n",
              "    }\n",
              "\n",
              "    .colab-df-convert {\n",
              "      background-color: #E8F0FE;\n",
              "      border: none;\n",
              "      border-radius: 50%;\n",
              "      cursor: pointer;\n",
              "      display: none;\n",
              "      fill: #1967D2;\n",
              "      height: 32px;\n",
              "      padding: 0 0 0 0;\n",
              "      width: 32px;\n",
              "    }\n",
              "\n",
              "    .colab-df-convert:hover {\n",
              "      background-color: #E2EBFA;\n",
              "      box-shadow: 0px 1px 2px rgba(60, 64, 67, 0.3), 0px 1px 3px 1px rgba(60, 64, 67, 0.15);\n",
              "      fill: #174EA6;\n",
              "    }\n",
              "\n",
              "    [theme=dark] .colab-df-convert {\n",
              "      background-color: #3B4455;\n",
              "      fill: #D2E3FC;\n",
              "    }\n",
              "\n",
              "    [theme=dark] .colab-df-convert:hover {\n",
              "      background-color: #434B5C;\n",
              "      box-shadow: 0px 1px 3px 1px rgba(0, 0, 0, 0.15);\n",
              "      filter: drop-shadow(0px 1px 2px rgba(0, 0, 0, 0.3));\n",
              "      fill: #FFFFFF;\n",
              "    }\n",
              "  </style>\n",
              "\n",
              "      <script>\n",
              "        const buttonEl =\n",
              "          document.querySelector('#df-f1f0ffef-3a89-4804-968f-8443e9aba312 button.colab-df-convert');\n",
              "        buttonEl.style.display =\n",
              "          google.colab.kernel.accessAllowed ? 'block' : 'none';\n",
              "\n",
              "        async function convertToInteractive(key) {\n",
              "          const element = document.querySelector('#df-f1f0ffef-3a89-4804-968f-8443e9aba312');\n",
              "          const dataTable =\n",
              "            await google.colab.kernel.invokeFunction('convertToInteractive',\n",
              "                                                     [key], {});\n",
              "          if (!dataTable) return;\n",
              "\n",
              "          const docLinkHtml = 'Like what you see? Visit the ' +\n",
              "            '<a target=\"_blank\" href=https://colab.research.google.com/notebooks/data_table.ipynb>data table notebook</a>'\n",
              "            + ' to learn more about interactive tables.';\n",
              "          element.innerHTML = '';\n",
              "          dataTable['output_type'] = 'display_data';\n",
              "          await google.colab.output.renderOutput(dataTable, element);\n",
              "          const docLink = document.createElement('div');\n",
              "          docLink.innerHTML = docLinkHtml;\n",
              "          element.appendChild(docLink);\n",
              "        }\n",
              "      </script>\n",
              "    </div>\n",
              "  </div>\n",
              "  "
            ]
          },
          "metadata": {},
          "execution_count": 4
        }
      ],
      "source": [
        "data_train = pd.read_csv('data/train_preprocessed.csv')\n",
        "data_train.drop('Unnamed: 0', axis=1, inplace=True)\n",
        "data_train"
      ]
    },
    {
      "cell_type": "code",
      "execution_count": 5,
      "metadata": {
        "colab": {
          "base_uri": "https://localhost:8080/",
          "height": 424
        },
        "id": "urWNiONHn3PE",
        "outputId": "12a0d71c-0e25-4bc6-e44a-4afd1453d2be"
      },
      "outputs": [
        {
          "output_type": "execute_result",
          "data": {
            "text/plain": [
              "           hour        lat        lon  \\\n",
              "0    1582711200  59.934863  30.331616   \n",
              "1    1581937200  59.940488  30.329370   \n",
              "2    1581523200  59.905597  30.297929   \n",
              "3    1581512400  59.921359  30.356319   \n",
              "4    1581771600  59.939363  30.315895   \n",
              "..          ...        ...        ...   \n",
              "695  1582059600  59.926986  30.331616   \n",
              "696  1582038000  59.925860  30.295683   \n",
              "697  1581926400  59.937113  30.282208   \n",
              "698  1582099200  59.933737  30.322632   \n",
              "699  1581764400  59.921359  30.356319   \n",
              "\n",
              "                                                 point  sum      error  \n",
              "0    0101000020E61000009BAC04C2E4543E40DB251193A9F7...    7   0.370265  \n",
              "1    0101000020E6100000DBC1F19351543E4006FC5DE561F8...    6   0.754735  \n",
              "2    0101000020E61000006AEBE80E454C3E407F614299EAF3...    5   3.754735  \n",
              "3    0101000020E6100000CFC2D4BC375B3E401FBF4913EFF5...   16   4.088069  \n",
              "4    0101000020E61000006141807FDE503E40A554BF083DF8...   10   2.088069  \n",
              "..                                                 ...  ...        ...  \n",
              "695  0101000020E61000009BAC04C2E4543E4070B5CC78A7F6...    6   0.754735  \n",
              "696  0101000020E6100000AB00D6E0B14B3E406379569882F6...   15   1.215399  \n",
              "697  0101000020E6100000328064CC3E483E400C288C4EF3F7...   20  18.754735  \n",
              "698  0101000020E61000009E01B90998523E407AB3D8B484F7...    8   2.754735  \n",
              "699  0101000020E6100000CFC2D4BC375B3E401FBF4913EFF5...   12   0.254735  \n",
              "\n",
              "[700 rows x 6 columns]"
            ],
            "text/html": [
              "\n",
              "  <div id=\"df-715a6b6d-594f-468f-8b4a-1534b16a6294\">\n",
              "    <div class=\"colab-df-container\">\n",
              "      <div>\n",
              "<style scoped>\n",
              "    .dataframe tbody tr th:only-of-type {\n",
              "        vertical-align: middle;\n",
              "    }\n",
              "\n",
              "    .dataframe tbody tr th {\n",
              "        vertical-align: top;\n",
              "    }\n",
              "\n",
              "    .dataframe thead th {\n",
              "        text-align: right;\n",
              "    }\n",
              "</style>\n",
              "<table border=\"1\" class=\"dataframe\">\n",
              "  <thead>\n",
              "    <tr style=\"text-align: right;\">\n",
              "      <th></th>\n",
              "      <th>hour</th>\n",
              "      <th>lat</th>\n",
              "      <th>lon</th>\n",
              "      <th>point</th>\n",
              "      <th>sum</th>\n",
              "      <th>error</th>\n",
              "    </tr>\n",
              "  </thead>\n",
              "  <tbody>\n",
              "    <tr>\n",
              "      <th>0</th>\n",
              "      <td>1582711200</td>\n",
              "      <td>59.934863</td>\n",
              "      <td>30.331616</td>\n",
              "      <td>0101000020E61000009BAC04C2E4543E40DB251193A9F7...</td>\n",
              "      <td>7</td>\n",
              "      <td>0.370265</td>\n",
              "    </tr>\n",
              "    <tr>\n",
              "      <th>1</th>\n",
              "      <td>1581937200</td>\n",
              "      <td>59.940488</td>\n",
              "      <td>30.329370</td>\n",
              "      <td>0101000020E6100000DBC1F19351543E4006FC5DE561F8...</td>\n",
              "      <td>6</td>\n",
              "      <td>0.754735</td>\n",
              "    </tr>\n",
              "    <tr>\n",
              "      <th>2</th>\n",
              "      <td>1581523200</td>\n",
              "      <td>59.905597</td>\n",
              "      <td>30.297929</td>\n",
              "      <td>0101000020E61000006AEBE80E454C3E407F614299EAF3...</td>\n",
              "      <td>5</td>\n",
              "      <td>3.754735</td>\n",
              "    </tr>\n",
              "    <tr>\n",
              "      <th>3</th>\n",
              "      <td>1581512400</td>\n",
              "      <td>59.921359</td>\n",
              "      <td>30.356319</td>\n",
              "      <td>0101000020E6100000CFC2D4BC375B3E401FBF4913EFF5...</td>\n",
              "      <td>16</td>\n",
              "      <td>4.088069</td>\n",
              "    </tr>\n",
              "    <tr>\n",
              "      <th>4</th>\n",
              "      <td>1581771600</td>\n",
              "      <td>59.939363</td>\n",
              "      <td>30.315895</td>\n",
              "      <td>0101000020E61000006141807FDE503E40A554BF083DF8...</td>\n",
              "      <td>10</td>\n",
              "      <td>2.088069</td>\n",
              "    </tr>\n",
              "    <tr>\n",
              "      <th>...</th>\n",
              "      <td>...</td>\n",
              "      <td>...</td>\n",
              "      <td>...</td>\n",
              "      <td>...</td>\n",
              "      <td>...</td>\n",
              "      <td>...</td>\n",
              "    </tr>\n",
              "    <tr>\n",
              "      <th>695</th>\n",
              "      <td>1582059600</td>\n",
              "      <td>59.926986</td>\n",
              "      <td>30.331616</td>\n",
              "      <td>0101000020E61000009BAC04C2E4543E4070B5CC78A7F6...</td>\n",
              "      <td>6</td>\n",
              "      <td>0.754735</td>\n",
              "    </tr>\n",
              "    <tr>\n",
              "      <th>696</th>\n",
              "      <td>1582038000</td>\n",
              "      <td>59.925860</td>\n",
              "      <td>30.295683</td>\n",
              "      <td>0101000020E6100000AB00D6E0B14B3E406379569882F6...</td>\n",
              "      <td>15</td>\n",
              "      <td>1.215399</td>\n",
              "    </tr>\n",
              "    <tr>\n",
              "      <th>697</th>\n",
              "      <td>1581926400</td>\n",
              "      <td>59.937113</td>\n",
              "      <td>30.282208</td>\n",
              "      <td>0101000020E6100000328064CC3E483E400C288C4EF3F7...</td>\n",
              "      <td>20</td>\n",
              "      <td>18.754735</td>\n",
              "    </tr>\n",
              "    <tr>\n",
              "      <th>698</th>\n",
              "      <td>1582099200</td>\n",
              "      <td>59.933737</td>\n",
              "      <td>30.322632</td>\n",
              "      <td>0101000020E61000009E01B90998523E407AB3D8B484F7...</td>\n",
              "      <td>8</td>\n",
              "      <td>2.754735</td>\n",
              "    </tr>\n",
              "    <tr>\n",
              "      <th>699</th>\n",
              "      <td>1581764400</td>\n",
              "      <td>59.921359</td>\n",
              "      <td>30.356319</td>\n",
              "      <td>0101000020E6100000CFC2D4BC375B3E401FBF4913EFF5...</td>\n",
              "      <td>12</td>\n",
              "      <td>0.254735</td>\n",
              "    </tr>\n",
              "  </tbody>\n",
              "</table>\n",
              "<p>700 rows × 6 columns</p>\n",
              "</div>\n",
              "      <button class=\"colab-df-convert\" onclick=\"convertToInteractive('df-715a6b6d-594f-468f-8b4a-1534b16a6294')\"\n",
              "              title=\"Convert this dataframe to an interactive table.\"\n",
              "              style=\"display:none;\">\n",
              "        \n",
              "  <svg xmlns=\"http://www.w3.org/2000/svg\" height=\"24px\"viewBox=\"0 0 24 24\"\n",
              "       width=\"24px\">\n",
              "    <path d=\"M0 0h24v24H0V0z\" fill=\"none\"/>\n",
              "    <path d=\"M18.56 5.44l.94 2.06.94-2.06 2.06-.94-2.06-.94-.94-2.06-.94 2.06-2.06.94zm-11 1L8.5 8.5l.94-2.06 2.06-.94-2.06-.94L8.5 2.5l-.94 2.06-2.06.94zm10 10l.94 2.06.94-2.06 2.06-.94-2.06-.94-.94-2.06-.94 2.06-2.06.94z\"/><path d=\"M17.41 7.96l-1.37-1.37c-.4-.4-.92-.59-1.43-.59-.52 0-1.04.2-1.43.59L10.3 9.45l-7.72 7.72c-.78.78-.78 2.05 0 2.83L4 21.41c.39.39.9.59 1.41.59.51 0 1.02-.2 1.41-.59l7.78-7.78 2.81-2.81c.8-.78.8-2.07 0-2.86zM5.41 20L4 18.59l7.72-7.72 1.47 1.35L5.41 20z\"/>\n",
              "  </svg>\n",
              "      </button>\n",
              "      \n",
              "  <style>\n",
              "    .colab-df-container {\n",
              "      display:flex;\n",
              "      flex-wrap:wrap;\n",
              "      gap: 12px;\n",
              "    }\n",
              "\n",
              "    .colab-df-convert {\n",
              "      background-color: #E8F0FE;\n",
              "      border: none;\n",
              "      border-radius: 50%;\n",
              "      cursor: pointer;\n",
              "      display: none;\n",
              "      fill: #1967D2;\n",
              "      height: 32px;\n",
              "      padding: 0 0 0 0;\n",
              "      width: 32px;\n",
              "    }\n",
              "\n",
              "    .colab-df-convert:hover {\n",
              "      background-color: #E2EBFA;\n",
              "      box-shadow: 0px 1px 2px rgba(60, 64, 67, 0.3), 0px 1px 3px 1px rgba(60, 64, 67, 0.15);\n",
              "      fill: #174EA6;\n",
              "    }\n",
              "\n",
              "    [theme=dark] .colab-df-convert {\n",
              "      background-color: #3B4455;\n",
              "      fill: #D2E3FC;\n",
              "    }\n",
              "\n",
              "    [theme=dark] .colab-df-convert:hover {\n",
              "      background-color: #434B5C;\n",
              "      box-shadow: 0px 1px 3px 1px rgba(0, 0, 0, 0.15);\n",
              "      filter: drop-shadow(0px 1px 2px rgba(0, 0, 0, 0.3));\n",
              "      fill: #FFFFFF;\n",
              "    }\n",
              "  </style>\n",
              "\n",
              "      <script>\n",
              "        const buttonEl =\n",
              "          document.querySelector('#df-715a6b6d-594f-468f-8b4a-1534b16a6294 button.colab-df-convert');\n",
              "        buttonEl.style.display =\n",
              "          google.colab.kernel.accessAllowed ? 'block' : 'none';\n",
              "\n",
              "        async function convertToInteractive(key) {\n",
              "          const element = document.querySelector('#df-715a6b6d-594f-468f-8b4a-1534b16a6294');\n",
              "          const dataTable =\n",
              "            await google.colab.kernel.invokeFunction('convertToInteractive',\n",
              "                                                     [key], {});\n",
              "          if (!dataTable) return;\n",
              "\n",
              "          const docLinkHtml = 'Like what you see? Visit the ' +\n",
              "            '<a target=\"_blank\" href=https://colab.research.google.com/notebooks/data_table.ipynb>data table notebook</a>'\n",
              "            + ' to learn more about interactive tables.';\n",
              "          element.innerHTML = '';\n",
              "          dataTable['output_type'] = 'display_data';\n",
              "          await google.colab.output.renderOutput(dataTable, element);\n",
              "          const docLink = document.createElement('div');\n",
              "          docLink.innerHTML = docLinkHtml;\n",
              "          element.appendChild(docLink);\n",
              "        }\n",
              "      </script>\n",
              "    </div>\n",
              "  </div>\n",
              "  "
            ]
          },
          "metadata": {},
          "execution_count": 5
        }
      ],
      "source": [
        "data_test = pd.read_csv('data/test.csv')\n",
        "data_test"
      ]
    },
    {
      "cell_type": "code",
      "execution_count": 6,
      "metadata": {
        "colab": {
          "base_uri": "https://localhost:8080/",
          "height": 424
        },
        "id": "2XBb4m4sn3PF",
        "outputId": "9a4c82b1-c9fb-44fb-99e3-8c79f13ac34c"
      },
      "outputs": [
        {
          "output_type": "execute_result",
          "data": {
            "text/plain": [
              "           hour        lat        lon  \\\n",
              "0    1582448400  59.926986  30.318141   \n",
              "1    1582225200  59.924735  30.241784   \n",
              "2    1581260400  60.002300  30.295683   \n",
              "3    1581958800  59.935988  30.324878   \n",
              "4    1582779600  59.933737  30.306912   \n",
              "..          ...        ...        ...   \n",
              "704  1580659200  59.905597  30.297929   \n",
              "705  1581048000  59.950610  30.315895   \n",
              "706  1581656400  59.933737  30.309158   \n",
              "707  1580724000  59.931487  30.358565   \n",
              "708  1581940800  59.925860  30.295683   \n",
              "\n",
              "                                                 point  sum     error  \n",
              "0    0101000020E6100000202C93AD71513E4070B5CC78A7F6...    5  0.421402  \n",
              "1    0101000020E6100000C5FE0F8FE53D3E4033438EB75DF6...   14  0.310291  \n",
              "2    0101000020E6100000AB00D6E0B14B3E40CB88A75E4B00...    5  3.754735  \n",
              "3    0101000020E61000005DECCB372B533E40E4A1F770CEF7...    7  0.504735  \n",
              "4    0101000020E6100000669634C7914E3E407AB3D8B484F7...   14  1.554735  \n",
              "..                                                 ...  ...       ...  \n",
              "704  0101000020E61000006AEBE80E454C3E407F614299EAF3...    7  2.254735  \n",
              "705  0101000020E61000006141807FDE503E402B348A98ADF9...    8  6.754735  \n",
              "706  0101000020E6100000268147F5244F3E407AB3D8B484F7...    6  4.754735  \n",
              "707  0101000020E61000008EADE7EACA5B3E40CAE971F73AF7...    8  1.421402  \n",
              "708  0101000020E6100000AB00D6E0B14B3E406379569882F6...   11  0.588069  \n",
              "\n",
              "[709 rows x 6 columns]"
            ],
            "text/html": [
              "\n",
              "  <div id=\"df-7c59bc27-fbfd-44ab-807e-3a380b6dd50b\">\n",
              "    <div class=\"colab-df-container\">\n",
              "      <div>\n",
              "<style scoped>\n",
              "    .dataframe tbody tr th:only-of-type {\n",
              "        vertical-align: middle;\n",
              "    }\n",
              "\n",
              "    .dataframe tbody tr th {\n",
              "        vertical-align: top;\n",
              "    }\n",
              "\n",
              "    .dataframe thead th {\n",
              "        text-align: right;\n",
              "    }\n",
              "</style>\n",
              "<table border=\"1\" class=\"dataframe\">\n",
              "  <thead>\n",
              "    <tr style=\"text-align: right;\">\n",
              "      <th></th>\n",
              "      <th>hour</th>\n",
              "      <th>lat</th>\n",
              "      <th>lon</th>\n",
              "      <th>point</th>\n",
              "      <th>sum</th>\n",
              "      <th>error</th>\n",
              "    </tr>\n",
              "  </thead>\n",
              "  <tbody>\n",
              "    <tr>\n",
              "      <th>0</th>\n",
              "      <td>1582448400</td>\n",
              "      <td>59.926986</td>\n",
              "      <td>30.318141</td>\n",
              "      <td>0101000020E6100000202C93AD71513E4070B5CC78A7F6...</td>\n",
              "      <td>5</td>\n",
              "      <td>0.421402</td>\n",
              "    </tr>\n",
              "    <tr>\n",
              "      <th>1</th>\n",
              "      <td>1582225200</td>\n",
              "      <td>59.924735</td>\n",
              "      <td>30.241784</td>\n",
              "      <td>0101000020E6100000C5FE0F8FE53D3E4033438EB75DF6...</td>\n",
              "      <td>14</td>\n",
              "      <td>0.310291</td>\n",
              "    </tr>\n",
              "    <tr>\n",
              "      <th>2</th>\n",
              "      <td>1581260400</td>\n",
              "      <td>60.002300</td>\n",
              "      <td>30.295683</td>\n",
              "      <td>0101000020E6100000AB00D6E0B14B3E40CB88A75E4B00...</td>\n",
              "      <td>5</td>\n",
              "      <td>3.754735</td>\n",
              "    </tr>\n",
              "    <tr>\n",
              "      <th>3</th>\n",
              "      <td>1581958800</td>\n",
              "      <td>59.935988</td>\n",
              "      <td>30.324878</td>\n",
              "      <td>0101000020E61000005DECCB372B533E40E4A1F770CEF7...</td>\n",
              "      <td>7</td>\n",
              "      <td>0.504735</td>\n",
              "    </tr>\n",
              "    <tr>\n",
              "      <th>4</th>\n",
              "      <td>1582779600</td>\n",
              "      <td>59.933737</td>\n",
              "      <td>30.306912</td>\n",
              "      <td>0101000020E6100000669634C7914E3E407AB3D8B484F7...</td>\n",
              "      <td>14</td>\n",
              "      <td>1.554735</td>\n",
              "    </tr>\n",
              "    <tr>\n",
              "      <th>...</th>\n",
              "      <td>...</td>\n",
              "      <td>...</td>\n",
              "      <td>...</td>\n",
              "      <td>...</td>\n",
              "      <td>...</td>\n",
              "      <td>...</td>\n",
              "    </tr>\n",
              "    <tr>\n",
              "      <th>704</th>\n",
              "      <td>1580659200</td>\n",
              "      <td>59.905597</td>\n",
              "      <td>30.297929</td>\n",
              "      <td>0101000020E61000006AEBE80E454C3E407F614299EAF3...</td>\n",
              "      <td>7</td>\n",
              "      <td>2.254735</td>\n",
              "    </tr>\n",
              "    <tr>\n",
              "      <th>705</th>\n",
              "      <td>1581048000</td>\n",
              "      <td>59.950610</td>\n",
              "      <td>30.315895</td>\n",
              "      <td>0101000020E61000006141807FDE503E402B348A98ADF9...</td>\n",
              "      <td>8</td>\n",
              "      <td>6.754735</td>\n",
              "    </tr>\n",
              "    <tr>\n",
              "      <th>706</th>\n",
              "      <td>1581656400</td>\n",
              "      <td>59.933737</td>\n",
              "      <td>30.309158</td>\n",
              "      <td>0101000020E6100000268147F5244F3E407AB3D8B484F7...</td>\n",
              "      <td>6</td>\n",
              "      <td>4.754735</td>\n",
              "    </tr>\n",
              "    <tr>\n",
              "      <th>707</th>\n",
              "      <td>1580724000</td>\n",
              "      <td>59.931487</td>\n",
              "      <td>30.358565</td>\n",
              "      <td>0101000020E61000008EADE7EACA5B3E40CAE971F73AF7...</td>\n",
              "      <td>8</td>\n",
              "      <td>1.421402</td>\n",
              "    </tr>\n",
              "    <tr>\n",
              "      <th>708</th>\n",
              "      <td>1581940800</td>\n",
              "      <td>59.925860</td>\n",
              "      <td>30.295683</td>\n",
              "      <td>0101000020E6100000AB00D6E0B14B3E406379569882F6...</td>\n",
              "      <td>11</td>\n",
              "      <td>0.588069</td>\n",
              "    </tr>\n",
              "  </tbody>\n",
              "</table>\n",
              "<p>709 rows × 6 columns</p>\n",
              "</div>\n",
              "      <button class=\"colab-df-convert\" onclick=\"convertToInteractive('df-7c59bc27-fbfd-44ab-807e-3a380b6dd50b')\"\n",
              "              title=\"Convert this dataframe to an interactive table.\"\n",
              "              style=\"display:none;\">\n",
              "        \n",
              "  <svg xmlns=\"http://www.w3.org/2000/svg\" height=\"24px\"viewBox=\"0 0 24 24\"\n",
              "       width=\"24px\">\n",
              "    <path d=\"M0 0h24v24H0V0z\" fill=\"none\"/>\n",
              "    <path d=\"M18.56 5.44l.94 2.06.94-2.06 2.06-.94-2.06-.94-.94-2.06-.94 2.06-2.06.94zm-11 1L8.5 8.5l.94-2.06 2.06-.94-2.06-.94L8.5 2.5l-.94 2.06-2.06.94zm10 10l.94 2.06.94-2.06 2.06-.94-2.06-.94-.94-2.06-.94 2.06-2.06.94z\"/><path d=\"M17.41 7.96l-1.37-1.37c-.4-.4-.92-.59-1.43-.59-.52 0-1.04.2-1.43.59L10.3 9.45l-7.72 7.72c-.78.78-.78 2.05 0 2.83L4 21.41c.39.39.9.59 1.41.59.51 0 1.02-.2 1.41-.59l7.78-7.78 2.81-2.81c.8-.78.8-2.07 0-2.86zM5.41 20L4 18.59l7.72-7.72 1.47 1.35L5.41 20z\"/>\n",
              "  </svg>\n",
              "      </button>\n",
              "      \n",
              "  <style>\n",
              "    .colab-df-container {\n",
              "      display:flex;\n",
              "      flex-wrap:wrap;\n",
              "      gap: 12px;\n",
              "    }\n",
              "\n",
              "    .colab-df-convert {\n",
              "      background-color: #E8F0FE;\n",
              "      border: none;\n",
              "      border-radius: 50%;\n",
              "      cursor: pointer;\n",
              "      display: none;\n",
              "      fill: #1967D2;\n",
              "      height: 32px;\n",
              "      padding: 0 0 0 0;\n",
              "      width: 32px;\n",
              "    }\n",
              "\n",
              "    .colab-df-convert:hover {\n",
              "      background-color: #E2EBFA;\n",
              "      box-shadow: 0px 1px 2px rgba(60, 64, 67, 0.3), 0px 1px 3px 1px rgba(60, 64, 67, 0.15);\n",
              "      fill: #174EA6;\n",
              "    }\n",
              "\n",
              "    [theme=dark] .colab-df-convert {\n",
              "      background-color: #3B4455;\n",
              "      fill: #D2E3FC;\n",
              "    }\n",
              "\n",
              "    [theme=dark] .colab-df-convert:hover {\n",
              "      background-color: #434B5C;\n",
              "      box-shadow: 0px 1px 3px 1px rgba(0, 0, 0, 0.15);\n",
              "      filter: drop-shadow(0px 1px 2px rgba(0, 0, 0, 0.3));\n",
              "      fill: #FFFFFF;\n",
              "    }\n",
              "  </style>\n",
              "\n",
              "      <script>\n",
              "        const buttonEl =\n",
              "          document.querySelector('#df-7c59bc27-fbfd-44ab-807e-3a380b6dd50b button.colab-df-convert');\n",
              "        buttonEl.style.display =\n",
              "          google.colab.kernel.accessAllowed ? 'block' : 'none';\n",
              "\n",
              "        async function convertToInteractive(key) {\n",
              "          const element = document.querySelector('#df-7c59bc27-fbfd-44ab-807e-3a380b6dd50b');\n",
              "          const dataTable =\n",
              "            await google.colab.kernel.invokeFunction('convertToInteractive',\n",
              "                                                     [key], {});\n",
              "          if (!dataTable) return;\n",
              "\n",
              "          const docLinkHtml = 'Like what you see? Visit the ' +\n",
              "            '<a target=\"_blank\" href=https://colab.research.google.com/notebooks/data_table.ipynb>data table notebook</a>'\n",
              "            + ' to learn more about interactive tables.';\n",
              "          element.innerHTML = '';\n",
              "          dataTable['output_type'] = 'display_data';\n",
              "          await google.colab.output.renderOutput(dataTable, element);\n",
              "          const docLink = document.createElement('div');\n",
              "          docLink.innerHTML = docLinkHtml;\n",
              "          element.appendChild(docLink);\n",
              "        }\n",
              "      </script>\n",
              "    </div>\n",
              "  </div>\n",
              "  "
            ]
          },
          "metadata": {},
          "execution_count": 6
        }
      ],
      "source": [
        "data_val = pd.read_csv('data/valid.csv')\n",
        "data_val"
      ]
    },
    {
      "cell_type": "markdown",
      "metadata": {
        "id": "m9-Bv47mn3PO"
      },
      "source": [
        "# Time Series solution"
      ]
    },
    {
      "cell_type": "markdown",
      "source": [
        "Best result is lagged+ridge with metric test/val 0.627/0.661"
      ],
      "metadata": {
        "id": "psz7joTqeVf0"
      }
    },
    {
      "cell_type": "markdown",
      "metadata": {
        "id": "JMvN9QmXn3PP"
      },
      "source": [
        "Add datetime column to test and valid datasets"
      ]
    },
    {
      "cell_type": "code",
      "execution_count": 13,
      "metadata": {
        "id": "_M_MpEB4n3PP"
      },
      "outputs": [],
      "source": [
        "data_test['datetime'] = pd.to_datetime(data_test['hour'], unit='s')\n",
        "data_test = data_test.rename(columns={'sum': 'num_posts'})\n",
        "data_val['datetime'] = pd.to_datetime(data_val['hour'], unit='s')\n",
        "data_val = data_val.rename(columns={'sum': 'num_posts'})\n",
        "data_train['datetime'] = pd.to_datetime(data_train['time'])\n",
        "\n",
        "data_val_points = len(data_val['point'].unique())\n",
        "point_to_del = '0101000020E610000000000000000000000000000000000000'\n",
        "data_val = data_val.drop(data_val[data_val.point == point_to_del].index)\n",
        "assert len(data_val['point'].unique()) == data_val_points - 1"
      ]
    },
    {
      "cell_type": "markdown",
      "source": [
        "## Code"
      ],
      "metadata": {
        "id": "uxDQmfJsdcF9"
      }
    },
    {
      "cell_type": "code",
      "source": [
        "import logging\n",
        "\n",
        "import numpy as np\n",
        "import pandas as pd\n",
        "from tqdm import tqdm\n",
        "\n",
        "from fedot.api.main import Fedot\n",
        "from fedot.core.data.data import InputData\n",
        "from fedot.core.data.data_split import train_test_data_setup\n",
        "from fedot.core.repository.dataset_types import DataTypesEnum\n",
        "from fedot.core.repository.tasks import TsForecastingParams, Task, TaskTypesEnum\n",
        "from fedot.core.utils import fedot_project_root\n",
        "from fedot.core.pipelines.node import PrimaryNode, SecondaryNode\n",
        "from fedot.core.pipelines.pipeline import Pipeline\n",
        "from fedot.core.pipelines.tuning.tuner_builder import TunerBuilder\n",
        "from fedot.core.pipelines.tuning.unified import PipelineTuner\n",
        "from fedot.core.repository.quality_metrics_repository import RegressionMetricsEnum\n",
        "\n",
        "logging.raiseExceptions = False\n",
        "\n",
        "\n",
        "def metrics(y_true: np.array, y_pred: np.array) -> np.array:\n",
        "  return np.mean(np.abs(y_true - y_pred) / y_pred)\n",
        "\n",
        "\n",
        "def get_pipeline():\n",
        "  lagged = PrimaryNode('lagged')\n",
        "  final_node = SecondaryNode('ridge', nodes_from=[lagged])\n",
        "  return Pipeline(final_node)\n",
        "\n",
        "\n",
        "def tune_pipeline(train_input, pipeline):\n",
        "  tuner = TunerBuilder(train_input.task)\\\n",
        "    .with_tuner(PipelineTuner)\\\n",
        "    .with_metric(RegressionMetricsEnum.MAE)\\\n",
        "    .with_iterations(50) \\\n",
        "    .build(train_input)\n",
        "  tuned_pipeline = tuner.tune(pipeline)\n",
        "  return tuned_pipeline\n",
        "\n",
        "def run_ts_forecasting_example(train, test, pipeline, timeout: float = None):\n",
        "    validation_blocks = 2\n",
        "\n",
        "    time_series = pd.concat([train, test])\n",
        "    # time_series = train\n",
        "\n",
        "    task = Task(TaskTypesEnum.ts_forecasting,\n",
        "                TsForecastingParams(forecast_length=len(test)))\n",
        "\n",
        "    idx = pd.to_datetime(time_series['datetime'].values)\n",
        "\n",
        "    time_series = time_series['num_posts'].values\n",
        "    train_input = InputData(idx=idx,\n",
        "                            features=time_series,\n",
        "                            target=time_series,\n",
        "                            task=task,\n",
        "                            data_type=DataTypesEnum.ts)\n",
        "    train_data, test_data = train_test_data_setup(train_input, validation_blocks=validation_blocks)\n",
        "\n",
        "    # init model for the time series forecasting\n",
        "    model = Fedot(problem='ts_forecasting',\n",
        "                  task_params=task.task_params,\n",
        "                  timeout=timeout,\n",
        "                  logging_level=60,\n",
        "                  n_jobs=1,\n",
        "                  cv_folds=2, validation_blocks=validation_blocks, preset='fast_train')\n",
        "\n",
        "    # run AutoML model design in the same way\n",
        "    pipeline = model.fit(train_data, predefined_model=pipeline)\n",
        "    # pipeline.show()\n",
        "\n",
        "    # use model to obtain forecast\n",
        "    forecast = model.predict(test_data)\n",
        "    target = np.ravel(test_data.target)\n",
        "    # print(model.get_metrics(metric_names=['rmse', 'mae', 'mape'], target=target))\n",
        "\n",
        "    # plot forecasting result\n",
        "    model.plot_prediction()\n",
        "\n",
        "    return target, forecast"
      ],
      "metadata": {
        "id": "krhtdcXmCzfT"
      },
      "execution_count": 111,
      "outputs": []
    },
    {
      "cell_type": "markdown",
      "source": [
        "## Arima"
      ],
      "metadata": {
        "id": "1AUrskCQRXpG"
      }
    },
    {
      "cell_type": "code",
      "source": [
        "%%time\n",
        "# test dataset\n",
        "y_true_full = np.array([])\n",
        "y_pred_full = np.array([])\n",
        "\n",
        "points = data_test['point'].unique()\n",
        "for point in tqdm(points):\n",
        "  df_train = data_train[data_train['point'] == point][['num_posts', 'datetime']]\n",
        "  df_test = data_test[data_test['point'] == point][['num_posts', 'datetime']]\n",
        "  y_true, y_pred = run_ts_forecasting_example(train=df_train, test=df_test, pipeline=get_pipeline(), timeout=0.1)\n",
        "  y_true_full = np.concatenate((y_true_full, y_true[len(y_pred):]))\n",
        "  y_pred_full = np.concatenate((y_pred_full, y_pred))\n",
        "  assert y_true_full.shape == y_pred_full.shape\n",
        "\n",
        "metric_test = metrics(y_true_full, np.round(y_pred_full))\n",
        "metric_test"
      ],
      "metadata": {
        "colab": {
          "base_uri": "https://localhost:8080/"
        },
        "id": "ny4NlKKqQKB9",
        "outputId": "1608f674-a764-495f-f0e2-da3970844657"
      },
      "execution_count": 92,
      "outputs": [
        {
          "output_type": "stream",
          "name": "stderr",
          "text": [
            "100%|██████████| 149/149 [12:16<00:00,  4.94s/it]"
          ]
        },
        {
          "output_type": "stream",
          "name": "stdout",
          "text": [
            "CPU times: user 15min 2s, sys: 20min 19s, total: 35min 22s\n",
            "Wall time: 12min 16s\n"
          ]
        },
        {
          "output_type": "stream",
          "name": "stderr",
          "text": [
            "\n"
          ]
        },
        {
          "output_type": "execute_result",
          "data": {
            "text/plain": [
              "1.777568571140022"
            ]
          },
          "metadata": {},
          "execution_count": 92
        }
      ]
    },
    {
      "cell_type": "code",
      "source": [
        "%%time\n",
        "# val_dataset\n",
        "y_true_full = np.array([])\n",
        "y_pred_full = np.array([])\n",
        "\n",
        "points = data_val['point'].unique()\n",
        "\n",
        "for point in tqdm(points):\n",
        "  df_train = data_train[data_train['point'] == point][['num_posts', 'datetime']]\n",
        "  df_val = data_val[data_val['point'] == point][['num_posts', 'datetime']]\n",
        "  y_true, y_pred = run_ts_forecasting_example(train=df_train, test=df_val, pipeline=get_pipeline(), timeout=0.1)\n",
        "  y_true_full = np.concatenate((y_true_full, y_true[len(y_pred):]))\n",
        "  y_pred_full = np.concatenate((y_pred_full, y_pred))\n",
        "  assert y_true_full.shape == y_pred_full.shape\n",
        "\n",
        "metric_val = metrics(y_true_full, np.round(y_pred_full))\n",
        "metric_val"
      ],
      "metadata": {
        "colab": {
          "base_uri": "https://localhost:8080/"
        },
        "id": "4rHfz6DeRQSq",
        "outputId": "614efffa-8dd8-4a08-cffa-b86f44092a25"
      },
      "execution_count": 94,
      "outputs": [
        {
          "output_type": "stream",
          "name": "stderr",
          "text": [
            "100%|██████████| 154/154 [12:16<00:00,  4.78s/it]"
          ]
        },
        {
          "output_type": "stream",
          "name": "stdout",
          "text": [
            "CPU times: user 15min 11s, sys: 20min 31s, total: 35min 43s\n",
            "Wall time: 12min 16s\n"
          ]
        },
        {
          "output_type": "stream",
          "name": "stderr",
          "text": [
            "\n"
          ]
        },
        {
          "output_type": "execute_result",
          "data": {
            "text/plain": [
              "1.7888708884914513"
            ]
          },
          "metadata": {},
          "execution_count": 94
        }
      ]
    },
    {
      "cell_type": "markdown",
      "source": [
        "## Lagged + ridge"
      ],
      "metadata": {
        "id": "lTSxA_vJRaq6"
      }
    },
    {
      "cell_type": "code",
      "source": [
        "%%time\n",
        "# test dataset\n",
        "y_true_full = np.array([])\n",
        "y_pred_full = np.array([])\n",
        "\n",
        "points = data_test['point'].unique()\n",
        "for point in tqdm(points):\n",
        "  df_train = data_train[data_train['point'] == point][['num_posts', 'datetime']]\n",
        "  df_test = data_test[data_test['point'] == point][['num_posts', 'datetime']]\n",
        "  y_true, y_pred = run_ts_forecasting_example(train=df_train, test=df_test, pipeline=get_pipeline(), timeout=0.1)\n",
        "  y_true_full = np.concatenate((y_true_full, y_true[len(y_pred):]))\n",
        "  y_pred_full = np.concatenate((y_pred_full, y_pred))\n",
        "  assert y_true_full.shape == y_pred_full.shape\n",
        "\n",
        "metric_test = metrics(y_true_full, np.round(y_pred_full))\n",
        "metric_test"
      ],
      "metadata": {
        "colab": {
          "base_uri": "https://localhost:8080/"
        },
        "id": "-DwmOO2OSslH",
        "outputId": "d016d009-f8db-42e0-b1b7-c0faee59ca55"
      },
      "execution_count": 106,
      "outputs": [
        {
          "output_type": "stream",
          "name": "stderr",
          "text": [
            "100%|██████████| 149/149 [05:33<00:00,  2.24s/it]"
          ]
        },
        {
          "output_type": "stream",
          "name": "stdout",
          "text": [
            "CPU times: user 5min 34s, sys: 34.2 s, total: 6min 8s\n",
            "Wall time: 5min 33s\n"
          ]
        },
        {
          "output_type": "stream",
          "name": "stderr",
          "text": [
            "\n"
          ]
        },
        {
          "output_type": "execute_result",
          "data": {
            "text/plain": [
              "0.6268983178001624"
            ]
          },
          "metadata": {},
          "execution_count": 106
        }
      ]
    },
    {
      "cell_type": "code",
      "source": [
        "%%time\n",
        "# val_dataset\n",
        "y_true_full = np.array([])\n",
        "y_pred_full = np.array([])\n",
        "\n",
        "points = data_val['point'].unique()\n",
        "\n",
        "for point in tqdm(points):\n",
        "  df_train = data_train[data_train['point'] == point][['num_posts', 'datetime']]\n",
        "  df_val = data_val[data_val['point'] == point][['num_posts', 'datetime']]\n",
        "  y_true, y_pred = run_ts_forecasting_example(train=df_train, test=df_val, pipeline=get_pipeline(), timeout=0.1)\n",
        "  y_true_full = np.concatenate((y_true_full, y_true[len(y_pred):]))\n",
        "  y_pred_full = np.concatenate((y_pred_full, y_pred))\n",
        "  assert y_true_full.shape == y_pred_full.shape\n",
        "\n",
        "metric_val = metrics(y_true_full, np.round(y_pred_full))\n",
        "metric_val"
      ],
      "metadata": {
        "id": "mMrWSWGMWCsy",
        "outputId": "a31d0e0a-627e-4dbc-c4fd-cff3f63fcf83",
        "colab": {
          "base_uri": "https://localhost:8080/"
        }
      },
      "execution_count": 107,
      "outputs": [
        {
          "output_type": "stream",
          "name": "stderr",
          "text": [
            "100%|██████████| 154/154 [05:39<00:00,  2.20s/it]"
          ]
        },
        {
          "output_type": "stream",
          "name": "stdout",
          "text": [
            "CPU times: user 5min 40s, sys: 34.5 s, total: 6min 14s\n",
            "Wall time: 5min 39s\n"
          ]
        },
        {
          "output_type": "stream",
          "name": "stderr",
          "text": [
            "\n"
          ]
        },
        {
          "output_type": "execute_result",
          "data": {
            "text/plain": [
              "0.6608872051930477"
            ]
          },
          "metadata": {},
          "execution_count": 107
        }
      ]
    },
    {
      "cell_type": "markdown",
      "source": [
        "## Lagged + RF"
      ],
      "metadata": {
        "id": "oPF5ePBKWiiK"
      }
    },
    {
      "cell_type": "code",
      "source": [
        "%%time\n",
        "# test dataset\n",
        "y_true_full = np.array([])\n",
        "y_pred_full = np.array([])\n",
        "\n",
        "points = data_test['point'].unique()\n",
        "for point in tqdm(points):\n",
        "  df_train = data_train[data_train['point'] == point][['num_posts', 'datetime']]\n",
        "  df_test = data_test[data_test['point'] == point][['num_posts', 'datetime']]\n",
        "  y_true, y_pred = run_ts_forecasting_example(train=df_train, test=df_test, pipeline=get_pipeline(), timeout=0.1)\n",
        "  y_true_full = np.concatenate((y_true_full, y_true[len(y_pred):]))\n",
        "  y_pred_full = np.concatenate((y_pred_full, y_pred))\n",
        "  assert y_true_full.shape == y_pred_full.shape\n",
        "\n",
        "metric_test = metrics(y_true_full, np.round(y_pred_full))\n",
        "metric_test"
      ],
      "metadata": {
        "colab": {
          "base_uri": "https://localhost:8080/"
        },
        "id": "GHmhW651Wl1M",
        "outputId": "77538689-a1c2-48fe-9700-04b68cacbe80"
      },
      "execution_count": 103,
      "outputs": [
        {
          "output_type": "stream",
          "name": "stderr",
          "text": [
            "100%|██████████| 149/149 [11:30<00:00,  4.63s/it]"
          ]
        },
        {
          "output_type": "stream",
          "name": "stdout",
          "text": [
            "CPU times: user 11min 24s, sys: 6.45 s, total: 11min 31s\n",
            "Wall time: 11min 30s\n"
          ]
        },
        {
          "output_type": "stream",
          "name": "stderr",
          "text": [
            "\n"
          ]
        },
        {
          "output_type": "execute_result",
          "data": {
            "text/plain": [
              "0.8134295351810639"
            ]
          },
          "metadata": {},
          "execution_count": 103
        }
      ]
    },
    {
      "cell_type": "code",
      "source": [
        "%%time\n",
        "# val_dataset\n",
        "y_true_full = np.array([])\n",
        "y_pred_full = np.array([])\n",
        "\n",
        "points = data_val['point'].unique()\n",
        "\n",
        "for point in tqdm(points):\n",
        "  df_train = data_train[data_train['point'] == point][['num_posts', 'datetime']]\n",
        "  df_val = data_val[data_val['point'] == point][['num_posts', 'datetime']]\n",
        "  y_true, y_pred = run_ts_forecasting_example(train=df_train, test=df_val, pipeline=get_pipeline(), timeout=0.1)\n",
        "  y_true_full = np.concatenate((y_true_full, y_true[len(y_pred):]))\n",
        "  y_pred_full = np.concatenate((y_pred_full, y_pred))\n",
        "  assert y_true_full.shape == y_pred_full.shape\n",
        "\n",
        "metric_val = metrics(y_true_full, np.round(y_pred_full))\n",
        "metric_val"
      ],
      "metadata": {
        "colab": {
          "base_uri": "https://localhost:8080/"
        },
        "id": "yAx36lcWWnEL",
        "outputId": "886252ea-e77f-41f3-b6a8-d635cac2dba1"
      },
      "execution_count": 104,
      "outputs": [
        {
          "output_type": "stream",
          "name": "stderr",
          "text": [
            "100%|██████████| 154/154 [11:38<00:00,  4.54s/it]"
          ]
        },
        {
          "output_type": "stream",
          "name": "stdout",
          "text": [
            "CPU times: user 11min 32s, sys: 7.15 s, total: 11min 39s\n",
            "Wall time: 11min 38s\n"
          ]
        },
        {
          "output_type": "stream",
          "name": "stderr",
          "text": [
            "\n"
          ]
        },
        {
          "output_type": "execute_result",
          "data": {
            "text/plain": [
              "0.9542561805345262"
            ]
          },
          "metadata": {},
          "execution_count": 104
        }
      ]
    },
    {
      "cell_type": "markdown",
      "source": [
        "## Visualisation"
      ],
      "metadata": {
        "id": "g4TakXfcfMF3"
      }
    },
    {
      "cell_type": "markdown",
      "source": [
        "### Popular cube"
      ],
      "metadata": {
        "id": "KRHSBURrfotq"
      }
    },
    {
      "cell_type": "code",
      "source": [
        "points = data_val['point'].unique()\n",
        "point = points[39]\n",
        "df_train = data_train[data_train['point'] == point][['num_posts', 'datetime']]\n",
        "df_train.plot('datetime', 'num_posts')\n",
        "df_test = data_test[data_test['point'] == point][['num_posts', 'datetime']]\n",
        "df_test.plot('datetime', 'num_posts')"
      ],
      "metadata": {
        "colab": {
          "base_uri": "https://localhost:8080/",
          "height": 562
        },
        "id": "bf5O4170fBi5",
        "outputId": "6f55e655-a854-4b99-dd74-5e3fce264b7d"
      },
      "execution_count": 112,
      "outputs": [
        {
          "output_type": "execute_result",
          "data": {
            "text/plain": [
              "<AxesSubplot:xlabel='datetime'>"
            ]
          },
          "metadata": {},
          "execution_count": 112
        },
        {
          "output_type": "display_data",
          "data": {
            "text/plain": [
              "<Figure size 432x288 with 1 Axes>"
            ],
            "image/png": "[encoded data removed]"
          },
          "metadata": {
            "needs_background": "light"
          }
        },
        {
          "output_type": "display_data",
          "data": {
            "text/plain": [
              "<Figure size 432x288 with 1 Axes>"
            ],
            "image/png": "[encoded data removed]"
          },
          "metadata": {
            "needs_background": "light"
          }
        }
      ]
    },
    {
      "cell_type": "code",
      "source": [
        "y_true, y_pred = run_ts_forecasting_example(train=df_train, test=df_test, pipeline=get_pipeline(), timeout=0.1)\n",
        "metrics(y_true[len(y_pred):], y_pred)"
      ],
      "metadata": {
        "colab": {
          "base_uri": "https://localhost:8080/",
          "height": 279
        },
        "id": "1L1SLyJRfZ7m",
        "outputId": "33de7997-a6eb-4222-aa81-0c0eaab3116d"
      },
      "execution_count": 113,
      "outputs": [
        {
          "output_type": "display_data",
          "data": {
            "text/plain": [
              "<Figure size 432x288 with 1 Axes>"
            ],
            "image/png": "[encoded data removed]"
          },
          "metadata": {
            "needs_background": "light"
          }
        },
        {
          "output_type": "execute_result",
          "data": {
            "text/plain": [
              "0.5602721228975406"
            ]
          },
          "metadata": {},
          "execution_count": 113
        }
      ]
    },
    {
      "cell_type": "markdown",
      "source": [
        "### Unpopular cube"
      ],
      "metadata": {
        "id": "eiJKj7fqfuql"
      }
    },
    {
      "cell_type": "code",
      "source": [
        "points = data_val['point'].unique()\n",
        "point = points[2]\n",
        "df_train = data_train[data_train['point'] == point][['num_posts', 'datetime']]\n",
        "df_train.plot('datetime', 'num_posts')\n",
        "df_test = data_test[data_test['point'] == point][['num_posts', 'datetime']]\n",
        "df_test.plot('datetime', 'num_posts')"
      ],
      "metadata": {
        "colab": {
          "base_uri": "https://localhost:8080/",
          "height": 562
        },
        "id": "OwznALpqfs85",
        "outputId": "22fd312e-ef2f-4968-e13f-0d6a856df556"
      },
      "execution_count": 123,
      "outputs": [
        {
          "output_type": "execute_result",
          "data": {
            "text/plain": [
              "<AxesSubplot:xlabel='datetime'>"
            ]
          },
          "metadata": {},
          "execution_count": 123
        },
        {
          "output_type": "display_data",
          "data": {
            "text/plain": [
              "<Figure size 432x288 with 1 Axes>"
            ],
            "image/png": "[encoded data removed]"
          },
          "metadata": {
            "needs_background": "light"
          }
        },
        {
          "output_type": "display_data",
          "data": {
            "text/plain": [
              "<Figure size 432x288 with 1 Axes>"
            ],
            "image/png": "[encoded data removed]"
          },
          "metadata": {
            "needs_background": "light"
          }
        }
      ]
    },
    {
      "cell_type": "code",
      "source": [
        "y_true, y_pred = run_ts_forecasting_example(train=df_train, test=df_test, pipeline=get_pipeline(), timeout=0.1)\n",
        "metrics(y_true[len(y_pred):], y_pred)"
      ],
      "metadata": {
        "colab": {
          "base_uri": "https://localhost:8080/",
          "height": 279
        },
        "id": "TrhKYDI9hymL",
        "outputId": "40b55450-fc85-4e0e-e709-7af4f0c66a19"
      },
      "execution_count": 124,
      "outputs": [
        {
          "output_type": "display_data",
          "data": {
            "text/plain": [
              "<Figure size 432x288 with 1 Axes>"
            ],
            "image/png": "[encoded data removed]"
          },
          "metadata": {
            "needs_background": "light"
          }
        },
        {
          "output_type": "execute_result",
          "data": {
            "text/plain": [
              "1.0433671658438706"
            ]
          },
          "metadata": {},
          "execution_count": 124
        }
      ]
    }
  ],
  "metadata": {
    "kernelspec": {
      "display_name": "Python 3.9.13 ('indml')",
      "language": "python",
      "name": "python3"
    },
    "language_info": {
      "codemirror_mode": {
        "name": "ipython",
        "version": 3
      },
      "file_extension": ".py",
      "mimetype": "text/x-python",
      "name": "python",
      "nbconvert_exporter": "python",
      "pygments_lexer": "ipython3",
      "version": "3.9.13"
    },
    "orig_nbformat": 4,
    "vscode": {
      "interpreter": {
        "hash": "02902d8ec977eb7ac2114c5b569c3cebeb1ab04bf847c131eacd9d4311affd20"
      }
    },
    "colab": {
      "provenance": [],
      "collapsed_sections": [
        "6fiAiHk9n3O9",
        "1AUrskCQRXpG",
        "oPF5ePBKWiiK"
      ],
      "machine_shape": "hm"
    },
    "gpuClass": "standard"
  },
  "nbformat": 4,
  "nbformat_minor": 0
}