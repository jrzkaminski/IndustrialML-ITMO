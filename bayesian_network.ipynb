{
 "cells": [
  {
   "cell_type": "markdown",
   "metadata": {},
   "source": [
    "# Libs, data importing"
   ]
  },
  {
   "cell_type": "code",
   "execution_count": 1,
   "metadata": {},
   "outputs": [],
   "source": [
    "import bamt.Networks as Nets\n",
    "import bamt.Preprocessors as pp\n",
    "\n",
    "import pandas as pd\n",
    "import numpy as np\n",
    "import matplotlib.pyplot as plt\n",
    "\n",
    "from sklearn import preprocessing\n",
    "from sklearn.metrics import accuracy_score, mean_squared_error\n",
    "from sklearn.ensemble import RandomForestClassifier\n",
    "from sklearn.neighbors import KNeighborsClassifier\n",
    "from sklearn.tree import DecisionTreeClassifier\n",
    "\n",
    "from pgmpy.estimators import K2Score\n",
    "import holidays"
   ]
  },
  {
   "cell_type": "code",
   "execution_count": 2,
   "metadata": {},
   "outputs": [],
   "source": [
    "data_train = pd.read_csv('/home/jerzy/Documents/IndustrialML/data/train_preprocessed.csv')\n",
    "data_train.drop('Unnamed: 0', axis=1, inplace=True)\n"
   ]
  },
  {
   "cell_type": "code",
   "execution_count": 3,
   "metadata": {},
   "outputs": [],
   "source": [
    "data_test = pd.read_csv('/home/jerzy/Documents/IndustrialML/data/test.csv')"
   ]
  },
  {
   "cell_type": "code",
   "execution_count": 4,
   "metadata": {},
   "outputs": [],
   "source": [
    "data_val = pd.read_csv('/home/jerzy/Documents/IndustrialML/data/valid.csv')\n",
    "# drop row 0101000020E610000000000000000000000000000000000000\n",
    "data_val = data_val[data_val['point'] != '0101000020E610000000000000000000000000000000000000']"
   ]
  },
  {
   "cell_type": "code",
   "execution_count": 5,
   "metadata": {},
   "outputs": [],
   "source": [
    "data_unique_points = data_train['point'].unique()\n",
    "test_unique_points = data_test['point'].unique()\n",
    "valid_unique_points = data_val['point'].unique()"
   ]
  },
  {
   "cell_type": "markdown",
   "metadata": {},
   "source": [
    "# Split data into year, month, day, hour and adding holidays, weekends, weekdays"
   ]
  },
  {
   "cell_type": "markdown",
   "metadata": {},
   "source": [
    "Add datetime column to test and valid datasets"
   ]
  },
  {
   "cell_type": "code",
   "execution_count": 6,
   "metadata": {},
   "outputs": [],
   "source": [
    "data_test['datetime'] = pd.to_datetime(data_test['hour'], unit='s')\n",
    "data_val['datetime'] = pd.to_datetime(data_val['hour'], unit='s')\n",
    "data_train['datetime'] = pd.to_datetime(data_train['time'])"
   ]
  },
  {
   "cell_type": "code",
   "execution_count": 7,
   "metadata": {},
   "outputs": [
    {
     "data": {
      "text/html": [
       "<div>\n",
       "<style scoped>\n",
       "    .dataframe tbody tr th:only-of-type {\n",
       "        vertical-align: middle;\n",
       "    }\n",
       "\n",
       "    .dataframe tbody tr th {\n",
       "        vertical-align: top;\n",
       "    }\n",
       "\n",
       "    .dataframe thead th {\n",
       "        text-align: right;\n",
       "    }\n",
       "</style>\n",
       "<table border=\"1\" class=\"dataframe\">\n",
       "  <thead>\n",
       "    <tr style=\"text-align: right;\">\n",
       "      <th></th>\n",
       "      <th>point</th>\n",
       "      <th>lon</th>\n",
       "      <th>lat</th>\n",
       "      <th>time</th>\n",
       "      <th>timestamp</th>\n",
       "      <th>num_posts</th>\n",
       "      <th>datetime</th>\n",
       "    </tr>\n",
       "  </thead>\n",
       "  <tbody>\n",
       "    <tr>\n",
       "      <th>0</th>\n",
       "      <td>0101000020E610000002A5EC7AB31D3E4097654065F8EA...</td>\n",
       "      <td>30.116020</td>\n",
       "      <td>59.835705</td>\n",
       "      <td>2019-11-22 11:00:00</td>\n",
       "      <td>1574420400</td>\n",
       "      <td>1</td>\n",
       "      <td>2019-11-22 11:00:00</td>\n",
       "    </tr>\n",
       "    <tr>\n",
       "      <th>1</th>\n",
       "      <td>0101000020E610000002A5EC7AB31D3E4097654065F8EA...</td>\n",
       "      <td>30.116020</td>\n",
       "      <td>59.835705</td>\n",
       "      <td>2019-11-22 12:00:00</td>\n",
       "      <td>1574424000</td>\n",
       "      <td>1</td>\n",
       "      <td>2019-11-22 12:00:00</td>\n",
       "    </tr>\n",
       "    <tr>\n",
       "      <th>2</th>\n",
       "      <td>0101000020E610000002A5EC7AB31D3E4097654065F8EA...</td>\n",
       "      <td>30.116020</td>\n",
       "      <td>59.835705</td>\n",
       "      <td>2019-11-23 13:00:00</td>\n",
       "      <td>1574514000</td>\n",
       "      <td>1</td>\n",
       "      <td>2019-11-23 13:00:00</td>\n",
       "    </tr>\n",
       "    <tr>\n",
       "      <th>3</th>\n",
       "      <td>0101000020E610000002A5EC7AB31D3E4097654065F8EA...</td>\n",
       "      <td>30.116020</td>\n",
       "      <td>59.835705</td>\n",
       "      <td>2019-11-25 16:00:00</td>\n",
       "      <td>1574697600</td>\n",
       "      <td>1</td>\n",
       "      <td>2019-11-25 16:00:00</td>\n",
       "    </tr>\n",
       "    <tr>\n",
       "      <th>4</th>\n",
       "      <td>0101000020E610000002A5EC7AB31D3E4097654065F8EA...</td>\n",
       "      <td>30.116020</td>\n",
       "      <td>59.835705</td>\n",
       "      <td>2019-11-27 10:00:00</td>\n",
       "      <td>1574848800</td>\n",
       "      <td>1</td>\n",
       "      <td>2019-11-27 10:00:00</td>\n",
       "    </tr>\n",
       "    <tr>\n",
       "      <th>...</th>\n",
       "      <td>...</td>\n",
       "      <td>...</td>\n",
       "      <td>...</td>\n",
       "      <td>...</td>\n",
       "      <td>...</td>\n",
       "      <td>...</td>\n",
       "      <td>...</td>\n",
       "    </tr>\n",
       "    <tr>\n",
       "      <th>3625651</th>\n",
       "      <td>0101000020E6100000FF9D4C0EC3853E4094782B2D0DF3...</td>\n",
       "      <td>30.522508</td>\n",
       "      <td>59.898840</td>\n",
       "      <td>2019-12-06 04:00:00</td>\n",
       "      <td>3151209600</td>\n",
       "      <td>2</td>\n",
       "      <td>2019-12-06 04:00:00</td>\n",
       "    </tr>\n",
       "    <tr>\n",
       "      <th>3625652</th>\n",
       "      <td>0101000020E6100000FF9D4C0EC3853E4094782B2D0DF3...</td>\n",
       "      <td>30.522508</td>\n",
       "      <td>59.898840</td>\n",
       "      <td>2019-12-23 08:00:00</td>\n",
       "      <td>1577088000</td>\n",
       "      <td>1</td>\n",
       "      <td>2019-12-23 08:00:00</td>\n",
       "    </tr>\n",
       "    <tr>\n",
       "      <th>3625653</th>\n",
       "      <td>0101000020E6100000FF9D4C0EC3853E40ABD94A1972EF...</td>\n",
       "      <td>30.522508</td>\n",
       "      <td>59.870670</td>\n",
       "      <td>2019-06-10 09:00:00</td>\n",
       "      <td>1560157200</td>\n",
       "      <td>1</td>\n",
       "      <td>2019-06-10 09:00:00</td>\n",
       "    </tr>\n",
       "    <tr>\n",
       "      <th>3625654</th>\n",
       "      <td>0101000020E6100000FF9D4C0EC3853E40ABD94A1972EF...</td>\n",
       "      <td>30.522508</td>\n",
       "      <td>59.870670</td>\n",
       "      <td>2019-10-06 14:00:00</td>\n",
       "      <td>1570370400</td>\n",
       "      <td>1</td>\n",
       "      <td>2019-10-06 14:00:00</td>\n",
       "    </tr>\n",
       "    <tr>\n",
       "      <th>3625655</th>\n",
       "      <td>0101000020E6100000FF9D4C0EC3853E40F2755E8979F2...</td>\n",
       "      <td>30.522508</td>\n",
       "      <td>59.894334</td>\n",
       "      <td>2019-08-16 10:00:00</td>\n",
       "      <td>1565949600</td>\n",
       "      <td>1</td>\n",
       "      <td>2019-08-16 10:00:00</td>\n",
       "    </tr>\n",
       "  </tbody>\n",
       "</table>\n",
       "<p>3625656 rows × 7 columns</p>\n",
       "</div>"
      ],
      "text/plain": [
       "                                                     point        lon  \\\n",
       "0        0101000020E610000002A5EC7AB31D3E4097654065F8EA...  30.116020   \n",
       "1        0101000020E610000002A5EC7AB31D3E4097654065F8EA...  30.116020   \n",
       "2        0101000020E610000002A5EC7AB31D3E4097654065F8EA...  30.116020   \n",
       "3        0101000020E610000002A5EC7AB31D3E4097654065F8EA...  30.116020   \n",
       "4        0101000020E610000002A5EC7AB31D3E4097654065F8EA...  30.116020   \n",
       "...                                                    ...        ...   \n",
       "3625651  0101000020E6100000FF9D4C0EC3853E4094782B2D0DF3...  30.522508   \n",
       "3625652  0101000020E6100000FF9D4C0EC3853E4094782B2D0DF3...  30.522508   \n",
       "3625653  0101000020E6100000FF9D4C0EC3853E40ABD94A1972EF...  30.522508   \n",
       "3625654  0101000020E6100000FF9D4C0EC3853E40ABD94A1972EF...  30.522508   \n",
       "3625655  0101000020E6100000FF9D4C0EC3853E40F2755E8979F2...  30.522508   \n",
       "\n",
       "               lat                 time   timestamp  num_posts  \\\n",
       "0        59.835705  2019-11-22 11:00:00  1574420400          1   \n",
       "1        59.835705  2019-11-22 12:00:00  1574424000          1   \n",
       "2        59.835705  2019-11-23 13:00:00  1574514000          1   \n",
       "3        59.835705  2019-11-25 16:00:00  1574697600          1   \n",
       "4        59.835705  2019-11-27 10:00:00  1574848800          1   \n",
       "...            ...                  ...         ...        ...   \n",
       "3625651  59.898840  2019-12-06 04:00:00  3151209600          2   \n",
       "3625652  59.898840  2019-12-23 08:00:00  1577088000          1   \n",
       "3625653  59.870670  2019-06-10 09:00:00  1560157200          1   \n",
       "3625654  59.870670  2019-10-06 14:00:00  1570370400          1   \n",
       "3625655  59.894334  2019-08-16 10:00:00  1565949600          1   \n",
       "\n",
       "                   datetime  \n",
       "0       2019-11-22 11:00:00  \n",
       "1       2019-11-22 12:00:00  \n",
       "2       2019-11-23 13:00:00  \n",
       "3       2019-11-25 16:00:00  \n",
       "4       2019-11-27 10:00:00  \n",
       "...                     ...  \n",
       "3625651 2019-12-06 04:00:00  \n",
       "3625652 2019-12-23 08:00:00  \n",
       "3625653 2019-06-10 09:00:00  \n",
       "3625654 2019-10-06 14:00:00  \n",
       "3625655 2019-08-16 10:00:00  \n",
       "\n",
       "[3625656 rows x 7 columns]"
      ]
     },
     "execution_count": 7,
     "metadata": {},
     "output_type": "execute_result"
    }
   ],
   "source": [
    "data_train"
   ]
  },
  {
   "cell_type": "markdown",
   "metadata": {},
   "source": [
    "Add yyyy, mm, dd, hh to test and valid"
   ]
  },
  {
   "cell_type": "code",
   "execution_count": 8,
   "metadata": {},
   "outputs": [],
   "source": [
    "data_train[\"hour\"] = data_train[\"datetime\"].dt.hour\n",
    "data_train[\"weekday\"] = data_train[\"datetime\"].dt.weekday\n",
    "\n",
    "data_test[\"dayhour\"] = data_test[\"datetime\"].dt.hour\n",
    "data_test[\"weekday\"] = data_test[\"datetime\"].dt.weekday\n",
    "\n",
    "data_val[\"dayhour\"] = data_val[\"datetime\"].dt.hour\n",
    "data_val[\"weekday\"] = data_val[\"datetime\"].dt.weekday"
   ]
  },
  {
   "cell_type": "markdown",
   "metadata": {},
   "source": [
    "Add holidays"
   ]
  },
  {
   "cell_type": "code",
   "execution_count": 9,
   "metadata": {},
   "outputs": [],
   "source": [
    "holidays_russia = holidays.country_holidays('RU', years = [2019, 2020])\n",
    "\n",
    "data_train['is_holiday'] = data_train['datetime'].apply(lambda x: 1 if x in holidays_russia else 0)\n",
    "data_test['is_holiday'] = data_test['datetime'].apply(lambda x: 1 if x in holidays_russia else 0)\n",
    "data_val['is_holiday'] = data_val['datetime'].apply(lambda x: 1 if x in holidays_russia else 0)"
   ]
  },
  {
   "cell_type": "code",
   "execution_count": 10,
   "metadata": {},
   "outputs": [],
   "source": [
    "data_train = data_train.drop(['time'], axis=1)"
   ]
  },
  {
   "cell_type": "markdown",
   "metadata": {},
   "source": [
    "# Bayesian Network learning"
   ]
  },
  {
   "cell_type": "code",
   "execution_count": 11,
   "metadata": {},
   "outputs": [],
   "source": [
    "# rename train columns in order to match test and validation data\n",
    "\n",
    "data_train = data_train.rename(columns={'timestamp': 'hour', 'num_posts': 'sum', 'hour': 'dayhour'})"
   ]
  },
  {
   "cell_type": "code",
   "execution_count": 12,
   "metadata": {},
   "outputs": [
    {
     "data": {
      "text/plain": [
       "hour          float64\n",
       "dayhour       float64\n",
       "weekday        object\n",
       "is_holiday     object\n",
       "sum           float64\n",
       "dtype: object"
      ]
     },
     "execution_count": 12,
     "metadata": {},
     "output_type": "execute_result"
    }
   ],
   "source": [
    "cols = ['hour', 'dayhour', 'weekday', 'is_holiday', 'sum']\n",
    "data_train_bn = data_train[cols]\n",
    "data_train_bn[['weekday', 'is_holiday']] = data_train_bn[['weekday', 'is_holiday']].astype(str)\n",
    "data_train_bn[['hour', 'dayhour', 'sum']] = data_train_bn[['hour', 'dayhour', 'sum']].astype(float)\n",
    "data_train_bn.dtypes"
   ]
  },
  {
   "cell_type": "code",
   "execution_count": 13,
   "metadata": {},
   "outputs": [],
   "source": [
    "encoder = preprocessing.LabelEncoder()\n",
    "discretizer = preprocessing.KBinsDiscretizer(n_bins=5, encode='ordinal', strategy='quantile')\n",
    "\n",
    "p = pp.Preprocessor([('encoder', encoder), ('discretizer', discretizer)])\n",
    "discretized_data, est = p.apply(data_train_bn)"
   ]
  },
  {
   "cell_type": "code",
   "execution_count": 14,
   "metadata": {},
   "outputs": [
    {
     "data": {
      "text/plain": [
       "{'types': {'hour': 'cont',\n",
       "  'dayhour': 'cont',\n",
       "  'weekday': 'disc',\n",
       "  'is_holiday': 'disc',\n",
       "  'sum': 'cont'},\n",
       " 'signs': {'hour': 'pos', 'dayhour': 'pos', 'sum': 'pos'}}"
      ]
     },
     "execution_count": 14,
     "metadata": {},
     "output_type": "execute_result"
    }
   ],
   "source": [
    "bn = Nets.HybridBN(has_logit=True, use_mixture=True) # init BN\n",
    "info = p.info\n",
    "info"
   ]
  },
  {
   "cell_type": "code",
   "execution_count": 15,
   "metadata": {},
   "outputs": [],
   "source": [
    "params = {'init_nodes': ['hour', 'dayhour', 'weekday', 'is_holiday', 'sum'],\n",
    "          'init_edges':[('hour', 'sum'), ('dayhour', 'sum'), ('is_holiday', 'sum'), ('weekday', 'sum')]}\n",
    "bn.add_nodes(info)\n",
    "bn.add_edges(discretized_data,  scoring_function=('K2',K2Score), params=params)"
   ]
  },
  {
   "cell_type": "code",
   "execution_count": 16,
   "metadata": {},
   "outputs": [
    {
     "data": {
      "text/html": [
       "<div>\n",
       "<style scoped>\n",
       "    .dataframe tbody tr th:only-of-type {\n",
       "        vertical-align: middle;\n",
       "    }\n",
       "\n",
       "    .dataframe tbody tr th {\n",
       "        vertical-align: top;\n",
       "    }\n",
       "\n",
       "    .dataframe thead th {\n",
       "        text-align: right;\n",
       "    }\n",
       "</style>\n",
       "<table border=\"1\" class=\"dataframe\">\n",
       "  <thead>\n",
       "    <tr style=\"text-align: right;\">\n",
       "      <th></th>\n",
       "      <th>name</th>\n",
       "      <th>node_type</th>\n",
       "      <th>data_type</th>\n",
       "      <th>parents</th>\n",
       "      <th>parents_types</th>\n",
       "    </tr>\n",
       "  </thead>\n",
       "  <tbody>\n",
       "    <tr>\n",
       "      <th>0</th>\n",
       "      <td>hour</td>\n",
       "      <td>MixtureGaussian</td>\n",
       "      <td>cont</td>\n",
       "      <td>[]</td>\n",
       "      <td>[]</td>\n",
       "    </tr>\n",
       "    <tr>\n",
       "      <th>1</th>\n",
       "      <td>dayhour</td>\n",
       "      <td>MixtureGaussian</td>\n",
       "      <td>cont</td>\n",
       "      <td>[]</td>\n",
       "      <td>[]</td>\n",
       "    </tr>\n",
       "    <tr>\n",
       "      <th>2</th>\n",
       "      <td>weekday</td>\n",
       "      <td>Discrete</td>\n",
       "      <td>disc</td>\n",
       "      <td>[]</td>\n",
       "      <td>[]</td>\n",
       "    </tr>\n",
       "    <tr>\n",
       "      <th>3</th>\n",
       "      <td>is_holiday</td>\n",
       "      <td>Discrete</td>\n",
       "      <td>disc</td>\n",
       "      <td>[]</td>\n",
       "      <td>[]</td>\n",
       "    </tr>\n",
       "    <tr>\n",
       "      <th>4</th>\n",
       "      <td>sum</td>\n",
       "      <td>ConditionalMixtureGaussian</td>\n",
       "      <td>cont</td>\n",
       "      <td>[hour, weekday, is_holiday]</td>\n",
       "      <td>[cont, disc, disc]</td>\n",
       "    </tr>\n",
       "  </tbody>\n",
       "</table>\n",
       "</div>"
      ],
      "text/plain": [
       "         name                   node_type data_type  \\\n",
       "0        hour             MixtureGaussian      cont   \n",
       "1     dayhour             MixtureGaussian      cont   \n",
       "2     weekday                    Discrete      disc   \n",
       "3  is_holiday                    Discrete      disc   \n",
       "4         sum  ConditionalMixtureGaussian      cont   \n",
       "\n",
       "                       parents       parents_types  \n",
       "0                           []                  []  \n",
       "1                           []                  []  \n",
       "2                           []                  []  \n",
       "3                           []                  []  \n",
       "4  [hour, weekday, is_holiday]  [cont, disc, disc]  "
      ]
     },
     "execution_count": 16,
     "metadata": {},
     "output_type": "execute_result"
    }
   ],
   "source": [
    "bn.get_info()"
   ]
  },
  {
   "cell_type": "code",
   "execution_count": 17,
   "metadata": {},
   "outputs": [
    {
     "data": {
      "text/html": [
       "\n",
       "        <iframe\n",
       "            width=\"100%\"\n",
       "            height=\"800px\"\n",
       "            src=\"visualization_result/bn_posts.html\"\n",
       "            frameborder=\"0\"\n",
       "            allowfullscreen\n",
       "            \n",
       "        ></iframe>\n",
       "        "
      ],
      "text/plain": [
       "<IPython.lib.display.IFrame at 0x7f8c445c5640>"
      ]
     },
     "execution_count": 17,
     "metadata": {},
     "output_type": "execute_result"
    }
   ],
   "source": [
    "bn.plot('bn_posts.html')"
   ]
  },
  {
   "cell_type": "code",
   "execution_count": 18,
   "metadata": {},
   "outputs": [],
   "source": [
    "def custom_metric(y_true, y_pred):\n",
    "    return abs(y_true - y_pred) / y_true\n",
    "\n",
    "def flatten(l):\n",
    "    return [item for sublist in l for item in sublist]\n",
    "\n",
    "def bn_model_fit_predict(data_train: pd.DataFrame, data_test: pd.DataFrame, bn):\n",
    "\n",
    "    data_test_bn_error = []\n",
    "    test_unique_points = data_test['point'].unique()\n",
    "\n",
    "    data_test[['weekday', 'is_holiday']] = data_test[['weekday', 'is_holiday']].astype(str)\n",
    "    data_test[['hour', 'dayhour', 'sum']] = data_test[['hour', 'dayhour', 'sum']].astype(float)\n",
    "\n",
    "    for point in test_unique_points:\n",
    "        data_train_point = data_train[data_train['point'] == point]\n",
    "        data_test_point = data_test[data_test['point'] == point]\n",
    "\n",
    "        train = data_train_point[['hour', 'dayhour', 'weekday', 'is_holiday', 'sum']]\n",
    "        X_test = data_test_point[['hour', 'dayhour', 'weekday', 'is_holiday']]\n",
    "        y_test = data_test_point['sum']\n",
    "\n",
    "        print(train)\n",
    "        print(X_test)\n",
    "\n",
    "        bn.fit_parameters(train)\n",
    "        y_pred = np.round(bn.predict(X_test, 4))\n",
    "        data_test_bn_error.append(custom_metric(y_test.astype(float), y_pred['sum'].astype(float)))\n",
    "    \n",
    "    return data_test_bn_error\n",
    "\n"
   ]
  },
  {
   "cell_type": "code",
   "execution_count": 19,
   "metadata": {},
   "outputs": [
    {
     "name": "stdout",
     "output_type": "stream",
     "text": [
      "                 hour  dayhour weekday is_holiday  sum\n",
      "2193016  3.092602e+09      0.0       1          1  2.0\n",
      "2193017  7.731522e+09      1.0       1          1  5.0\n",
      "2193018  7.731558e+09      3.0       1          1  5.0\n",
      "2193019  1.546315e+09      4.0       1          1  1.0\n",
      "2193020  1.546319e+09      5.0       1          1  1.0\n",
      "...               ...      ...     ...        ...  ...\n",
      "2200197  3.160980e+09     17.0       4          0  2.0\n",
      "2200198  1.106346e+10     18.0       4          0  7.0\n",
      "2200199  3.160994e+09     19.0       4          0  2.0\n",
      "2200200  7.902504e+09     20.0       4          0  5.0\n",
      "2200201  4.741513e+09     21.0       4          0  3.0\n",
      "\n",
      "[7186 rows x 5 columns]\n",
      "             hour  dayhour weekday is_holiday\n",
      "0    1.582711e+09     10.0       2          0\n",
      "205  1.582103e+09      9.0       2          0\n",
      "233  1.581001e+09     15.0       3          0\n",
      "555  1.582369e+09     11.0       5          0\n",
      "572  1.582488e+09     20.0       6          1\n",
      "667  1.581016e+09     19.0       3          0\n"
     ]
    },
    {
     "name": "stderr",
     "output_type": "stream",
     "text": [
      "100%|██████████| 6/6 [00:00<00:00, 80.58it/s]\n",
      "100%|██████████| 1/1 [00:00<00:00, 638.11it/s]\n",
      "100%|██████████| 1/1 [00:00<00:00, 609.02it/s]\n",
      "100%|██████████| 1/1 [00:00<00:00, 805.67it/s]\n",
      "100%|██████████| 1/1 [00:00<00:00, 666.19it/s]\n",
      "100%|██████████| 1/1 [00:00<00:00, 898.14it/s]\n",
      "100%|██████████| 1/1 [00:00<00:00, 700.10it/s]\n"
     ]
    },
    {
     "ename": "TypeError",
     "evalue": "loop of ufunc does not support argument 0 of type dict which has no callable rint method",
     "output_type": "error",
     "traceback": [
      "\u001b[0;31m---------------------------------------------------------------------------\u001b[0m",
      "\u001b[0;31mAttributeError\u001b[0m                            Traceback (most recent call last)",
      "\u001b[0;31mAttributeError\u001b[0m: 'dict' object has no attribute 'rint'",
      "\nThe above exception was the direct cause of the following exception:\n",
      "\u001b[0;31mTypeError\u001b[0m                                 Traceback (most recent call last)",
      "Cell \u001b[0;32mIn [19], line 3\u001b[0m\n\u001b[1;32m      1\u001b[0m data_train_bn[\u001b[39m'\u001b[39m\u001b[39mpoint\u001b[39m\u001b[39m'\u001b[39m] \u001b[39m=\u001b[39m data_train[\u001b[39m'\u001b[39m\u001b[39mpoint\u001b[39m\u001b[39m'\u001b[39m]\n\u001b[0;32m----> 3\u001b[0m data_test_bn_error \u001b[39m=\u001b[39m bn_model_fit_predict(data_train_bn, data_test, bn)\n\u001b[1;32m      4\u001b[0m data_test_bn_error \u001b[39m=\u001b[39m flatten(data_test_bn_error)\n\u001b[1;32m      5\u001b[0m data_test[\u001b[39m'\u001b[39m\u001b[39mbn_error\u001b[39m\u001b[39m'\u001b[39m] \u001b[39m=\u001b[39m data_test_bn_error\n",
      "Cell \u001b[0;32mIn [18], line 27\u001b[0m, in \u001b[0;36mbn_model_fit_predict\u001b[0;34m(data_train, data_test, bn)\u001b[0m\n\u001b[1;32m     24\u001b[0m     \u001b[39mprint\u001b[39m(X_test)\n\u001b[1;32m     26\u001b[0m     bn\u001b[39m.\u001b[39mfit_parameters(train)\n\u001b[0;32m---> 27\u001b[0m     y_pred \u001b[39m=\u001b[39m np\u001b[39m.\u001b[39;49mround(bn\u001b[39m.\u001b[39;49mpredict(X_test, \u001b[39m4\u001b[39;49m))\n\u001b[1;32m     28\u001b[0m     data_test_bn_error\u001b[39m.\u001b[39mappend(custom_metric(y_test\u001b[39m.\u001b[39mastype(\u001b[39mfloat\u001b[39m), y_pred[\u001b[39m'\u001b[39m\u001b[39msum\u001b[39m\u001b[39m'\u001b[39m]\u001b[39m.\u001b[39mastype(\u001b[39mfloat\u001b[39m)))\n\u001b[1;32m     30\u001b[0m \u001b[39mreturn\u001b[39;00m data_test_bn_error\n",
      "File \u001b[0;32m<__array_function__ internals>:180\u001b[0m, in \u001b[0;36mround_\u001b[0;34m(*args, **kwargs)\u001b[0m\n",
      "File \u001b[0;32m~/.conda/envs/fedot-bamt-dev/lib/python3.9/site-packages/numpy/core/fromnumeric.py:3731\u001b[0m, in \u001b[0;36mround_\u001b[0;34m(a, decimals, out)\u001b[0m\n\u001b[1;32m   3722\u001b[0m \u001b[39m@array_function_dispatch\u001b[39m(_around_dispatcher)\n\u001b[1;32m   3723\u001b[0m \u001b[39mdef\u001b[39;00m \u001b[39mround_\u001b[39m(a, decimals\u001b[39m=\u001b[39m\u001b[39m0\u001b[39m, out\u001b[39m=\u001b[39m\u001b[39mNone\u001b[39;00m):\n\u001b[1;32m   3724\u001b[0m     \u001b[39m\"\"\"\u001b[39;00m\n\u001b[1;32m   3725\u001b[0m \u001b[39m    Round an array to the given number of decimals.\u001b[39;00m\n\u001b[1;32m   3726\u001b[0m \n\u001b[0;32m   (...)\u001b[0m\n\u001b[1;32m   3729\u001b[0m \u001b[39m    around : equivalent function; see for details.\u001b[39;00m\n\u001b[1;32m   3730\u001b[0m \u001b[39m    \"\"\"\u001b[39;00m\n\u001b[0;32m-> 3731\u001b[0m     \u001b[39mreturn\u001b[39;00m around(a, decimals\u001b[39m=\u001b[39;49mdecimals, out\u001b[39m=\u001b[39;49mout)\n",
      "File \u001b[0;32m<__array_function__ internals>:180\u001b[0m, in \u001b[0;36maround\u001b[0;34m(*args, **kwargs)\u001b[0m\n",
      "File \u001b[0;32m~/.conda/envs/fedot-bamt-dev/lib/python3.9/site-packages/numpy/core/fromnumeric.py:3305\u001b[0m, in \u001b[0;36maround\u001b[0;34m(a, decimals, out)\u001b[0m\n\u001b[1;32m   3214\u001b[0m \u001b[39m@array_function_dispatch\u001b[39m(_around_dispatcher)\n\u001b[1;32m   3215\u001b[0m \u001b[39mdef\u001b[39;00m \u001b[39maround\u001b[39m(a, decimals\u001b[39m=\u001b[39m\u001b[39m0\u001b[39m, out\u001b[39m=\u001b[39m\u001b[39mNone\u001b[39;00m):\n\u001b[1;32m   3216\u001b[0m     \u001b[39m\"\"\"\u001b[39;00m\n\u001b[1;32m   3217\u001b[0m \u001b[39m    Evenly round to the given number of decimals.\u001b[39;00m\n\u001b[1;32m   3218\u001b[0m \n\u001b[0;32m   (...)\u001b[0m\n\u001b[1;32m   3303\u001b[0m \n\u001b[1;32m   3304\u001b[0m \u001b[39m    \"\"\"\u001b[39;00m\n\u001b[0;32m-> 3305\u001b[0m     \u001b[39mreturn\u001b[39;00m _wrapfunc(a, \u001b[39m'\u001b[39;49m\u001b[39mround\u001b[39;49m\u001b[39m'\u001b[39;49m, decimals\u001b[39m=\u001b[39;49mdecimals, out\u001b[39m=\u001b[39;49mout)\n",
      "File \u001b[0;32m~/.conda/envs/fedot-bamt-dev/lib/python3.9/site-packages/numpy/core/fromnumeric.py:54\u001b[0m, in \u001b[0;36m_wrapfunc\u001b[0;34m(obj, method, *args, **kwds)\u001b[0m\n\u001b[1;32m     52\u001b[0m bound \u001b[39m=\u001b[39m \u001b[39mgetattr\u001b[39m(obj, method, \u001b[39mNone\u001b[39;00m)\n\u001b[1;32m     53\u001b[0m \u001b[39mif\u001b[39;00m bound \u001b[39mis\u001b[39;00m \u001b[39mNone\u001b[39;00m:\n\u001b[0;32m---> 54\u001b[0m     \u001b[39mreturn\u001b[39;00m _wrapit(obj, method, \u001b[39m*\u001b[39;49margs, \u001b[39m*\u001b[39;49m\u001b[39m*\u001b[39;49mkwds)\n\u001b[1;32m     56\u001b[0m \u001b[39mtry\u001b[39;00m:\n\u001b[1;32m     57\u001b[0m     \u001b[39mreturn\u001b[39;00m bound(\u001b[39m*\u001b[39margs, \u001b[39m*\u001b[39m\u001b[39m*\u001b[39mkwds)\n",
      "File \u001b[0;32m~/.conda/envs/fedot-bamt-dev/lib/python3.9/site-packages/numpy/core/fromnumeric.py:43\u001b[0m, in \u001b[0;36m_wrapit\u001b[0;34m(obj, method, *args, **kwds)\u001b[0m\n\u001b[1;32m     41\u001b[0m \u001b[39mexcept\u001b[39;00m \u001b[39mAttributeError\u001b[39;00m:\n\u001b[1;32m     42\u001b[0m     wrap \u001b[39m=\u001b[39m \u001b[39mNone\u001b[39;00m\n\u001b[0;32m---> 43\u001b[0m result \u001b[39m=\u001b[39m \u001b[39mgetattr\u001b[39;49m(asarray(obj), method)(\u001b[39m*\u001b[39;49margs, \u001b[39m*\u001b[39;49m\u001b[39m*\u001b[39;49mkwds)\n\u001b[1;32m     44\u001b[0m \u001b[39mif\u001b[39;00m wrap:\n\u001b[1;32m     45\u001b[0m     \u001b[39mif\u001b[39;00m \u001b[39mnot\u001b[39;00m \u001b[39misinstance\u001b[39m(result, mu\u001b[39m.\u001b[39mndarray):\n",
      "\u001b[0;31mTypeError\u001b[0m: loop of ufunc does not support argument 0 of type dict which has no callable rint method"
     ]
    }
   ],
   "source": [
    "data_train_bn['point'] = data_train['point']\n",
    "\n",
    "data_test_bn_error = bn_model_fit_predict(data_train_bn, data_test, bn)\n",
    "data_test_bn_error = flatten(data_test_bn_error)\n",
    "data_test['bn_error'] = data_test_bn_error\n",
    "data_test['bn_error'].mean()"
   ]
  }
 ],
 "metadata": {
  "kernelspec": {
   "display_name": "Python 3.9.13 ('fedot-bamt-dev')",
   "language": "python",
   "name": "python3"
  },
  "language_info": {
   "codemirror_mode": {
    "name": "ipython",
    "version": 3
   },
   "file_extension": ".py",
   "mimetype": "text/x-python",
   "name": "python",
   "nbconvert_exporter": "python",
   "pygments_lexer": "ipython3",
   "version": "3.9.13"
  },
  "orig_nbformat": 4,
  "vscode": {
   "interpreter": {
    "hash": "6d442cd6a5e27aae824d33c72b8620e6107d172e542e17139be9078445b9839c"
   }
  }
 },
 "nbformat": 4,
 "nbformat_minor": 2
}
