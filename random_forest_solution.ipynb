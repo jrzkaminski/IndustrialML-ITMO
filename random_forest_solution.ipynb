{
 "cells": [
  {
   "cell_type": "markdown",
   "metadata": {},
   "source": [
    "# Libs, data importing"
   ]
  },
  {
   "cell_type": "code",
   "execution_count": 35,
   "metadata": {},
   "outputs": [],
   "source": [
    "import numpy as np\n",
    "import pandas as pd\n",
    "import matplotlib.pyplot as plt\n",
    "import seaborn as sns\n",
    "\n",
    "# Plots\n",
    "# ==============================================================================\n",
    "import matplotlib.pyplot as plt\n",
    "import plotly.express as px\n",
    "plt.style.use('fivethirtyeight')\n",
    "plt.rcParams['lines.linewidth'] = 1.5\n",
    "%matplotlib inline\n",
    "\n",
    "# Modelling and Forecasting\n",
    "# ==============================================================================\n",
    "from sklearn.ensemble import RandomForestRegressor\n",
    "\n",
    "\n",
    "from datetime import date\n",
    "from joblib import dump, load\n",
    "from rich.progress import track\n",
    "\n",
    "# Configuration\n",
    "# ==============================================================================\n",
    "import warnings\n",
    "import holidays\n",
    "warnings.filterwarnings('ignore')\n",
    "\n"
   ]
  },
  {
   "cell_type": "code",
   "execution_count": 36,
   "metadata": {},
   "outputs": [],
   "source": [
    "data_train = pd.read_csv('/home/jerzy/Documents/IndustrialML/data/train_preprocessed.csv')\n",
    "data_train.drop('Unnamed: 0', axis=1, inplace=True)\n"
   ]
  },
  {
   "cell_type": "code",
   "execution_count": 37,
   "metadata": {},
   "outputs": [],
   "source": [
    "data_test = pd.read_csv('/home/jerzy/Documents/IndustrialML/data/test.csv')"
   ]
  },
  {
   "cell_type": "code",
   "execution_count": 38,
   "metadata": {},
   "outputs": [],
   "source": [
    "data_val = pd.read_csv('/home/jerzy/Documents/IndustrialML/data/valid.csv')\n",
    "# drop row 0101000020E610000000000000000000000000000000000000\n",
    "data_val = data_val[data_val['point'] != '0101000020E610000000000000000000000000000000000000']"
   ]
  },
  {
   "cell_type": "code",
   "execution_count": 39,
   "metadata": {},
   "outputs": [],
   "source": [
    "data_unique_points = data_train['point'].unique()\n",
    "test_unique_points = data_test['point'].unique()\n",
    "valid_unique_points = data_val['point'].unique()"
   ]
  },
  {
   "cell_type": "markdown",
   "metadata": {},
   "source": [
    "# adding datetime holidays, weekends, weekdays"
   ]
  },
  {
   "cell_type": "markdown",
   "metadata": {},
   "source": [
    "Add datetime column to test and valid datasets"
   ]
  },
  {
   "cell_type": "code",
   "execution_count": 40,
   "metadata": {},
   "outputs": [],
   "source": [
    "data_test['datetime'] = pd.to_datetime(data_test['hour'], unit='s')\n",
    "data_val['datetime'] = pd.to_datetime(data_val['hour'], unit='s')\n",
    "data_train['datetime'] = pd.to_datetime(data_train['time'])"
   ]
  },
  {
   "cell_type": "code",
   "execution_count": 41,
   "metadata": {},
   "outputs": [
    {
     "data": {
      "text/html": [
       "<div>\n",
       "<style scoped>\n",
       "    .dataframe tbody tr th:only-of-type {\n",
       "        vertical-align: middle;\n",
       "    }\n",
       "\n",
       "    .dataframe tbody tr th {\n",
       "        vertical-align: top;\n",
       "    }\n",
       "\n",
       "    .dataframe thead th {\n",
       "        text-align: right;\n",
       "    }\n",
       "</style>\n",
       "<table border=\"1\" class=\"dataframe\">\n",
       "  <thead>\n",
       "    <tr style=\"text-align: right;\">\n",
       "      <th></th>\n",
       "      <th>point</th>\n",
       "      <th>lon</th>\n",
       "      <th>lat</th>\n",
       "      <th>time</th>\n",
       "      <th>timestamp</th>\n",
       "      <th>num_posts</th>\n",
       "      <th>datetime</th>\n",
       "    </tr>\n",
       "  </thead>\n",
       "  <tbody>\n",
       "    <tr>\n",
       "      <th>0</th>\n",
       "      <td>0101000020E610000002A5EC7AB31D3E4097654065F8EA...</td>\n",
       "      <td>30.116020</td>\n",
       "      <td>59.835705</td>\n",
       "      <td>2019-11-22 11:00:00</td>\n",
       "      <td>1574420400</td>\n",
       "      <td>1</td>\n",
       "      <td>2019-11-22 11:00:00</td>\n",
       "    </tr>\n",
       "    <tr>\n",
       "      <th>1</th>\n",
       "      <td>0101000020E610000002A5EC7AB31D3E4097654065F8EA...</td>\n",
       "      <td>30.116020</td>\n",
       "      <td>59.835705</td>\n",
       "      <td>2019-11-22 12:00:00</td>\n",
       "      <td>1574424000</td>\n",
       "      <td>1</td>\n",
       "      <td>2019-11-22 12:00:00</td>\n",
       "    </tr>\n",
       "    <tr>\n",
       "      <th>2</th>\n",
       "      <td>0101000020E610000002A5EC7AB31D3E4097654065F8EA...</td>\n",
       "      <td>30.116020</td>\n",
       "      <td>59.835705</td>\n",
       "      <td>2019-11-23 13:00:00</td>\n",
       "      <td>1574514000</td>\n",
       "      <td>1</td>\n",
       "      <td>2019-11-23 13:00:00</td>\n",
       "    </tr>\n",
       "    <tr>\n",
       "      <th>3</th>\n",
       "      <td>0101000020E610000002A5EC7AB31D3E4097654065F8EA...</td>\n",
       "      <td>30.116020</td>\n",
       "      <td>59.835705</td>\n",
       "      <td>2019-11-25 16:00:00</td>\n",
       "      <td>1574697600</td>\n",
       "      <td>1</td>\n",
       "      <td>2019-11-25 16:00:00</td>\n",
       "    </tr>\n",
       "    <tr>\n",
       "      <th>4</th>\n",
       "      <td>0101000020E610000002A5EC7AB31D3E4097654065F8EA...</td>\n",
       "      <td>30.116020</td>\n",
       "      <td>59.835705</td>\n",
       "      <td>2019-11-27 10:00:00</td>\n",
       "      <td>1574848800</td>\n",
       "      <td>1</td>\n",
       "      <td>2019-11-27 10:00:00</td>\n",
       "    </tr>\n",
       "    <tr>\n",
       "      <th>...</th>\n",
       "      <td>...</td>\n",
       "      <td>...</td>\n",
       "      <td>...</td>\n",
       "      <td>...</td>\n",
       "      <td>...</td>\n",
       "      <td>...</td>\n",
       "      <td>...</td>\n",
       "    </tr>\n",
       "    <tr>\n",
       "      <th>3625651</th>\n",
       "      <td>0101000020E6100000FF9D4C0EC3853E4094782B2D0DF3...</td>\n",
       "      <td>30.522508</td>\n",
       "      <td>59.898840</td>\n",
       "      <td>2019-12-06 04:00:00</td>\n",
       "      <td>3151209600</td>\n",
       "      <td>2</td>\n",
       "      <td>2019-12-06 04:00:00</td>\n",
       "    </tr>\n",
       "    <tr>\n",
       "      <th>3625652</th>\n",
       "      <td>0101000020E6100000FF9D4C0EC3853E4094782B2D0DF3...</td>\n",
       "      <td>30.522508</td>\n",
       "      <td>59.898840</td>\n",
       "      <td>2019-12-23 08:00:00</td>\n",
       "      <td>1577088000</td>\n",
       "      <td>1</td>\n",
       "      <td>2019-12-23 08:00:00</td>\n",
       "    </tr>\n",
       "    <tr>\n",
       "      <th>3625653</th>\n",
       "      <td>0101000020E6100000FF9D4C0EC3853E40ABD94A1972EF...</td>\n",
       "      <td>30.522508</td>\n",
       "      <td>59.870670</td>\n",
       "      <td>2019-06-10 09:00:00</td>\n",
       "      <td>1560157200</td>\n",
       "      <td>1</td>\n",
       "      <td>2019-06-10 09:00:00</td>\n",
       "    </tr>\n",
       "    <tr>\n",
       "      <th>3625654</th>\n",
       "      <td>0101000020E6100000FF9D4C0EC3853E40ABD94A1972EF...</td>\n",
       "      <td>30.522508</td>\n",
       "      <td>59.870670</td>\n",
       "      <td>2019-10-06 14:00:00</td>\n",
       "      <td>1570370400</td>\n",
       "      <td>1</td>\n",
       "      <td>2019-10-06 14:00:00</td>\n",
       "    </tr>\n",
       "    <tr>\n",
       "      <th>3625655</th>\n",
       "      <td>0101000020E6100000FF9D4C0EC3853E40F2755E8979F2...</td>\n",
       "      <td>30.522508</td>\n",
       "      <td>59.894334</td>\n",
       "      <td>2019-08-16 10:00:00</td>\n",
       "      <td>1565949600</td>\n",
       "      <td>1</td>\n",
       "      <td>2019-08-16 10:00:00</td>\n",
       "    </tr>\n",
       "  </tbody>\n",
       "</table>\n",
       "<p>3625656 rows × 7 columns</p>\n",
       "</div>"
      ],
      "text/plain": [
       "                                                     point        lon  \\\n",
       "0        0101000020E610000002A5EC7AB31D3E4097654065F8EA...  30.116020   \n",
       "1        0101000020E610000002A5EC7AB31D3E4097654065F8EA...  30.116020   \n",
       "2        0101000020E610000002A5EC7AB31D3E4097654065F8EA...  30.116020   \n",
       "3        0101000020E610000002A5EC7AB31D3E4097654065F8EA...  30.116020   \n",
       "4        0101000020E610000002A5EC7AB31D3E4097654065F8EA...  30.116020   \n",
       "...                                                    ...        ...   \n",
       "3625651  0101000020E6100000FF9D4C0EC3853E4094782B2D0DF3...  30.522508   \n",
       "3625652  0101000020E6100000FF9D4C0EC3853E4094782B2D0DF3...  30.522508   \n",
       "3625653  0101000020E6100000FF9D4C0EC3853E40ABD94A1972EF...  30.522508   \n",
       "3625654  0101000020E6100000FF9D4C0EC3853E40ABD94A1972EF...  30.522508   \n",
       "3625655  0101000020E6100000FF9D4C0EC3853E40F2755E8979F2...  30.522508   \n",
       "\n",
       "               lat                 time   timestamp  num_posts  \\\n",
       "0        59.835705  2019-11-22 11:00:00  1574420400          1   \n",
       "1        59.835705  2019-11-22 12:00:00  1574424000          1   \n",
       "2        59.835705  2019-11-23 13:00:00  1574514000          1   \n",
       "3        59.835705  2019-11-25 16:00:00  1574697600          1   \n",
       "4        59.835705  2019-11-27 10:00:00  1574848800          1   \n",
       "...            ...                  ...         ...        ...   \n",
       "3625651  59.898840  2019-12-06 04:00:00  3151209600          2   \n",
       "3625652  59.898840  2019-12-23 08:00:00  1577088000          1   \n",
       "3625653  59.870670  2019-06-10 09:00:00  1560157200          1   \n",
       "3625654  59.870670  2019-10-06 14:00:00  1570370400          1   \n",
       "3625655  59.894334  2019-08-16 10:00:00  1565949600          1   \n",
       "\n",
       "                   datetime  \n",
       "0       2019-11-22 11:00:00  \n",
       "1       2019-11-22 12:00:00  \n",
       "2       2019-11-23 13:00:00  \n",
       "3       2019-11-25 16:00:00  \n",
       "4       2019-11-27 10:00:00  \n",
       "...                     ...  \n",
       "3625651 2019-12-06 04:00:00  \n",
       "3625652 2019-12-23 08:00:00  \n",
       "3625653 2019-06-10 09:00:00  \n",
       "3625654 2019-10-06 14:00:00  \n",
       "3625655 2019-08-16 10:00:00  \n",
       "\n",
       "[3625656 rows x 7 columns]"
      ]
     },
     "execution_count": 41,
     "metadata": {},
     "output_type": "execute_result"
    }
   ],
   "source": [
    "data_train"
   ]
  },
  {
   "cell_type": "markdown",
   "metadata": {},
   "source": [
    "Add weekday to test and valid"
   ]
  },
  {
   "cell_type": "code",
   "execution_count": 42,
   "metadata": {},
   "outputs": [],
   "source": [
    "data_train[\"dayhour\"] = data_train[\"datetime\"].dt.hour\n",
    "data_train[\"weekday\"] = data_train[\"datetime\"].dt.weekday\n",
    "\n",
    "data_test[\"dayhour\"] = data_test[\"datetime\"].dt.hour\n",
    "data_test[\"weekday\"] = data_test[\"datetime\"].dt.weekday\n",
    "\n",
    "data_val[\"dayhour\"] = data_val[\"datetime\"].dt.hour\n",
    "data_val[\"weekday\"] = data_val[\"datetime\"].dt.weekday"
   ]
  },
  {
   "cell_type": "markdown",
   "metadata": {},
   "source": [
    "Add holidays"
   ]
  },
  {
   "cell_type": "code",
   "execution_count": 43,
   "metadata": {},
   "outputs": [],
   "source": [
    "holidays_russia = holidays.country_holidays('RU', years = [2019, 2020])\n",
    "\n",
    "data_train['is_holiday'] = data_train['datetime'].apply(lambda x: 1 if x in holidays_russia else 0)\n",
    "data_test['is_holiday'] = data_test['datetime'].apply(lambda x: 1 if x in holidays_russia else 0)\n",
    "data_val['is_holiday'] = data_val['datetime'].apply(lambda x: 1 if x in holidays_russia else 0)"
   ]
  },
  {
   "cell_type": "code",
   "execution_count": 44,
   "metadata": {},
   "outputs": [],
   "source": [
    "data_train = data_train.drop(['time'], axis=1)"
   ]
  },
  {
   "cell_type": "markdown",
   "metadata": {},
   "source": [
    "# Random Forest solution"
   ]
  },
  {
   "cell_type": "code",
   "execution_count": 45,
   "metadata": {},
   "outputs": [],
   "source": [
    "def custom_metric(y_true, y_pred):\n",
    "    return abs(y_true - y_pred) / y_pred\n",
    "\n",
    "def flatten(l):\n",
    "    return [item for sublist in l for item in sublist]\n",
    "\n",
    "def rfr_model_fit_predict(data_train: pd.DataFrame, data_test: pd.DataFrame, model):\n",
    "\n",
    "    data_test_predictions =[]\n",
    "    data_test_rf_error = []\n",
    "    test_unique_points = data_test['point'].unique()\n",
    "\n",
    "    for point in track(test_unique_points, description='Fitting and predicting'):\n",
    "        data_train_point = data_train[data_train['point'] == point]\n",
    "        data_test_point = data_test[data_test['point'] == point]\n",
    "\n",
    "        X_train = data_train_point[['timestamp', 'dayhour', 'weekday', 'is_holiday']]\n",
    "        y_train = data_train_point['num_posts']\n",
    "        X_test = data_test_point[['hour', 'dayhour', 'weekday', 'is_holiday']]\n",
    "        y_test = data_test_point['sum']\n",
    "\n",
    "        model.fit(X_train, y_train)\n",
    "        y_pred = np.round(model.predict(X_test))\n",
    "        data_test_predictions.append(y_pred)\n",
    "        data_test_rf_error.append(custom_metric(y_test, y_pred))\n",
    "    \n",
    "    return data_test_rf_error, data_test_predictions"
   ]
  },
  {
   "cell_type": "markdown",
   "metadata": {},
   "source": [
    "### test data\n",
    "\n",
    "time = 46 s\n",
    "\n",
    "error = 0.8662"
   ]
  },
  {
   "cell_type": "code",
   "execution_count": 46,
   "metadata": {},
   "outputs": [
    {
     "data": {
      "application/vnd.jupyter.widget-view+json": {
       "model_id": "d1d6f44b8b424e8aade13240e32c5442",
       "version_major": 2,
       "version_minor": 0
      },
      "text/plain": [
       "Output()"
      ]
     },
     "metadata": {},
     "output_type": "display_data"
    },
    {
     "data": {
      "text/html": [
       "<pre style=\"white-space:pre;overflow-x:auto;line-height:normal;font-family:Menlo,'DejaVu Sans Mono',consolas,'Courier New',monospace\"></pre>\n"
      ],
      "text/plain": []
     },
     "metadata": {},
     "output_type": "display_data"
    },
    {
     "data": {
      "text/html": [
       "<pre style=\"white-space:pre;overflow-x:auto;line-height:normal;font-family:Menlo,'DejaVu Sans Mono',consolas,'Courier New',monospace\">\n",
       "</pre>\n"
      ],
      "text/plain": [
       "\n"
      ]
     },
     "metadata": {},
     "output_type": "display_data"
    },
    {
     "name": "stdout",
     "output_type": "stream",
     "text": [
      "CPU times: user 46.2 s, sys: 112 ms, total: 46.3 s\n",
      "Wall time: 46.2 s\n"
     ]
    },
    {
     "data": {
      "text/plain": [
       "8.682857142857143"
      ]
     },
     "execution_count": 46,
     "metadata": {},
     "output_type": "execute_result"
    }
   ],
   "source": [
    "%%time\n",
    "\n",
    "data_test_rfr_error, data_test_predictions = rfr_model_fit_predict(data_train, data_test, RandomForestRegressor(n_estimators=100, max_depth=10, random_state=42))\n",
    "data_test_rfr_error = flatten(data_test_rfr_error)\n",
    "data_test_predictions = flatten(data_test_predictions)\n",
    "data_test['rfr_predictions'] = data_test_predictions\n",
    "data_test['rfr_error'] = data_test_rfr_error\n",
    "data_test['rfr_error'].mean()"
   ]
  },
  {
   "cell_type": "code",
   "execution_count": 48,
   "metadata": {},
   "outputs": [
    {
     "data": {
      "text/html": [
       "<div>\n",
       "<style scoped>\n",
       "    .dataframe tbody tr th:only-of-type {\n",
       "        vertical-align: middle;\n",
       "    }\n",
       "\n",
       "    .dataframe tbody tr th {\n",
       "        vertical-align: top;\n",
       "    }\n",
       "\n",
       "    .dataframe thead th {\n",
       "        text-align: right;\n",
       "    }\n",
       "</style>\n",
       "<table border=\"1\" class=\"dataframe\">\n",
       "  <thead>\n",
       "    <tr style=\"text-align: right;\">\n",
       "      <th></th>\n",
       "      <th>hour</th>\n",
       "      <th>lat</th>\n",
       "      <th>lon</th>\n",
       "      <th>point</th>\n",
       "      <th>sum</th>\n",
       "      <th>error</th>\n",
       "      <th>datetime</th>\n",
       "      <th>dayhour</th>\n",
       "      <th>weekday</th>\n",
       "      <th>is_holiday</th>\n",
       "      <th>rfr_predictions</th>\n",
       "      <th>rfr_error</th>\n",
       "    </tr>\n",
       "  </thead>\n",
       "  <tbody>\n",
       "    <tr>\n",
       "      <th>0</th>\n",
       "      <td>1582711200</td>\n",
       "      <td>59.934863</td>\n",
       "      <td>30.331616</td>\n",
       "      <td>0101000020E61000009BAC04C2E4543E40DB251193A9F7...</td>\n",
       "      <td>7</td>\n",
       "      <td>0.370265</td>\n",
       "      <td>2020-02-26 10:00:00</td>\n",
       "      <td>10</td>\n",
       "      <td>2</td>\n",
       "      <td>0</td>\n",
       "      <td>1.0</td>\n",
       "      <td>6.0</td>\n",
       "    </tr>\n",
       "    <tr>\n",
       "      <th>1</th>\n",
       "      <td>1581937200</td>\n",
       "      <td>59.940488</td>\n",
       "      <td>30.329370</td>\n",
       "      <td>0101000020E6100000DBC1F19351543E4006FC5DE561F8...</td>\n",
       "      <td>6</td>\n",
       "      <td>0.754735</td>\n",
       "      <td>2020-02-17 11:00:00</td>\n",
       "      <td>11</td>\n",
       "      <td>0</td>\n",
       "      <td>0</td>\n",
       "      <td>1.0</td>\n",
       "      <td>5.0</td>\n",
       "    </tr>\n",
       "    <tr>\n",
       "      <th>2</th>\n",
       "      <td>1581523200</td>\n",
       "      <td>59.905597</td>\n",
       "      <td>30.297929</td>\n",
       "      <td>0101000020E61000006AEBE80E454C3E407F614299EAF3...</td>\n",
       "      <td>5</td>\n",
       "      <td>3.754735</td>\n",
       "      <td>2020-02-12 16:00:00</td>\n",
       "      <td>16</td>\n",
       "      <td>2</td>\n",
       "      <td>0</td>\n",
       "      <td>1.0</td>\n",
       "      <td>4.0</td>\n",
       "    </tr>\n",
       "    <tr>\n",
       "      <th>3</th>\n",
       "      <td>1581512400</td>\n",
       "      <td>59.921359</td>\n",
       "      <td>30.356319</td>\n",
       "      <td>0101000020E6100000CFC2D4BC375B3E401FBF4913EFF5...</td>\n",
       "      <td>16</td>\n",
       "      <td>4.088069</td>\n",
       "      <td>2020-02-12 13:00:00</td>\n",
       "      <td>13</td>\n",
       "      <td>2</td>\n",
       "      <td>0</td>\n",
       "      <td>1.0</td>\n",
       "      <td>4.0</td>\n",
       "    </tr>\n",
       "    <tr>\n",
       "      <th>4</th>\n",
       "      <td>1581771600</td>\n",
       "      <td>59.939363</td>\n",
       "      <td>30.315895</td>\n",
       "      <td>0101000020E61000006141807FDE503E40A554BF083DF8...</td>\n",
       "      <td>10</td>\n",
       "      <td>2.088069</td>\n",
       "      <td>2020-02-15 13:00:00</td>\n",
       "      <td>13</td>\n",
       "      <td>5</td>\n",
       "      <td>0</td>\n",
       "      <td>1.0</td>\n",
       "      <td>5.0</td>\n",
       "    </tr>\n",
       "    <tr>\n",
       "      <th>...</th>\n",
       "      <td>...</td>\n",
       "      <td>...</td>\n",
       "      <td>...</td>\n",
       "      <td>...</td>\n",
       "      <td>...</td>\n",
       "      <td>...</td>\n",
       "      <td>...</td>\n",
       "      <td>...</td>\n",
       "      <td>...</td>\n",
       "      <td>...</td>\n",
       "      <td>...</td>\n",
       "      <td>...</td>\n",
       "    </tr>\n",
       "    <tr>\n",
       "      <th>695</th>\n",
       "      <td>1582059600</td>\n",
       "      <td>59.926986</td>\n",
       "      <td>30.331616</td>\n",
       "      <td>0101000020E61000009BAC04C2E4543E4070B5CC78A7F6...</td>\n",
       "      <td>6</td>\n",
       "      <td>0.754735</td>\n",
       "      <td>2020-02-18 21:00:00</td>\n",
       "      <td>21</td>\n",
       "      <td>1</td>\n",
       "      <td>0</td>\n",
       "      <td>1.0</td>\n",
       "      <td>4.0</td>\n",
       "    </tr>\n",
       "    <tr>\n",
       "      <th>696</th>\n",
       "      <td>1582038000</td>\n",
       "      <td>59.925860</td>\n",
       "      <td>30.295683</td>\n",
       "      <td>0101000020E6100000AB00D6E0B14B3E406379569882F6...</td>\n",
       "      <td>15</td>\n",
       "      <td>1.215399</td>\n",
       "      <td>2020-02-18 15:00:00</td>\n",
       "      <td>15</td>\n",
       "      <td>1</td>\n",
       "      <td>0</td>\n",
       "      <td>1.0</td>\n",
       "      <td>5.0</td>\n",
       "    </tr>\n",
       "    <tr>\n",
       "      <th>697</th>\n",
       "      <td>1581926400</td>\n",
       "      <td>59.937113</td>\n",
       "      <td>30.282208</td>\n",
       "      <td>0101000020E6100000328064CC3E483E400C288C4EF3F7...</td>\n",
       "      <td>20</td>\n",
       "      <td>18.754735</td>\n",
       "      <td>2020-02-17 08:00:00</td>\n",
       "      <td>8</td>\n",
       "      <td>0</td>\n",
       "      <td>0</td>\n",
       "      <td>1.0</td>\n",
       "      <td>6.0</td>\n",
       "    </tr>\n",
       "    <tr>\n",
       "      <th>698</th>\n",
       "      <td>1582099200</td>\n",
       "      <td>59.933737</td>\n",
       "      <td>30.322632</td>\n",
       "      <td>0101000020E61000009E01B90998523E407AB3D8B484F7...</td>\n",
       "      <td>8</td>\n",
       "      <td>2.754735</td>\n",
       "      <td>2020-02-19 08:00:00</td>\n",
       "      <td>8</td>\n",
       "      <td>2</td>\n",
       "      <td>0</td>\n",
       "      <td>1.0</td>\n",
       "      <td>4.0</td>\n",
       "    </tr>\n",
       "    <tr>\n",
       "      <th>699</th>\n",
       "      <td>1581764400</td>\n",
       "      <td>59.921359</td>\n",
       "      <td>30.356319</td>\n",
       "      <td>0101000020E6100000CFC2D4BC375B3E401FBF4913EFF5...</td>\n",
       "      <td>12</td>\n",
       "      <td>0.254735</td>\n",
       "      <td>2020-02-15 11:00:00</td>\n",
       "      <td>11</td>\n",
       "      <td>5</td>\n",
       "      <td>0</td>\n",
       "      <td>1.0</td>\n",
       "      <td>5.0</td>\n",
       "    </tr>\n",
       "  </tbody>\n",
       "</table>\n",
       "<p>700 rows × 12 columns</p>\n",
       "</div>"
      ],
      "text/plain": [
       "           hour        lat        lon  \\\n",
       "0    1582711200  59.934863  30.331616   \n",
       "1    1581937200  59.940488  30.329370   \n",
       "2    1581523200  59.905597  30.297929   \n",
       "3    1581512400  59.921359  30.356319   \n",
       "4    1581771600  59.939363  30.315895   \n",
       "..          ...        ...        ...   \n",
       "695  1582059600  59.926986  30.331616   \n",
       "696  1582038000  59.925860  30.295683   \n",
       "697  1581926400  59.937113  30.282208   \n",
       "698  1582099200  59.933737  30.322632   \n",
       "699  1581764400  59.921359  30.356319   \n",
       "\n",
       "                                                 point  sum      error  \\\n",
       "0    0101000020E61000009BAC04C2E4543E40DB251193A9F7...    7   0.370265   \n",
       "1    0101000020E6100000DBC1F19351543E4006FC5DE561F8...    6   0.754735   \n",
       "2    0101000020E61000006AEBE80E454C3E407F614299EAF3...    5   3.754735   \n",
       "3    0101000020E6100000CFC2D4BC375B3E401FBF4913EFF5...   16   4.088069   \n",
       "4    0101000020E61000006141807FDE503E40A554BF083DF8...   10   2.088069   \n",
       "..                                                 ...  ...        ...   \n",
       "695  0101000020E61000009BAC04C2E4543E4070B5CC78A7F6...    6   0.754735   \n",
       "696  0101000020E6100000AB00D6E0B14B3E406379569882F6...   15   1.215399   \n",
       "697  0101000020E6100000328064CC3E483E400C288C4EF3F7...   20  18.754735   \n",
       "698  0101000020E61000009E01B90998523E407AB3D8B484F7...    8   2.754735   \n",
       "699  0101000020E6100000CFC2D4BC375B3E401FBF4913EFF5...   12   0.254735   \n",
       "\n",
       "               datetime  dayhour  weekday  is_holiday  rfr_predictions  \\\n",
       "0   2020-02-26 10:00:00       10        2           0              1.0   \n",
       "1   2020-02-17 11:00:00       11        0           0              1.0   \n",
       "2   2020-02-12 16:00:00       16        2           0              1.0   \n",
       "3   2020-02-12 13:00:00       13        2           0              1.0   \n",
       "4   2020-02-15 13:00:00       13        5           0              1.0   \n",
       "..                  ...      ...      ...         ...              ...   \n",
       "695 2020-02-18 21:00:00       21        1           0              1.0   \n",
       "696 2020-02-18 15:00:00       15        1           0              1.0   \n",
       "697 2020-02-17 08:00:00        8        0           0              1.0   \n",
       "698 2020-02-19 08:00:00        8        2           0              1.0   \n",
       "699 2020-02-15 11:00:00       11        5           0              1.0   \n",
       "\n",
       "     rfr_error  \n",
       "0          6.0  \n",
       "1          5.0  \n",
       "2          4.0  \n",
       "3          4.0  \n",
       "4          5.0  \n",
       "..         ...  \n",
       "695        4.0  \n",
       "696        5.0  \n",
       "697        6.0  \n",
       "698        4.0  \n",
       "699        5.0  \n",
       "\n",
       "[700 rows x 12 columns]"
      ]
     },
     "execution_count": 48,
     "metadata": {},
     "output_type": "execute_result"
    }
   ],
   "source": [
    "data_test"
   ]
  },
  {
   "cell_type": "markdown",
   "metadata": {},
   "source": [
    "### validation data\n",
    "\n",
    "time = 48 s\n",
    "\n",
    "error = 0.86883"
   ]
  },
  {
   "cell_type": "code",
   "execution_count": 49,
   "metadata": {},
   "outputs": [
    {
     "data": {
      "application/vnd.jupyter.widget-view+json": {
       "model_id": "720acc57f7cb41e2868ccafa23af5f4f",
       "version_major": 2,
       "version_minor": 0
      },
      "text/plain": [
       "Output()"
      ]
     },
     "metadata": {},
     "output_type": "display_data"
    },
    {
     "data": {
      "text/html": [
       "<pre style=\"white-space:pre;overflow-x:auto;line-height:normal;font-family:Menlo,'DejaVu Sans Mono',consolas,'Courier New',monospace\"></pre>\n"
      ],
      "text/plain": []
     },
     "metadata": {},
     "output_type": "display_data"
    },
    {
     "data": {
      "text/html": [
       "<pre style=\"white-space:pre;overflow-x:auto;line-height:normal;font-family:Menlo,'DejaVu Sans Mono',consolas,'Courier New',monospace\">\n",
       "</pre>\n"
      ],
      "text/plain": [
       "\n"
      ]
     },
     "metadata": {},
     "output_type": "display_data"
    },
    {
     "name": "stdout",
     "output_type": "stream",
     "text": [
      "CPU times: user 47.8 s, sys: 63.1 ms, total: 47.9 s\n",
      "Wall time: 47.7 s\n"
     ]
    },
    {
     "data": {
      "text/plain": [
       "8.848396501457726"
      ]
     },
     "execution_count": 49,
     "metadata": {},
     "output_type": "execute_result"
    }
   ],
   "source": [
    "%%time\n",
    "data_val_rfr_error, data_val_predictions = rfr_model_fit_predict(data_train, data_val, RandomForestRegressor(n_estimators=100, max_depth=10, random_state=42))\n",
    "data_val_rfr_error = flatten(data_val_rfr_error)\n",
    "data_val_predictions = flatten(data_val_predictions)\n",
    "data_val['rfr_predictions'] = data_val_predictions\n",
    "data_val['rfr_error'] = data_val_rfr_error\n",
    "data_val['rfr_error'].mean()"
   ]
  },
  {
   "cell_type": "code",
   "execution_count": 50,
   "metadata": {},
   "outputs": [],
   "source": [
    "data_test.to_csv('data/test_rfr_predictions.csv')\n",
    "data_val.to_csv('data/val_rfr_predictions.csv')"
   ]
  }
 ],
 "metadata": {
  "kernelspec": {
   "display_name": "Python 3.9.13 ('indml')",
   "language": "python",
   "name": "python3"
  },
  "language_info": {
   "codemirror_mode": {
    "name": "ipython",
    "version": 3
   },
   "file_extension": ".py",
   "mimetype": "text/x-python",
   "name": "python",
   "nbconvert_exporter": "python",
   "pygments_lexer": "ipython3",
   "version": "3.9.13"
  },
  "orig_nbformat": 4,
  "vscode": {
   "interpreter": {
    "hash": "02902d8ec977eb7ac2114c5b569c3cebeb1ab04bf847c131eacd9d4311affd20"
   }
  }
 },
 "nbformat": 4,
 "nbformat_minor": 2
}
